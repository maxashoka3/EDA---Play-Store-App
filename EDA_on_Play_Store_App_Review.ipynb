{
  "nbformat": 4,
  "nbformat_minor": 0,
  "metadata": {
    "colab": {
      "provenance": [],
      "collapsed_sections": [
        "beRrZCGUAJYm",
        "FJNUwmbgGyua",
        "w6K7xa23Elo4",
        "yQaldy8SH6Dl",
        "PH-0ReGfmX4f",
        "mDgbUHAGgjLW",
        "Y3lxredqlCYt",
        "3RnN4peoiCZX",
        "x71ZqKXriCWQ",
        "7hBIi_osiCS2",
        "JlHwYmJAmNHm",
        "35m5QtbWiB9F",
        "PoPl-ycgm1ru",
        "H0kj-8xxnORC",
        "nA9Y7ga8ng1Z",
        "PBTbrJXOngz2",
        "dauF4eBmngu3",
        "bKJF3rekwFvQ",
        "RAQt-nVdGYyP",
        "8-97V1ZkIDOj",
        "ecTFFLNZAwK2",
        "bLSG5cIEG2fa",
        "ZJjbxm_lKr5K",
        "Pmh_mYgkKhG3",
        "j4-RJ0DJWxGY",
        "XpUhhCxVaaf_",
        "tEPAG9kPd4Dh",
        "6apA62eBeGHP",
        "PgtYyyRVzb5f",
        "MSa1f5Uengrz",
        "0wOQAZs5pc--",
        "K5QZ13OEpz2H",
        "KSlN3yHqYklG",
        "t6dVpIINYklI",
        "ijmpgYnKYklI",
        "-JiQyfWJYklI",
        "EM7whBJCYoAo",
        "fge-S5ZAYoAp",
        "85gYPyotYoAp",
        "RoGjAbkUYoAp",
        "4Of9eVA-YrdM",
        "iky9q4vBYrdO",
        "F6T5p64dYrdO",
        "y-Ehk30pYrdP",
        "bamQiAODYuh1",
        "QHF8YVU7Yuh3",
        "GwzvFGzlYuh3",
        "qYpmQ266Yuh3",
        "OH-pJp9IphqM",
        "bbFf2-_FphqN",
        "_ouA3fa0phqN",
        "Seke61FWphqN",
        "PIIx-8_IphqN",
        "t27r6nlMphqO",
        "r2jJGEOYphqO",
        "b0JNsNcRphqO",
        "BZR9WyysphqO",
        "jj7wYXLtphqO",
        "eZrbJ2SmphqO",
        "rFu4xreNphqO",
        "YJ55k-q6phqO",
        "gCFgpxoyphqP",
        "OVtJsKN_phqQ",
        "lssrdh5qphqQ",
        "U2RJ9gkRphqQ",
        "1M8mcRywphqQ",
        "tgIPom80phqQ",
        "JMzcOPDDphqR",
        "x-EpHcCOp1ci",
        "X_VqEhTip1ck",
        "8zGJKyg5p1ck",
        "PVzmfK_Ep1ck",
        "n3dbpmDWp1ck",
        "ylSl6qgtp1ck",
        "ZWILFDl5p1ck",
        "M7G43BXep1ck",
        "Ag9LCva-p1cl",
        "E6MkPsBcp1cl",
        "2cELzS2fp1cl",
        "3MPXvC8up1cl",
        "NC_X3p0fY2L0",
        "UV0SzAkaZNRQ",
        "YPEH6qLeZNRQ",
        "q29F0dvdveiT",
        "EXh0U9oCveiU",
        "22aHeOlLveiV",
        "8G2x9gOozGDZ",
        "gCX9965dhzqZ",
        "gIfDvo9L0UH2"
      ],
      "include_colab_link": true
    },
    "kernelspec": {
      "name": "python3",
      "display_name": "Python 3"
    },
    "language_info": {
      "name": "python"
    },
    "gpuClass": "standard"
  },
  "cells": [
    {
      "cell_type": "markdown",
      "metadata": {
        "id": "view-in-github",
        "colab_type": "text"
      },
      "source": [
        "<a href=\"https://colab.research.google.com/github/maxashoka3/EDA---Play-Store-App/blob/main/EDA_on_Play_Store_App_Review.ipynb\" target=\"_parent\"><img src=\"https://colab.research.google.com/assets/colab-badge.svg\" alt=\"Open In Colab\"/></a>"
      ]
    },
    {
      "cell_type": "markdown",
      "source": [
        "# **Project Name**    - Exploratory Data Analysis on Play Store App Review\n"
      ],
      "metadata": {
        "id": "vncDsAP0Gaoa"
      }
    },
    {
      "cell_type": "markdown",
      "source": [
        "##### **Project Type**    - EDA\n",
        "##### **Contribution**    - Individual\n"
      ],
      "metadata": {
        "id": "beRrZCGUAJYm"
      }
    },
    {
      "cell_type": "markdown",
      "source": [
        "# **Project Summary -**"
      ],
      "metadata": {
        "id": "FJNUwmbgGyua"
      }
    },
    {
      "cell_type": "markdown",
      "source": [
        "Write the summary here within 500-600 words."
      ],
      "metadata": {
        "id": "F6v_1wHtG2nS"
      }
    },
    {
      "cell_type": "markdown",
      "source": [
        "# **GitHub Link -**"
      ],
      "metadata": {
        "id": "w6K7xa23Elo4"
      }
    },
    {
      "cell_type": "markdown",
      "source": [
        "Provide your GitHub Link here."
      ],
      "metadata": {
        "id": "h1o69JH3Eqqn"
      }
    },
    {
      "cell_type": "markdown",
      "source": [
        "# **Problem Statement**\n"
      ],
      "metadata": {
        "id": "yQaldy8SH6Dl"
      }
    },
    {
      "cell_type": "markdown",
      "source": [
        "The Play Store apps data has enormous potential to drive app-making businesses to success. Actionable insights can be drawn for developers to work on and capture the Android market.\n",
        "Each app (row) has values for catergory, rating, size, and more. Another dataset contains customer reviews of the android apps.\n",
        "Explore and analyze the data to discover key factors responsible for app engagement and success.\n",
        "Description of App Dataset columns\n",
        "* App : The name of the app\n",
        "* Category : The category of the app\n",
        "* Rating : The rating of the app in the Play Store\n",
        "* Reviews : The number of reviews of the app\n",
        "* Size : The size of the app\n",
        "* Install : The number of installs of the app\n",
        "* Type : The type of the app (Free/Paid)\n",
        "* Price: The price of the app (0 if it is Free)\n",
        "* Content Rating : The appropiate target audience of the app\n",
        "* Genres: The genre of the app\n",
        "* Last Updated : The date when the app was last updated\n",
        "* Current Ver : The current version of the app\n",
        "* Android Ver : The minimum Android version required to run the app\n",
        "\n",
        "       'Android Ver\n",
        "The contents of User Reviews are:\n",
        "1. App: It contains the name of the app with a short description (optional).\n",
        "2. Translated_Review: It contains the English translation of the review dropped by the user of the app.\n",
        "3. Sentiment: It gives the attitude/emotion of the writer. It can be ‘Positive’, ‘Negative’, or ‘Neutral’.\n",
        "Sentiment_Polarity: It gives the polarity of the review. Its range is [-1,1], where 1 means ‘Positive statement’ and -1 means a ‘Negative statement’.\n",
        "4. Sentiment_Subjectivity: This value gives how close a reviewer’s opinion is to the opinion of the general public. Its range is [0,1]. Higher the subjectivity, closer is the reviewer’s opinion to the opinion of the general public, and lower subjectivity indicates the review is more of a factual information.\n"
      ],
      "metadata": {
        "id": "DpeJGUA3kjGy"
      }
    },
    {
      "cell_type": "markdown",
      "source": [
        "#### **Define Your Business Objective?**"
      ],
      "metadata": {
        "id": "PH-0ReGfmX4f"
      }
    },
    {
      "cell_type": "markdown",
      "source": [
        "To Perform EDA \n",
        "Explore all the columns "
      ],
      "metadata": {
        "id": "PhDvGCAqmjP1"
      }
    },
    {
      "cell_type": "markdown",
      "source": [
        "# **General Guidelines** : -  "
      ],
      "metadata": {
        "id": "mDgbUHAGgjLW"
      }
    },
    {
      "cell_type": "markdown",
      "source": [
        "1.   Well-structured, formatted, and commented code is required. \n",
        "2.   Exception Handling, Production Grade Code & Deployment Ready Code will be a plus. Those students will be awarded some additional credits. \n",
        "     \n",
        "     The additional credits will have advantages over other students during Star Student selection.\n",
        "       \n",
        "             [ Note: - Deployment Ready Code is defined as, the whole .ipynb notebook should be executable in one go\n",
        "                       without a single error logged. ]\n",
        "\n",
        "3.   Each and every logic should have proper comments.\n",
        "4. You may add as many number of charts you want. Make Sure for each and every chart the following format should be answered.\n",
        "        \n",
        "\n",
        "```\n",
        "# Chart visualization code\n",
        "```\n",
        "            \n",
        "\n",
        "*   Why did you pick the specific chart?\n",
        "*   What is/are the insight(s) found from the chart?\n",
        "* Will the gained insights help creating a positive business impact? \n",
        "Are there any insights that lead to negative growth? Justify with specific reason.\n",
        "\n",
        "5. You have to create at least 20 logical & meaningful charts having important insights.\n",
        "\n",
        "\n",
        "[ Hints : - Do the Vizualization in  a structured way while following \"UBM\" Rule. \n",
        "\n",
        "U - Univariate Analysis,\n",
        "\n",
        "B - Bivariate Analysis (Numerical - Categorical, Numerical - Numerical, Categorical - Categorical)\n",
        "\n",
        "M - Multivariate Analysis\n",
        " ]\n",
        "\n",
        "\n",
        "\n"
      ],
      "metadata": {
        "id": "ZrxVaUj-hHfC"
      }
    },
    {
      "cell_type": "markdown",
      "source": [
        "# ***Let's Begin !***"
      ],
      "metadata": {
        "id": "O_i_v8NEhb9l"
      }
    },
    {
      "cell_type": "markdown",
      "source": [
        "## ***1. Know Your Data***"
      ],
      "metadata": {
        "id": "HhfV-JJviCcP"
      }
    },
    {
      "cell_type": "markdown",
      "source": [
        "### Import Libraries"
      ],
      "metadata": {
        "id": "Y3lxredqlCYt"
      }
    },
    {
      "cell_type": "code",
      "source": [
        "# Import Libraries\n",
        "import numpy as np \n",
        "import pandas as pd\n",
        "import seaborn as sns\n",
        "import matplotlib.pyplot as plt\n",
        "%matplotlib inline\n",
        "\n",
        "# for worldcloud puzzle\n",
        "from wordcloud import WordCloud\n",
        "import warnings\n",
        "warnings.filterwarnings('ignore')\n"
      ],
      "metadata": {
        "id": "M8Vqi-pPk-HR"
      },
      "execution_count": 578,
      "outputs": []
    },
    {
      "cell_type": "code",
      "source": [
        "# Mounting the google drive\n",
        "from google.colab import drive\n",
        "drive.mount('/content/drive')"
      ],
      "metadata": {
        "colab": {
          "base_uri": "https://localhost:8080/"
        },
        "id": "BIT2AQ8M-eq5",
        "outputId": "c544196b-535d-4e57-d3af-19079af9aa2d"
      },
      "execution_count": 484,
      "outputs": [
        {
          "output_type": "stream",
          "name": "stdout",
          "text": [
            "Drive already mounted at /content/drive; to attempt to forcibly remount, call drive.mount(\"/content/drive\", force_remount=True).\n"
          ]
        }
      ]
    },
    {
      "cell_type": "markdown",
      "source": [
        "### Dataset Loading"
      ],
      "metadata": {
        "id": "3RnN4peoiCZX"
      }
    },
    {
      "cell_type": "code",
      "source": [
        "# Load Dataset\n",
        "store_df = pd.read_csv(\"/content/drive/MyDrive/AlmaBetter/Play Store App Review Analysis/Play Store Data.csv\")\n",
        "rating_df = pd.read_csv(\"/content/drive/MyDrive/AlmaBetter/Play Store App Review Analysis/User Reviews.csv\")"
      ],
      "metadata": {
        "id": "4CkvbW_SlZ_R"
      },
      "execution_count": 485,
      "outputs": []
    },
    {
      "cell_type": "markdown",
      "source": [
        "### Dataset First View"
      ],
      "metadata": {
        "id": "x71ZqKXriCWQ"
      }
    },
    {
      "cell_type": "code",
      "source": [
        "# first 5 records\n",
        "store_df.head()"
      ],
      "metadata": {
        "colab": {
          "base_uri": "https://localhost:8080/",
          "height": 0
        },
        "id": "mU87CJD2spt-",
        "outputId": "1d355e6d-e300-4066-b05e-ece4c38a2e70"
      },
      "execution_count": 486,
      "outputs": [
        {
          "output_type": "execute_result",
          "data": {
            "text/plain": [
              "                                                 App        Category  Rating  \\\n",
              "0     Photo Editor & Candy Camera & Grid & ScrapBook  ART_AND_DESIGN     4.1   \n",
              "1                                Coloring book moana  ART_AND_DESIGN     3.9   \n",
              "2  U Launcher Lite – FREE Live Cool Themes, Hide ...  ART_AND_DESIGN     4.7   \n",
              "3                              Sketch - Draw & Paint  ART_AND_DESIGN     4.5   \n",
              "4              Pixel Draw - Number Art Coloring Book  ART_AND_DESIGN     4.3   \n",
              "\n",
              "  Reviews  Size     Installs  Type Price Content Rating  \\\n",
              "0     159   19M      10,000+  Free     0       Everyone   \n",
              "1     967   14M     500,000+  Free     0       Everyone   \n",
              "2   87510  8.7M   5,000,000+  Free     0       Everyone   \n",
              "3  215644   25M  50,000,000+  Free     0           Teen   \n",
              "4     967  2.8M     100,000+  Free     0       Everyone   \n",
              "\n",
              "                      Genres      Last Updated         Current Ver  \\\n",
              "0               Art & Design   January 7, 2018               1.0.0   \n",
              "1  Art & Design;Pretend Play  January 15, 2018               2.0.0   \n",
              "2               Art & Design    August 1, 2018               1.2.4   \n",
              "3               Art & Design      June 8, 2018  Varies with device   \n",
              "4    Art & Design;Creativity     June 20, 2018                 1.1   \n",
              "\n",
              "    Android Ver  \n",
              "0  4.0.3 and up  \n",
              "1  4.0.3 and up  \n",
              "2  4.0.3 and up  \n",
              "3    4.2 and up  \n",
              "4    4.4 and up  "
            ],
            "text/html": [
              "\n",
              "  <div id=\"df-52a29430-913f-48bd-8f41-f08e755791ba\">\n",
              "    <div class=\"colab-df-container\">\n",
              "      <div>\n",
              "<style scoped>\n",
              "    .dataframe tbody tr th:only-of-type {\n",
              "        vertical-align: middle;\n",
              "    }\n",
              "\n",
              "    .dataframe tbody tr th {\n",
              "        vertical-align: top;\n",
              "    }\n",
              "\n",
              "    .dataframe thead th {\n",
              "        text-align: right;\n",
              "    }\n",
              "</style>\n",
              "<table border=\"1\" class=\"dataframe\">\n",
              "  <thead>\n",
              "    <tr style=\"text-align: right;\">\n",
              "      <th></th>\n",
              "      <th>App</th>\n",
              "      <th>Category</th>\n",
              "      <th>Rating</th>\n",
              "      <th>Reviews</th>\n",
              "      <th>Size</th>\n",
              "      <th>Installs</th>\n",
              "      <th>Type</th>\n",
              "      <th>Price</th>\n",
              "      <th>Content Rating</th>\n",
              "      <th>Genres</th>\n",
              "      <th>Last Updated</th>\n",
              "      <th>Current Ver</th>\n",
              "      <th>Android Ver</th>\n",
              "    </tr>\n",
              "  </thead>\n",
              "  <tbody>\n",
              "    <tr>\n",
              "      <th>0</th>\n",
              "      <td>Photo Editor &amp; Candy Camera &amp; Grid &amp; ScrapBook</td>\n",
              "      <td>ART_AND_DESIGN</td>\n",
              "      <td>4.1</td>\n",
              "      <td>159</td>\n",
              "      <td>19M</td>\n",
              "      <td>10,000+</td>\n",
              "      <td>Free</td>\n",
              "      <td>0</td>\n",
              "      <td>Everyone</td>\n",
              "      <td>Art &amp; Design</td>\n",
              "      <td>January 7, 2018</td>\n",
              "      <td>1.0.0</td>\n",
              "      <td>4.0.3 and up</td>\n",
              "    </tr>\n",
              "    <tr>\n",
              "      <th>1</th>\n",
              "      <td>Coloring book moana</td>\n",
              "      <td>ART_AND_DESIGN</td>\n",
              "      <td>3.9</td>\n",
              "      <td>967</td>\n",
              "      <td>14M</td>\n",
              "      <td>500,000+</td>\n",
              "      <td>Free</td>\n",
              "      <td>0</td>\n",
              "      <td>Everyone</td>\n",
              "      <td>Art &amp; Design;Pretend Play</td>\n",
              "      <td>January 15, 2018</td>\n",
              "      <td>2.0.0</td>\n",
              "      <td>4.0.3 and up</td>\n",
              "    </tr>\n",
              "    <tr>\n",
              "      <th>2</th>\n",
              "      <td>U Launcher Lite – FREE Live Cool Themes, Hide ...</td>\n",
              "      <td>ART_AND_DESIGN</td>\n",
              "      <td>4.7</td>\n",
              "      <td>87510</td>\n",
              "      <td>8.7M</td>\n",
              "      <td>5,000,000+</td>\n",
              "      <td>Free</td>\n",
              "      <td>0</td>\n",
              "      <td>Everyone</td>\n",
              "      <td>Art &amp; Design</td>\n",
              "      <td>August 1, 2018</td>\n",
              "      <td>1.2.4</td>\n",
              "      <td>4.0.3 and up</td>\n",
              "    </tr>\n",
              "    <tr>\n",
              "      <th>3</th>\n",
              "      <td>Sketch - Draw &amp; Paint</td>\n",
              "      <td>ART_AND_DESIGN</td>\n",
              "      <td>4.5</td>\n",
              "      <td>215644</td>\n",
              "      <td>25M</td>\n",
              "      <td>50,000,000+</td>\n",
              "      <td>Free</td>\n",
              "      <td>0</td>\n",
              "      <td>Teen</td>\n",
              "      <td>Art &amp; Design</td>\n",
              "      <td>June 8, 2018</td>\n",
              "      <td>Varies with device</td>\n",
              "      <td>4.2 and up</td>\n",
              "    </tr>\n",
              "    <tr>\n",
              "      <th>4</th>\n",
              "      <td>Pixel Draw - Number Art Coloring Book</td>\n",
              "      <td>ART_AND_DESIGN</td>\n",
              "      <td>4.3</td>\n",
              "      <td>967</td>\n",
              "      <td>2.8M</td>\n",
              "      <td>100,000+</td>\n",
              "      <td>Free</td>\n",
              "      <td>0</td>\n",
              "      <td>Everyone</td>\n",
              "      <td>Art &amp; Design;Creativity</td>\n",
              "      <td>June 20, 2018</td>\n",
              "      <td>1.1</td>\n",
              "      <td>4.4 and up</td>\n",
              "    </tr>\n",
              "  </tbody>\n",
              "</table>\n",
              "</div>\n",
              "      <button class=\"colab-df-convert\" onclick=\"convertToInteractive('df-52a29430-913f-48bd-8f41-f08e755791ba')\"\n",
              "              title=\"Convert this dataframe to an interactive table.\"\n",
              "              style=\"display:none;\">\n",
              "        \n",
              "  <svg xmlns=\"http://www.w3.org/2000/svg\" height=\"24px\"viewBox=\"0 0 24 24\"\n",
              "       width=\"24px\">\n",
              "    <path d=\"M0 0h24v24H0V0z\" fill=\"none\"/>\n",
              "    <path d=\"M18.56 5.44l.94 2.06.94-2.06 2.06-.94-2.06-.94-.94-2.06-.94 2.06-2.06.94zm-11 1L8.5 8.5l.94-2.06 2.06-.94-2.06-.94L8.5 2.5l-.94 2.06-2.06.94zm10 10l.94 2.06.94-2.06 2.06-.94-2.06-.94-.94-2.06-.94 2.06-2.06.94z\"/><path d=\"M17.41 7.96l-1.37-1.37c-.4-.4-.92-.59-1.43-.59-.52 0-1.04.2-1.43.59L10.3 9.45l-7.72 7.72c-.78.78-.78 2.05 0 2.83L4 21.41c.39.39.9.59 1.41.59.51 0 1.02-.2 1.41-.59l7.78-7.78 2.81-2.81c.8-.78.8-2.07 0-2.86zM5.41 20L4 18.59l7.72-7.72 1.47 1.35L5.41 20z\"/>\n",
              "  </svg>\n",
              "      </button>\n",
              "      \n",
              "  <style>\n",
              "    .colab-df-container {\n",
              "      display:flex;\n",
              "      flex-wrap:wrap;\n",
              "      gap: 12px;\n",
              "    }\n",
              "\n",
              "    .colab-df-convert {\n",
              "      background-color: #E8F0FE;\n",
              "      border: none;\n",
              "      border-radius: 50%;\n",
              "      cursor: pointer;\n",
              "      display: none;\n",
              "      fill: #1967D2;\n",
              "      height: 32px;\n",
              "      padding: 0 0 0 0;\n",
              "      width: 32px;\n",
              "    }\n",
              "\n",
              "    .colab-df-convert:hover {\n",
              "      background-color: #E2EBFA;\n",
              "      box-shadow: 0px 1px 2px rgba(60, 64, 67, 0.3), 0px 1px 3px 1px rgba(60, 64, 67, 0.15);\n",
              "      fill: #174EA6;\n",
              "    }\n",
              "\n",
              "    [theme=dark] .colab-df-convert {\n",
              "      background-color: #3B4455;\n",
              "      fill: #D2E3FC;\n",
              "    }\n",
              "\n",
              "    [theme=dark] .colab-df-convert:hover {\n",
              "      background-color: #434B5C;\n",
              "      box-shadow: 0px 1px 3px 1px rgba(0, 0, 0, 0.15);\n",
              "      filter: drop-shadow(0px 1px 2px rgba(0, 0, 0, 0.3));\n",
              "      fill: #FFFFFF;\n",
              "    }\n",
              "  </style>\n",
              "\n",
              "      <script>\n",
              "        const buttonEl =\n",
              "          document.querySelector('#df-52a29430-913f-48bd-8f41-f08e755791ba button.colab-df-convert');\n",
              "        buttonEl.style.display =\n",
              "          google.colab.kernel.accessAllowed ? 'block' : 'none';\n",
              "\n",
              "        async function convertToInteractive(key) {\n",
              "          const element = document.querySelector('#df-52a29430-913f-48bd-8f41-f08e755791ba');\n",
              "          const dataTable =\n",
              "            await google.colab.kernel.invokeFunction('convertToInteractive',\n",
              "                                                     [key], {});\n",
              "          if (!dataTable) return;\n",
              "\n",
              "          const docLinkHtml = 'Like what you see? Visit the ' +\n",
              "            '<a target=\"_blank\" href=https://colab.research.google.com/notebooks/data_table.ipynb>data table notebook</a>'\n",
              "            + ' to learn more about interactive tables.';\n",
              "          element.innerHTML = '';\n",
              "          dataTable['output_type'] = 'display_data';\n",
              "          await google.colab.output.renderOutput(dataTable, element);\n",
              "          const docLink = document.createElement('div');\n",
              "          docLink.innerHTML = docLinkHtml;\n",
              "          element.appendChild(docLink);\n",
              "        }\n",
              "      </script>\n",
              "    </div>\n",
              "  </div>\n",
              "  "
            ]
          },
          "metadata": {},
          "execution_count": 486
        }
      ]
    },
    {
      "cell_type": "code",
      "source": [
        "# watching the random sample of the store dataset\n",
        "store_df.sample(20)"
      ],
      "metadata": {
        "colab": {
          "base_uri": "https://localhost:8080/",
          "height": 0
        },
        "id": "G0HwhzLtsthV",
        "outputId": "b215a8d5-89d2-4b12-c008-5c495af6d11d"
      },
      "execution_count": 487,
      "outputs": [
        {
          "output_type": "execute_result",
          "data": {
            "text/plain": [
              "                                                     App            Category  \\\n",
              "7401                                           Mesure CI               TOOLS   \n",
              "9271                                   EF Mentor: Sounds              FAMILY   \n",
              "7666                         2-Player Co-op Zombie Shoot                GAME   \n",
              "6761                                      Black Survival              FAMILY   \n",
              "6603                                          BP Tracker  HEALTH_AND_FITNESS   \n",
              "3107    CityMaps2Go Plan Trips Travel Guide Offline Maps    TRAVEL_AND_LOCAL   \n",
              "957                                        Telemundo Now       ENTERTAINMENT   \n",
              "2124                                DC Super Hero Girls™              FAMILY   \n",
              "9395   Grand Bat Superhero Flying Assault Rescue Mission                GAME   \n",
              "871         StarTimes - Live International Champions Cup       ENTERTAINMENT   \n",
              "7036                                          Weather BZ             WEATHER   \n",
              "5215                     AI Draw | Art Filter for Selfie         PHOTOGRAPHY   \n",
              "2720                       Poshmark - Buy & Sell Fashion            SHOPPING   \n",
              "8494                                                  dk              FAMILY   \n",
              "8605                                           DN Driver              FAMILY   \n",
              "10704                                  FO STELIA Méaulte       COMMUNICATION   \n",
              "9384                              Driving School 3D 2017              FAMILY   \n",
              "2181                            Sounds for Toddlers FREE              FAMILY   \n",
              "845     Quizlet: Learn Languages & Vocab with Flashcards           EDUCATION   \n",
              "4313                        Discovery K!ds Play! Español              FAMILY   \n",
              "\n",
              "       Rating Reviews                Size     Installs  Type  Price  \\\n",
              "7401      NaN       9                6.6M         500+  Free      0   \n",
              "9271      NaN      19                6.9M       5,000+  Free      0   \n",
              "7666      4.2      33                 13M       1,000+  Free      0   \n",
              "6761      4.4   48451                 52M   1,000,000+  Free      0   \n",
              "6603      4.3      12                613k       1,000+  Free      0   \n",
              "3107      4.3   64713                 58M   1,000,000+  Free      0   \n",
              "957       3.9    8674                 19M   1,000,000+  Free      0   \n",
              "2124      4.3   43060                 95M   5,000,000+  Free      0   \n",
              "9395      4.4    1094                 37M     500,000+  Free      0   \n",
              "871       4.4   17682                9.7M   1,000,000+  Free      0   \n",
              "7036      4.4    8433                5.6M     100,000+  Free      0   \n",
              "5215      3.0      20                4.3M       1,000+  Paid  $2.99   \n",
              "2720      4.3   46153                 17M  10,000,000+  Free      0   \n",
              "8494      4.8       5                1.5M          10+  Free      0   \n",
              "8605      NaN       0                7.5M           5+  Free      0   \n",
              "10704     NaN       2                 18M         100+  Free      0   \n",
              "9384      3.9    5075                 48M     500,000+  Free      0   \n",
              "2181      4.4    6190                 23M   1,000,000+  Free      0   \n",
              "845       4.6  211856  Varies with device  10,000,000+  Free      0   \n",
              "4313      4.2   11263                 35M   1,000,000+  Free      0   \n",
              "\n",
              "      Content Rating                       Genres        Last Updated  \\\n",
              "7401        Everyone                        Tools     October 4, 2016   \n",
              "9271        Everyone                    Education     August 16, 2017   \n",
              "7666            Teen                       Action        July 1, 2018   \n",
              "6761            Teen                     Strategy      August 1, 2018   \n",
              "6603        Everyone             Health & Fitness   February 20, 2016   \n",
              "3107        Everyone               Travel & Local        June 9, 2018   \n",
              "957             Teen                Entertainment        May 25, 2018   \n",
              "2124        Everyone    Action;Action & Adventure       June 29, 2018   \n",
              "9395            Teen                       Action        July 9, 2018   \n",
              "871         Everyone                Entertainment      August 3, 2018   \n",
              "7036        Everyone                      Weather        June 6, 2018   \n",
              "5215        Everyone                  Photography       June 18, 2018   \n",
              "2720        Everyone                     Shopping      August 4, 2018   \n",
              "8494        Everyone                    Education  September 18, 2017   \n",
              "8605        Everyone                    Education        June 9, 2018   \n",
              "10704       Everyone                Communication   December 19, 2017   \n",
              "9384        Everyone                   Simulation       April 4, 2017   \n",
              "2181        Everyone        Educational;Education     August 24, 2015   \n",
              "845         Everyone                    Education      August 1, 2018   \n",
              "4313        Everyone  Entertainment;Music & Video         May 3, 2018   \n",
              "\n",
              "              Current Ver         Android Ver  \n",
              "7401                1.0.1          4.0 and up  \n",
              "9271          1.0.1.00613          4.1 and up  \n",
              "7666               1.0.13          2.3 and up  \n",
              "6761               4.6.00        4.0.3 and up  \n",
              "6603                1.0.0          5.0 and up  \n",
              "3107        10.9.8 (Play)          5.0 and up  \n",
              "957              3.3.1.42          4.4 and up  \n",
              "2124                2.8.0          4.0 and up  \n",
              "9395                  1.1          4.1 and up  \n",
              "871                   5.2        4.0.3 and up  \n",
              "7036        5.0.1 build 1          4.0 and up  \n",
              "5215                1.4.7          5.0 and up  \n",
              "2720             2.124.01          4.4 and up  \n",
              "8494                  1.0          2.3 and up  \n",
              "8605                1.0.2          4.1 and up  \n",
              "10704                 1.1          4.1 and up  \n",
              "9384                2.1.5          3.0 and up  \n",
              "2181                1.7.1          4.0 and up  \n",
              "845    Varies with device  Varies with device  \n",
              "4313           2.1.0.2173        4.0.3 and up  "
            ],
            "text/html": [
              "\n",
              "  <div id=\"df-b2fea7df-93e0-49b6-bb3f-295ccf0ecf0b\">\n",
              "    <div class=\"colab-df-container\">\n",
              "      <div>\n",
              "<style scoped>\n",
              "    .dataframe tbody tr th:only-of-type {\n",
              "        vertical-align: middle;\n",
              "    }\n",
              "\n",
              "    .dataframe tbody tr th {\n",
              "        vertical-align: top;\n",
              "    }\n",
              "\n",
              "    .dataframe thead th {\n",
              "        text-align: right;\n",
              "    }\n",
              "</style>\n",
              "<table border=\"1\" class=\"dataframe\">\n",
              "  <thead>\n",
              "    <tr style=\"text-align: right;\">\n",
              "      <th></th>\n",
              "      <th>App</th>\n",
              "      <th>Category</th>\n",
              "      <th>Rating</th>\n",
              "      <th>Reviews</th>\n",
              "      <th>Size</th>\n",
              "      <th>Installs</th>\n",
              "      <th>Type</th>\n",
              "      <th>Price</th>\n",
              "      <th>Content Rating</th>\n",
              "      <th>Genres</th>\n",
              "      <th>Last Updated</th>\n",
              "      <th>Current Ver</th>\n",
              "      <th>Android Ver</th>\n",
              "    </tr>\n",
              "  </thead>\n",
              "  <tbody>\n",
              "    <tr>\n",
              "      <th>7401</th>\n",
              "      <td>Mesure CI</td>\n",
              "      <td>TOOLS</td>\n",
              "      <td>NaN</td>\n",
              "      <td>9</td>\n",
              "      <td>6.6M</td>\n",
              "      <td>500+</td>\n",
              "      <td>Free</td>\n",
              "      <td>0</td>\n",
              "      <td>Everyone</td>\n",
              "      <td>Tools</td>\n",
              "      <td>October 4, 2016</td>\n",
              "      <td>1.0.1</td>\n",
              "      <td>4.0 and up</td>\n",
              "    </tr>\n",
              "    <tr>\n",
              "      <th>9271</th>\n",
              "      <td>EF Mentor: Sounds</td>\n",
              "      <td>FAMILY</td>\n",
              "      <td>NaN</td>\n",
              "      <td>19</td>\n",
              "      <td>6.9M</td>\n",
              "      <td>5,000+</td>\n",
              "      <td>Free</td>\n",
              "      <td>0</td>\n",
              "      <td>Everyone</td>\n",
              "      <td>Education</td>\n",
              "      <td>August 16, 2017</td>\n",
              "      <td>1.0.1.00613</td>\n",
              "      <td>4.1 and up</td>\n",
              "    </tr>\n",
              "    <tr>\n",
              "      <th>7666</th>\n",
              "      <td>2-Player Co-op Zombie Shoot</td>\n",
              "      <td>GAME</td>\n",
              "      <td>4.2</td>\n",
              "      <td>33</td>\n",
              "      <td>13M</td>\n",
              "      <td>1,000+</td>\n",
              "      <td>Free</td>\n",
              "      <td>0</td>\n",
              "      <td>Teen</td>\n",
              "      <td>Action</td>\n",
              "      <td>July 1, 2018</td>\n",
              "      <td>1.0.13</td>\n",
              "      <td>2.3 and up</td>\n",
              "    </tr>\n",
              "    <tr>\n",
              "      <th>6761</th>\n",
              "      <td>Black Survival</td>\n",
              "      <td>FAMILY</td>\n",
              "      <td>4.4</td>\n",
              "      <td>48451</td>\n",
              "      <td>52M</td>\n",
              "      <td>1,000,000+</td>\n",
              "      <td>Free</td>\n",
              "      <td>0</td>\n",
              "      <td>Teen</td>\n",
              "      <td>Strategy</td>\n",
              "      <td>August 1, 2018</td>\n",
              "      <td>4.6.00</td>\n",
              "      <td>4.0.3 and up</td>\n",
              "    </tr>\n",
              "    <tr>\n",
              "      <th>6603</th>\n",
              "      <td>BP Tracker</td>\n",
              "      <td>HEALTH_AND_FITNESS</td>\n",
              "      <td>4.3</td>\n",
              "      <td>12</td>\n",
              "      <td>613k</td>\n",
              "      <td>1,000+</td>\n",
              "      <td>Free</td>\n",
              "      <td>0</td>\n",
              "      <td>Everyone</td>\n",
              "      <td>Health &amp; Fitness</td>\n",
              "      <td>February 20, 2016</td>\n",
              "      <td>1.0.0</td>\n",
              "      <td>5.0 and up</td>\n",
              "    </tr>\n",
              "    <tr>\n",
              "      <th>3107</th>\n",
              "      <td>CityMaps2Go Plan Trips Travel Guide Offline Maps</td>\n",
              "      <td>TRAVEL_AND_LOCAL</td>\n",
              "      <td>4.3</td>\n",
              "      <td>64713</td>\n",
              "      <td>58M</td>\n",
              "      <td>1,000,000+</td>\n",
              "      <td>Free</td>\n",
              "      <td>0</td>\n",
              "      <td>Everyone</td>\n",
              "      <td>Travel &amp; Local</td>\n",
              "      <td>June 9, 2018</td>\n",
              "      <td>10.9.8 (Play)</td>\n",
              "      <td>5.0 and up</td>\n",
              "    </tr>\n",
              "    <tr>\n",
              "      <th>957</th>\n",
              "      <td>Telemundo Now</td>\n",
              "      <td>ENTERTAINMENT</td>\n",
              "      <td>3.9</td>\n",
              "      <td>8674</td>\n",
              "      <td>19M</td>\n",
              "      <td>1,000,000+</td>\n",
              "      <td>Free</td>\n",
              "      <td>0</td>\n",
              "      <td>Teen</td>\n",
              "      <td>Entertainment</td>\n",
              "      <td>May 25, 2018</td>\n",
              "      <td>3.3.1.42</td>\n",
              "      <td>4.4 and up</td>\n",
              "    </tr>\n",
              "    <tr>\n",
              "      <th>2124</th>\n",
              "      <td>DC Super Hero Girls™</td>\n",
              "      <td>FAMILY</td>\n",
              "      <td>4.3</td>\n",
              "      <td>43060</td>\n",
              "      <td>95M</td>\n",
              "      <td>5,000,000+</td>\n",
              "      <td>Free</td>\n",
              "      <td>0</td>\n",
              "      <td>Everyone</td>\n",
              "      <td>Action;Action &amp; Adventure</td>\n",
              "      <td>June 29, 2018</td>\n",
              "      <td>2.8.0</td>\n",
              "      <td>4.0 and up</td>\n",
              "    </tr>\n",
              "    <tr>\n",
              "      <th>9395</th>\n",
              "      <td>Grand Bat Superhero Flying Assault Rescue Mission</td>\n",
              "      <td>GAME</td>\n",
              "      <td>4.4</td>\n",
              "      <td>1094</td>\n",
              "      <td>37M</td>\n",
              "      <td>500,000+</td>\n",
              "      <td>Free</td>\n",
              "      <td>0</td>\n",
              "      <td>Teen</td>\n",
              "      <td>Action</td>\n",
              "      <td>July 9, 2018</td>\n",
              "      <td>1.1</td>\n",
              "      <td>4.1 and up</td>\n",
              "    </tr>\n",
              "    <tr>\n",
              "      <th>871</th>\n",
              "      <td>StarTimes - Live International Champions Cup</td>\n",
              "      <td>ENTERTAINMENT</td>\n",
              "      <td>4.4</td>\n",
              "      <td>17682</td>\n",
              "      <td>9.7M</td>\n",
              "      <td>1,000,000+</td>\n",
              "      <td>Free</td>\n",
              "      <td>0</td>\n",
              "      <td>Everyone</td>\n",
              "      <td>Entertainment</td>\n",
              "      <td>August 3, 2018</td>\n",
              "      <td>5.2</td>\n",
              "      <td>4.0.3 and up</td>\n",
              "    </tr>\n",
              "    <tr>\n",
              "      <th>7036</th>\n",
              "      <td>Weather BZ</td>\n",
              "      <td>WEATHER</td>\n",
              "      <td>4.4</td>\n",
              "      <td>8433</td>\n",
              "      <td>5.6M</td>\n",
              "      <td>100,000+</td>\n",
              "      <td>Free</td>\n",
              "      <td>0</td>\n",
              "      <td>Everyone</td>\n",
              "      <td>Weather</td>\n",
              "      <td>June 6, 2018</td>\n",
              "      <td>5.0.1 build 1</td>\n",
              "      <td>4.0 and up</td>\n",
              "    </tr>\n",
              "    <tr>\n",
              "      <th>5215</th>\n",
              "      <td>AI Draw | Art Filter for Selfie</td>\n",
              "      <td>PHOTOGRAPHY</td>\n",
              "      <td>3.0</td>\n",
              "      <td>20</td>\n",
              "      <td>4.3M</td>\n",
              "      <td>1,000+</td>\n",
              "      <td>Paid</td>\n",
              "      <td>$2.99</td>\n",
              "      <td>Everyone</td>\n",
              "      <td>Photography</td>\n",
              "      <td>June 18, 2018</td>\n",
              "      <td>1.4.7</td>\n",
              "      <td>5.0 and up</td>\n",
              "    </tr>\n",
              "    <tr>\n",
              "      <th>2720</th>\n",
              "      <td>Poshmark - Buy &amp; Sell Fashion</td>\n",
              "      <td>SHOPPING</td>\n",
              "      <td>4.3</td>\n",
              "      <td>46153</td>\n",
              "      <td>17M</td>\n",
              "      <td>10,000,000+</td>\n",
              "      <td>Free</td>\n",
              "      <td>0</td>\n",
              "      <td>Everyone</td>\n",
              "      <td>Shopping</td>\n",
              "      <td>August 4, 2018</td>\n",
              "      <td>2.124.01</td>\n",
              "      <td>4.4 and up</td>\n",
              "    </tr>\n",
              "    <tr>\n",
              "      <th>8494</th>\n",
              "      <td>dk</td>\n",
              "      <td>FAMILY</td>\n",
              "      <td>4.8</td>\n",
              "      <td>5</td>\n",
              "      <td>1.5M</td>\n",
              "      <td>10+</td>\n",
              "      <td>Free</td>\n",
              "      <td>0</td>\n",
              "      <td>Everyone</td>\n",
              "      <td>Education</td>\n",
              "      <td>September 18, 2017</td>\n",
              "      <td>1.0</td>\n",
              "      <td>2.3 and up</td>\n",
              "    </tr>\n",
              "    <tr>\n",
              "      <th>8605</th>\n",
              "      <td>DN Driver</td>\n",
              "      <td>FAMILY</td>\n",
              "      <td>NaN</td>\n",
              "      <td>0</td>\n",
              "      <td>7.5M</td>\n",
              "      <td>5+</td>\n",
              "      <td>Free</td>\n",
              "      <td>0</td>\n",
              "      <td>Everyone</td>\n",
              "      <td>Education</td>\n",
              "      <td>June 9, 2018</td>\n",
              "      <td>1.0.2</td>\n",
              "      <td>4.1 and up</td>\n",
              "    </tr>\n",
              "    <tr>\n",
              "      <th>10704</th>\n",
              "      <td>FO STELIA Méaulte</td>\n",
              "      <td>COMMUNICATION</td>\n",
              "      <td>NaN</td>\n",
              "      <td>2</td>\n",
              "      <td>18M</td>\n",
              "      <td>100+</td>\n",
              "      <td>Free</td>\n",
              "      <td>0</td>\n",
              "      <td>Everyone</td>\n",
              "      <td>Communication</td>\n",
              "      <td>December 19, 2017</td>\n",
              "      <td>1.1</td>\n",
              "      <td>4.1 and up</td>\n",
              "    </tr>\n",
              "    <tr>\n",
              "      <th>9384</th>\n",
              "      <td>Driving School 3D 2017</td>\n",
              "      <td>FAMILY</td>\n",
              "      <td>3.9</td>\n",
              "      <td>5075</td>\n",
              "      <td>48M</td>\n",
              "      <td>500,000+</td>\n",
              "      <td>Free</td>\n",
              "      <td>0</td>\n",
              "      <td>Everyone</td>\n",
              "      <td>Simulation</td>\n",
              "      <td>April 4, 2017</td>\n",
              "      <td>2.1.5</td>\n",
              "      <td>3.0 and up</td>\n",
              "    </tr>\n",
              "    <tr>\n",
              "      <th>2181</th>\n",
              "      <td>Sounds for Toddlers FREE</td>\n",
              "      <td>FAMILY</td>\n",
              "      <td>4.4</td>\n",
              "      <td>6190</td>\n",
              "      <td>23M</td>\n",
              "      <td>1,000,000+</td>\n",
              "      <td>Free</td>\n",
              "      <td>0</td>\n",
              "      <td>Everyone</td>\n",
              "      <td>Educational;Education</td>\n",
              "      <td>August 24, 2015</td>\n",
              "      <td>1.7.1</td>\n",
              "      <td>4.0 and up</td>\n",
              "    </tr>\n",
              "    <tr>\n",
              "      <th>845</th>\n",
              "      <td>Quizlet: Learn Languages &amp; Vocab with Flashcards</td>\n",
              "      <td>EDUCATION</td>\n",
              "      <td>4.6</td>\n",
              "      <td>211856</td>\n",
              "      <td>Varies with device</td>\n",
              "      <td>10,000,000+</td>\n",
              "      <td>Free</td>\n",
              "      <td>0</td>\n",
              "      <td>Everyone</td>\n",
              "      <td>Education</td>\n",
              "      <td>August 1, 2018</td>\n",
              "      <td>Varies with device</td>\n",
              "      <td>Varies with device</td>\n",
              "    </tr>\n",
              "    <tr>\n",
              "      <th>4313</th>\n",
              "      <td>Discovery K!ds Play! Español</td>\n",
              "      <td>FAMILY</td>\n",
              "      <td>4.2</td>\n",
              "      <td>11263</td>\n",
              "      <td>35M</td>\n",
              "      <td>1,000,000+</td>\n",
              "      <td>Free</td>\n",
              "      <td>0</td>\n",
              "      <td>Everyone</td>\n",
              "      <td>Entertainment;Music &amp; Video</td>\n",
              "      <td>May 3, 2018</td>\n",
              "      <td>2.1.0.2173</td>\n",
              "      <td>4.0.3 and up</td>\n",
              "    </tr>\n",
              "  </tbody>\n",
              "</table>\n",
              "</div>\n",
              "      <button class=\"colab-df-convert\" onclick=\"convertToInteractive('df-b2fea7df-93e0-49b6-bb3f-295ccf0ecf0b')\"\n",
              "              title=\"Convert this dataframe to an interactive table.\"\n",
              "              style=\"display:none;\">\n",
              "        \n",
              "  <svg xmlns=\"http://www.w3.org/2000/svg\" height=\"24px\"viewBox=\"0 0 24 24\"\n",
              "       width=\"24px\">\n",
              "    <path d=\"M0 0h24v24H0V0z\" fill=\"none\"/>\n",
              "    <path d=\"M18.56 5.44l.94 2.06.94-2.06 2.06-.94-2.06-.94-.94-2.06-.94 2.06-2.06.94zm-11 1L8.5 8.5l.94-2.06 2.06-.94-2.06-.94L8.5 2.5l-.94 2.06-2.06.94zm10 10l.94 2.06.94-2.06 2.06-.94-2.06-.94-.94-2.06-.94 2.06-2.06.94z\"/><path d=\"M17.41 7.96l-1.37-1.37c-.4-.4-.92-.59-1.43-.59-.52 0-1.04.2-1.43.59L10.3 9.45l-7.72 7.72c-.78.78-.78 2.05 0 2.83L4 21.41c.39.39.9.59 1.41.59.51 0 1.02-.2 1.41-.59l7.78-7.78 2.81-2.81c.8-.78.8-2.07 0-2.86zM5.41 20L4 18.59l7.72-7.72 1.47 1.35L5.41 20z\"/>\n",
              "  </svg>\n",
              "      </button>\n",
              "      \n",
              "  <style>\n",
              "    .colab-df-container {\n",
              "      display:flex;\n",
              "      flex-wrap:wrap;\n",
              "      gap: 12px;\n",
              "    }\n",
              "\n",
              "    .colab-df-convert {\n",
              "      background-color: #E8F0FE;\n",
              "      border: none;\n",
              "      border-radius: 50%;\n",
              "      cursor: pointer;\n",
              "      display: none;\n",
              "      fill: #1967D2;\n",
              "      height: 32px;\n",
              "      padding: 0 0 0 0;\n",
              "      width: 32px;\n",
              "    }\n",
              "\n",
              "    .colab-df-convert:hover {\n",
              "      background-color: #E2EBFA;\n",
              "      box-shadow: 0px 1px 2px rgba(60, 64, 67, 0.3), 0px 1px 3px 1px rgba(60, 64, 67, 0.15);\n",
              "      fill: #174EA6;\n",
              "    }\n",
              "\n",
              "    [theme=dark] .colab-df-convert {\n",
              "      background-color: #3B4455;\n",
              "      fill: #D2E3FC;\n",
              "    }\n",
              "\n",
              "    [theme=dark] .colab-df-convert:hover {\n",
              "      background-color: #434B5C;\n",
              "      box-shadow: 0px 1px 3px 1px rgba(0, 0, 0, 0.15);\n",
              "      filter: drop-shadow(0px 1px 2px rgba(0, 0, 0, 0.3));\n",
              "      fill: #FFFFFF;\n",
              "    }\n",
              "  </style>\n",
              "\n",
              "      <script>\n",
              "        const buttonEl =\n",
              "          document.querySelector('#df-b2fea7df-93e0-49b6-bb3f-295ccf0ecf0b button.colab-df-convert');\n",
              "        buttonEl.style.display =\n",
              "          google.colab.kernel.accessAllowed ? 'block' : 'none';\n",
              "\n",
              "        async function convertToInteractive(key) {\n",
              "          const element = document.querySelector('#df-b2fea7df-93e0-49b6-bb3f-295ccf0ecf0b');\n",
              "          const dataTable =\n",
              "            await google.colab.kernel.invokeFunction('convertToInteractive',\n",
              "                                                     [key], {});\n",
              "          if (!dataTable) return;\n",
              "\n",
              "          const docLinkHtml = 'Like what you see? Visit the ' +\n",
              "            '<a target=\"_blank\" href=https://colab.research.google.com/notebooks/data_table.ipynb>data table notebook</a>'\n",
              "            + ' to learn more about interactive tables.';\n",
              "          element.innerHTML = '';\n",
              "          dataTable['output_type'] = 'display_data';\n",
              "          await google.colab.output.renderOutput(dataTable, element);\n",
              "          const docLink = document.createElement('div');\n",
              "          docLink.innerHTML = docLinkHtml;\n",
              "          element.appendChild(docLink);\n",
              "        }\n",
              "      </script>\n",
              "    </div>\n",
              "  </div>\n",
              "  "
            ]
          },
          "metadata": {},
          "execution_count": 487
        }
      ]
    },
    {
      "cell_type": "code",
      "source": [
        "# watching the first 5 record of the rating dataset\n",
        "rating_df.head()"
      ],
      "metadata": {
        "colab": {
          "base_uri": "https://localhost:8080/",
          "height": 0
        },
        "id": "P615UqsTuSy_",
        "outputId": "6edfee6f-6982-40b0-eff3-a4f5f481dbe6"
      },
      "execution_count": 488,
      "outputs": [
        {
          "output_type": "execute_result",
          "data": {
            "text/plain": [
              "                     App                                  Translated_Review  \\\n",
              "0  10 Best Foods for You  I like eat delicious food. That's I'm cooking ...   \n",
              "1  10 Best Foods for You    This help eating healthy exercise regular basis   \n",
              "2  10 Best Foods for You                                                NaN   \n",
              "3  10 Best Foods for You         Works great especially going grocery store   \n",
              "4  10 Best Foods for You                                       Best idea us   \n",
              "\n",
              "  Sentiment  Sentiment_Polarity  Sentiment_Subjectivity  \n",
              "0  Positive                1.00                0.533333  \n",
              "1  Positive                0.25                0.288462  \n",
              "2       NaN                 NaN                     NaN  \n",
              "3  Positive                0.40                0.875000  \n",
              "4  Positive                1.00                0.300000  "
            ],
            "text/html": [
              "\n",
              "  <div id=\"df-e265d050-4c8d-4fc9-acf5-829b55711d33\">\n",
              "    <div class=\"colab-df-container\">\n",
              "      <div>\n",
              "<style scoped>\n",
              "    .dataframe tbody tr th:only-of-type {\n",
              "        vertical-align: middle;\n",
              "    }\n",
              "\n",
              "    .dataframe tbody tr th {\n",
              "        vertical-align: top;\n",
              "    }\n",
              "\n",
              "    .dataframe thead th {\n",
              "        text-align: right;\n",
              "    }\n",
              "</style>\n",
              "<table border=\"1\" class=\"dataframe\">\n",
              "  <thead>\n",
              "    <tr style=\"text-align: right;\">\n",
              "      <th></th>\n",
              "      <th>App</th>\n",
              "      <th>Translated_Review</th>\n",
              "      <th>Sentiment</th>\n",
              "      <th>Sentiment_Polarity</th>\n",
              "      <th>Sentiment_Subjectivity</th>\n",
              "    </tr>\n",
              "  </thead>\n",
              "  <tbody>\n",
              "    <tr>\n",
              "      <th>0</th>\n",
              "      <td>10 Best Foods for You</td>\n",
              "      <td>I like eat delicious food. That's I'm cooking ...</td>\n",
              "      <td>Positive</td>\n",
              "      <td>1.00</td>\n",
              "      <td>0.533333</td>\n",
              "    </tr>\n",
              "    <tr>\n",
              "      <th>1</th>\n",
              "      <td>10 Best Foods for You</td>\n",
              "      <td>This help eating healthy exercise regular basis</td>\n",
              "      <td>Positive</td>\n",
              "      <td>0.25</td>\n",
              "      <td>0.288462</td>\n",
              "    </tr>\n",
              "    <tr>\n",
              "      <th>2</th>\n",
              "      <td>10 Best Foods for You</td>\n",
              "      <td>NaN</td>\n",
              "      <td>NaN</td>\n",
              "      <td>NaN</td>\n",
              "      <td>NaN</td>\n",
              "    </tr>\n",
              "    <tr>\n",
              "      <th>3</th>\n",
              "      <td>10 Best Foods for You</td>\n",
              "      <td>Works great especially going grocery store</td>\n",
              "      <td>Positive</td>\n",
              "      <td>0.40</td>\n",
              "      <td>0.875000</td>\n",
              "    </tr>\n",
              "    <tr>\n",
              "      <th>4</th>\n",
              "      <td>10 Best Foods for You</td>\n",
              "      <td>Best idea us</td>\n",
              "      <td>Positive</td>\n",
              "      <td>1.00</td>\n",
              "      <td>0.300000</td>\n",
              "    </tr>\n",
              "  </tbody>\n",
              "</table>\n",
              "</div>\n",
              "      <button class=\"colab-df-convert\" onclick=\"convertToInteractive('df-e265d050-4c8d-4fc9-acf5-829b55711d33')\"\n",
              "              title=\"Convert this dataframe to an interactive table.\"\n",
              "              style=\"display:none;\">\n",
              "        \n",
              "  <svg xmlns=\"http://www.w3.org/2000/svg\" height=\"24px\"viewBox=\"0 0 24 24\"\n",
              "       width=\"24px\">\n",
              "    <path d=\"M0 0h24v24H0V0z\" fill=\"none\"/>\n",
              "    <path d=\"M18.56 5.44l.94 2.06.94-2.06 2.06-.94-2.06-.94-.94-2.06-.94 2.06-2.06.94zm-11 1L8.5 8.5l.94-2.06 2.06-.94-2.06-.94L8.5 2.5l-.94 2.06-2.06.94zm10 10l.94 2.06.94-2.06 2.06-.94-2.06-.94-.94-2.06-.94 2.06-2.06.94z\"/><path d=\"M17.41 7.96l-1.37-1.37c-.4-.4-.92-.59-1.43-.59-.52 0-1.04.2-1.43.59L10.3 9.45l-7.72 7.72c-.78.78-.78 2.05 0 2.83L4 21.41c.39.39.9.59 1.41.59.51 0 1.02-.2 1.41-.59l7.78-7.78 2.81-2.81c.8-.78.8-2.07 0-2.86zM5.41 20L4 18.59l7.72-7.72 1.47 1.35L5.41 20z\"/>\n",
              "  </svg>\n",
              "      </button>\n",
              "      \n",
              "  <style>\n",
              "    .colab-df-container {\n",
              "      display:flex;\n",
              "      flex-wrap:wrap;\n",
              "      gap: 12px;\n",
              "    }\n",
              "\n",
              "    .colab-df-convert {\n",
              "      background-color: #E8F0FE;\n",
              "      border: none;\n",
              "      border-radius: 50%;\n",
              "      cursor: pointer;\n",
              "      display: none;\n",
              "      fill: #1967D2;\n",
              "      height: 32px;\n",
              "      padding: 0 0 0 0;\n",
              "      width: 32px;\n",
              "    }\n",
              "\n",
              "    .colab-df-convert:hover {\n",
              "      background-color: #E2EBFA;\n",
              "      box-shadow: 0px 1px 2px rgba(60, 64, 67, 0.3), 0px 1px 3px 1px rgba(60, 64, 67, 0.15);\n",
              "      fill: #174EA6;\n",
              "    }\n",
              "\n",
              "    [theme=dark] .colab-df-convert {\n",
              "      background-color: #3B4455;\n",
              "      fill: #D2E3FC;\n",
              "    }\n",
              "\n",
              "    [theme=dark] .colab-df-convert:hover {\n",
              "      background-color: #434B5C;\n",
              "      box-shadow: 0px 1px 3px 1px rgba(0, 0, 0, 0.15);\n",
              "      filter: drop-shadow(0px 1px 2px rgba(0, 0, 0, 0.3));\n",
              "      fill: #FFFFFF;\n",
              "    }\n",
              "  </style>\n",
              "\n",
              "      <script>\n",
              "        const buttonEl =\n",
              "          document.querySelector('#df-e265d050-4c8d-4fc9-acf5-829b55711d33 button.colab-df-convert');\n",
              "        buttonEl.style.display =\n",
              "          google.colab.kernel.accessAllowed ? 'block' : 'none';\n",
              "\n",
              "        async function convertToInteractive(key) {\n",
              "          const element = document.querySelector('#df-e265d050-4c8d-4fc9-acf5-829b55711d33');\n",
              "          const dataTable =\n",
              "            await google.colab.kernel.invokeFunction('convertToInteractive',\n",
              "                                                     [key], {});\n",
              "          if (!dataTable) return;\n",
              "\n",
              "          const docLinkHtml = 'Like what you see? Visit the ' +\n",
              "            '<a target=\"_blank\" href=https://colab.research.google.com/notebooks/data_table.ipynb>data table notebook</a>'\n",
              "            + ' to learn more about interactive tables.';\n",
              "          element.innerHTML = '';\n",
              "          dataTable['output_type'] = 'display_data';\n",
              "          await google.colab.output.renderOutput(dataTable, element);\n",
              "          const docLink = document.createElement('div');\n",
              "          docLink.innerHTML = docLinkHtml;\n",
              "          element.appendChild(docLink);\n",
              "        }\n",
              "      </script>\n",
              "    </div>\n",
              "  </div>\n",
              "  "
            ]
          },
          "metadata": {},
          "execution_count": 488
        }
      ]
    },
    {
      "cell_type": "code",
      "source": [
        "# viewing the top 20 records to the rating dataset\n",
        "rating_df.sample(20)"
      ],
      "metadata": {
        "colab": {
          "base_uri": "https://localhost:8080/",
          "height": 0
        },
        "id": "znx293ptub2B",
        "outputId": "cfc4a7cc-836f-4917-eb02-bf91cea9537a"
      },
      "execution_count": 489,
      "outputs": [
        {
          "output_type": "execute_result",
          "data": {
            "text/plain": [
              "                                                     App  \\\n",
              "30345                              Create A Superhero HD   \n",
              "17713                        Brightest Flashlight Free ®   \n",
              "37988                      EMT Tutor NREMT-B Study Guide   \n",
              "51555                       GPS Speedometer and Odometer   \n",
              "16348                       Blood Pressure Log - MyDiary   \n",
              "20462                           COOKING MAMA Let's Cook!   \n",
              "12289                        Banfield Pet Health Tracker   \n",
              "51956                       Galaxy Attack: Alien Shooter   \n",
              "13942                         Been Together (Ad) - D-day   \n",
              "64223                     Housing-Real Estate & Property   \n",
              "58462                                    HD Camera Ultra   \n",
              "31815  DEAD TARGET: FPS Zombie Apocalypse Survival Games   \n",
              "51148                                 GMAT Question Bank   \n",
              "5015                                              Airbnb   \n",
              "53217                          Genius Scan - PDF Scanner   \n",
              "37516   Dungeon Hunter Champions: Epic Online Action RPG   \n",
              "59923                      Hangouts Dialer - Call Phones   \n",
              "40112                         English Persian Dictionary   \n",
              "27590                                  Clover Dating App   \n",
              "21591                     Calorie Counter & Diet Tracker   \n",
              "\n",
              "                                       Translated_Review Sentiment  \\\n",
              "30345                                                NaN       NaN   \n",
              "17713                                                NaN       NaN   \n",
              "37988                                                NaN       NaN   \n",
              "51555                                                NaN       NaN   \n",
              "16348  This saved life. I episodes sudden large spike...  Positive   \n",
              "20462                                        It's kawaii   Neutral   \n",
              "12289  Love Everything easily accessible, vaccines I ...  Positive   \n",
              "51956  I much like game year ago I deleted I spent lo...  Negative   \n",
              "13942                                                NaN       NaN   \n",
              "64223  If photos posted portal load, fit purpose. I'm...  Positive   \n",
              "58462                                                NaN       NaN   \n",
              "31815                       Very haunted dangerous games  Negative   \n",
              "51148                                                NaN       NaN   \n",
              "5015   It great secure reliable. I would say days ens...  Positive   \n",
              "53217                                                NaN       NaN   \n",
              "37516  Keeps asking rate.... rating goes every time I...   Neutral   \n",
              "59923                                                NaN       NaN   \n",
              "40112                                                NaN       NaN   \n",
              "27590                                                NaN       NaN   \n",
              "21591  I love easy keep track food, calories, fats ca...  Positive   \n",
              "\n",
              "       Sentiment_Polarity  Sentiment_Subjectivity  \n",
              "30345                 NaN                     NaN  \n",
              "17713                 NaN                     NaN  \n",
              "37988                 NaN                     NaN  \n",
              "51555                 NaN                     NaN  \n",
              "16348            0.054665                0.466394  \n",
              "20462            0.000000                0.000000  \n",
              "12289            0.156667                0.383333  \n",
              "51956           -0.100000                0.183333  \n",
              "13942                 NaN                     NaN  \n",
              "64223            0.225000                0.447222  \n",
              "58462                 NaN                     NaN  \n",
              "31815           -0.200000                0.600000  \n",
              "51148                 NaN                     NaN  \n",
              "5015             0.321667                0.546667  \n",
              "53217                 NaN                     NaN  \n",
              "37516            0.000000                0.000000  \n",
              "59923                 NaN                     NaN  \n",
              "40112                 NaN                     NaN  \n",
              "27590                 NaN                     NaN  \n",
              "21591            0.483333                0.608333  "
            ],
            "text/html": [
              "\n",
              "  <div id=\"df-60bd344f-987c-4c9e-b397-f81685292a7d\">\n",
              "    <div class=\"colab-df-container\">\n",
              "      <div>\n",
              "<style scoped>\n",
              "    .dataframe tbody tr th:only-of-type {\n",
              "        vertical-align: middle;\n",
              "    }\n",
              "\n",
              "    .dataframe tbody tr th {\n",
              "        vertical-align: top;\n",
              "    }\n",
              "\n",
              "    .dataframe thead th {\n",
              "        text-align: right;\n",
              "    }\n",
              "</style>\n",
              "<table border=\"1\" class=\"dataframe\">\n",
              "  <thead>\n",
              "    <tr style=\"text-align: right;\">\n",
              "      <th></th>\n",
              "      <th>App</th>\n",
              "      <th>Translated_Review</th>\n",
              "      <th>Sentiment</th>\n",
              "      <th>Sentiment_Polarity</th>\n",
              "      <th>Sentiment_Subjectivity</th>\n",
              "    </tr>\n",
              "  </thead>\n",
              "  <tbody>\n",
              "    <tr>\n",
              "      <th>30345</th>\n",
              "      <td>Create A Superhero HD</td>\n",
              "      <td>NaN</td>\n",
              "      <td>NaN</td>\n",
              "      <td>NaN</td>\n",
              "      <td>NaN</td>\n",
              "    </tr>\n",
              "    <tr>\n",
              "      <th>17713</th>\n",
              "      <td>Brightest Flashlight Free ®</td>\n",
              "      <td>NaN</td>\n",
              "      <td>NaN</td>\n",
              "      <td>NaN</td>\n",
              "      <td>NaN</td>\n",
              "    </tr>\n",
              "    <tr>\n",
              "      <th>37988</th>\n",
              "      <td>EMT Tutor NREMT-B Study Guide</td>\n",
              "      <td>NaN</td>\n",
              "      <td>NaN</td>\n",
              "      <td>NaN</td>\n",
              "      <td>NaN</td>\n",
              "    </tr>\n",
              "    <tr>\n",
              "      <th>51555</th>\n",
              "      <td>GPS Speedometer and Odometer</td>\n",
              "      <td>NaN</td>\n",
              "      <td>NaN</td>\n",
              "      <td>NaN</td>\n",
              "      <td>NaN</td>\n",
              "    </tr>\n",
              "    <tr>\n",
              "      <th>16348</th>\n",
              "      <td>Blood Pressure Log - MyDiary</td>\n",
              "      <td>This saved life. I episodes sudden large spike...</td>\n",
              "      <td>Positive</td>\n",
              "      <td>0.054665</td>\n",
              "      <td>0.466394</td>\n",
              "    </tr>\n",
              "    <tr>\n",
              "      <th>20462</th>\n",
              "      <td>COOKING MAMA Let's Cook!</td>\n",
              "      <td>It's kawaii</td>\n",
              "      <td>Neutral</td>\n",
              "      <td>0.000000</td>\n",
              "      <td>0.000000</td>\n",
              "    </tr>\n",
              "    <tr>\n",
              "      <th>12289</th>\n",
              "      <td>Banfield Pet Health Tracker</td>\n",
              "      <td>Love Everything easily accessible, vaccines I ...</td>\n",
              "      <td>Positive</td>\n",
              "      <td>0.156667</td>\n",
              "      <td>0.383333</td>\n",
              "    </tr>\n",
              "    <tr>\n",
              "      <th>51956</th>\n",
              "      <td>Galaxy Attack: Alien Shooter</td>\n",
              "      <td>I much like game year ago I deleted I spent lo...</td>\n",
              "      <td>Negative</td>\n",
              "      <td>-0.100000</td>\n",
              "      <td>0.183333</td>\n",
              "    </tr>\n",
              "    <tr>\n",
              "      <th>13942</th>\n",
              "      <td>Been Together (Ad) - D-day</td>\n",
              "      <td>NaN</td>\n",
              "      <td>NaN</td>\n",
              "      <td>NaN</td>\n",
              "      <td>NaN</td>\n",
              "    </tr>\n",
              "    <tr>\n",
              "      <th>64223</th>\n",
              "      <td>Housing-Real Estate &amp; Property</td>\n",
              "      <td>If photos posted portal load, fit purpose. I'm...</td>\n",
              "      <td>Positive</td>\n",
              "      <td>0.225000</td>\n",
              "      <td>0.447222</td>\n",
              "    </tr>\n",
              "    <tr>\n",
              "      <th>58462</th>\n",
              "      <td>HD Camera Ultra</td>\n",
              "      <td>NaN</td>\n",
              "      <td>NaN</td>\n",
              "      <td>NaN</td>\n",
              "      <td>NaN</td>\n",
              "    </tr>\n",
              "    <tr>\n",
              "      <th>31815</th>\n",
              "      <td>DEAD TARGET: FPS Zombie Apocalypse Survival Games</td>\n",
              "      <td>Very haunted dangerous games</td>\n",
              "      <td>Negative</td>\n",
              "      <td>-0.200000</td>\n",
              "      <td>0.600000</td>\n",
              "    </tr>\n",
              "    <tr>\n",
              "      <th>51148</th>\n",
              "      <td>GMAT Question Bank</td>\n",
              "      <td>NaN</td>\n",
              "      <td>NaN</td>\n",
              "      <td>NaN</td>\n",
              "      <td>NaN</td>\n",
              "    </tr>\n",
              "    <tr>\n",
              "      <th>5015</th>\n",
              "      <td>Airbnb</td>\n",
              "      <td>It great secure reliable. I would say days ens...</td>\n",
              "      <td>Positive</td>\n",
              "      <td>0.321667</td>\n",
              "      <td>0.546667</td>\n",
              "    </tr>\n",
              "    <tr>\n",
              "      <th>53217</th>\n",
              "      <td>Genius Scan - PDF Scanner</td>\n",
              "      <td>NaN</td>\n",
              "      <td>NaN</td>\n",
              "      <td>NaN</td>\n",
              "      <td>NaN</td>\n",
              "    </tr>\n",
              "    <tr>\n",
              "      <th>37516</th>\n",
              "      <td>Dungeon Hunter Champions: Epic Online Action RPG</td>\n",
              "      <td>Keeps asking rate.... rating goes every time I...</td>\n",
              "      <td>Neutral</td>\n",
              "      <td>0.000000</td>\n",
              "      <td>0.000000</td>\n",
              "    </tr>\n",
              "    <tr>\n",
              "      <th>59923</th>\n",
              "      <td>Hangouts Dialer - Call Phones</td>\n",
              "      <td>NaN</td>\n",
              "      <td>NaN</td>\n",
              "      <td>NaN</td>\n",
              "      <td>NaN</td>\n",
              "    </tr>\n",
              "    <tr>\n",
              "      <th>40112</th>\n",
              "      <td>English Persian Dictionary</td>\n",
              "      <td>NaN</td>\n",
              "      <td>NaN</td>\n",
              "      <td>NaN</td>\n",
              "      <td>NaN</td>\n",
              "    </tr>\n",
              "    <tr>\n",
              "      <th>27590</th>\n",
              "      <td>Clover Dating App</td>\n",
              "      <td>NaN</td>\n",
              "      <td>NaN</td>\n",
              "      <td>NaN</td>\n",
              "      <td>NaN</td>\n",
              "    </tr>\n",
              "    <tr>\n",
              "      <th>21591</th>\n",
              "      <td>Calorie Counter &amp; Diet Tracker</td>\n",
              "      <td>I love easy keep track food, calories, fats ca...</td>\n",
              "      <td>Positive</td>\n",
              "      <td>0.483333</td>\n",
              "      <td>0.608333</td>\n",
              "    </tr>\n",
              "  </tbody>\n",
              "</table>\n",
              "</div>\n",
              "      <button class=\"colab-df-convert\" onclick=\"convertToInteractive('df-60bd344f-987c-4c9e-b397-f81685292a7d')\"\n",
              "              title=\"Convert this dataframe to an interactive table.\"\n",
              "              style=\"display:none;\">\n",
              "        \n",
              "  <svg xmlns=\"http://www.w3.org/2000/svg\" height=\"24px\"viewBox=\"0 0 24 24\"\n",
              "       width=\"24px\">\n",
              "    <path d=\"M0 0h24v24H0V0z\" fill=\"none\"/>\n",
              "    <path d=\"M18.56 5.44l.94 2.06.94-2.06 2.06-.94-2.06-.94-.94-2.06-.94 2.06-2.06.94zm-11 1L8.5 8.5l.94-2.06 2.06-.94-2.06-.94L8.5 2.5l-.94 2.06-2.06.94zm10 10l.94 2.06.94-2.06 2.06-.94-2.06-.94-.94-2.06-.94 2.06-2.06.94z\"/><path d=\"M17.41 7.96l-1.37-1.37c-.4-.4-.92-.59-1.43-.59-.52 0-1.04.2-1.43.59L10.3 9.45l-7.72 7.72c-.78.78-.78 2.05 0 2.83L4 21.41c.39.39.9.59 1.41.59.51 0 1.02-.2 1.41-.59l7.78-7.78 2.81-2.81c.8-.78.8-2.07 0-2.86zM5.41 20L4 18.59l7.72-7.72 1.47 1.35L5.41 20z\"/>\n",
              "  </svg>\n",
              "      </button>\n",
              "      \n",
              "  <style>\n",
              "    .colab-df-container {\n",
              "      display:flex;\n",
              "      flex-wrap:wrap;\n",
              "      gap: 12px;\n",
              "    }\n",
              "\n",
              "    .colab-df-convert {\n",
              "      background-color: #E8F0FE;\n",
              "      border: none;\n",
              "      border-radius: 50%;\n",
              "      cursor: pointer;\n",
              "      display: none;\n",
              "      fill: #1967D2;\n",
              "      height: 32px;\n",
              "      padding: 0 0 0 0;\n",
              "      width: 32px;\n",
              "    }\n",
              "\n",
              "    .colab-df-convert:hover {\n",
              "      background-color: #E2EBFA;\n",
              "      box-shadow: 0px 1px 2px rgba(60, 64, 67, 0.3), 0px 1px 3px 1px rgba(60, 64, 67, 0.15);\n",
              "      fill: #174EA6;\n",
              "    }\n",
              "\n",
              "    [theme=dark] .colab-df-convert {\n",
              "      background-color: #3B4455;\n",
              "      fill: #D2E3FC;\n",
              "    }\n",
              "\n",
              "    [theme=dark] .colab-df-convert:hover {\n",
              "      background-color: #434B5C;\n",
              "      box-shadow: 0px 1px 3px 1px rgba(0, 0, 0, 0.15);\n",
              "      filter: drop-shadow(0px 1px 2px rgba(0, 0, 0, 0.3));\n",
              "      fill: #FFFFFF;\n",
              "    }\n",
              "  </style>\n",
              "\n",
              "      <script>\n",
              "        const buttonEl =\n",
              "          document.querySelector('#df-60bd344f-987c-4c9e-b397-f81685292a7d button.colab-df-convert');\n",
              "        buttonEl.style.display =\n",
              "          google.colab.kernel.accessAllowed ? 'block' : 'none';\n",
              "\n",
              "        async function convertToInteractive(key) {\n",
              "          const element = document.querySelector('#df-60bd344f-987c-4c9e-b397-f81685292a7d');\n",
              "          const dataTable =\n",
              "            await google.colab.kernel.invokeFunction('convertToInteractive',\n",
              "                                                     [key], {});\n",
              "          if (!dataTable) return;\n",
              "\n",
              "          const docLinkHtml = 'Like what you see? Visit the ' +\n",
              "            '<a target=\"_blank\" href=https://colab.research.google.com/notebooks/data_table.ipynb>data table notebook</a>'\n",
              "            + ' to learn more about interactive tables.';\n",
              "          element.innerHTML = '';\n",
              "          dataTable['output_type'] = 'display_data';\n",
              "          await google.colab.output.renderOutput(dataTable, element);\n",
              "          const docLink = document.createElement('div');\n",
              "          docLink.innerHTML = docLinkHtml;\n",
              "          element.appendChild(docLink);\n",
              "        }\n",
              "      </script>\n",
              "    </div>\n",
              "  </div>\n",
              "  "
            ]
          },
          "metadata": {},
          "execution_count": 489
        }
      ]
    },
    {
      "cell_type": "markdown",
      "source": [
        "### Dataset Rows & Columns count"
      ],
      "metadata": {
        "id": "7hBIi_osiCS2"
      }
    },
    {
      "cell_type": "code",
      "source": [
        "# Dataset Rows & Columns count\n",
        "print(f\"Store_df: \\n The number of rows  is {store_df.shape[0]} \\n The column  is{store_df.shape[1]}\")\n",
        "\n",
        "print(f\"Rating_df: \\n The number of rows  is {rating_df.shape[0]} \\n The column in user review is{rating_df.shape[1]}\")"
      ],
      "metadata": {
        "id": "Kllu7SJgmLij",
        "colab": {
          "base_uri": "https://localhost:8080/"
        },
        "outputId": "9bd88ab2-4acc-43bb-f015-76df9c246dca"
      },
      "execution_count": 490,
      "outputs": [
        {
          "output_type": "stream",
          "name": "stdout",
          "text": [
            "Store_df: \n",
            " The number of rows  is 10841 \n",
            " The column  is13\n",
            "Rating_df: \n",
            " The number of rows  is 64295 \n",
            " The column in user review is5\n"
          ]
        }
      ]
    },
    {
      "cell_type": "markdown",
      "source": [
        "### Dataset Information"
      ],
      "metadata": {
        "id": "JlHwYmJAmNHm"
      }
    },
    {
      "cell_type": "code",
      "source": [
        "# Dataset Info\n",
        "rating_df.info()"
      ],
      "metadata": {
        "id": "e9hRXRi6meOf",
        "colab": {
          "base_uri": "https://localhost:8080/"
        },
        "outputId": "9237e72b-a61f-45fe-e59e-9b8f49eedb35"
      },
      "execution_count": 491,
      "outputs": [
        {
          "output_type": "stream",
          "name": "stdout",
          "text": [
            "<class 'pandas.core.frame.DataFrame'>\n",
            "RangeIndex: 64295 entries, 0 to 64294\n",
            "Data columns (total 5 columns):\n",
            " #   Column                  Non-Null Count  Dtype  \n",
            "---  ------                  --------------  -----  \n",
            " 0   App                     64295 non-null  object \n",
            " 1   Translated_Review       37427 non-null  object \n",
            " 2   Sentiment               37432 non-null  object \n",
            " 3   Sentiment_Polarity      37432 non-null  float64\n",
            " 4   Sentiment_Subjectivity  37432 non-null  float64\n",
            "dtypes: float64(2), object(3)\n",
            "memory usage: 2.5+ MB\n"
          ]
        }
      ]
    },
    {
      "cell_type": "markdown",
      "source": [
        "From here only we can tell that except App column every columns has around 40% Null values present in the rating dataset."
      ],
      "metadata": {
        "id": "AcsQ8-Tkuu8f"
      }
    },
    {
      "cell_type": "code",
      "source": [
        "# Dataset Info\n",
        "store_df.info()"
      ],
      "metadata": {
        "colab": {
          "base_uri": "https://localhost:8080/"
        },
        "id": "CLncToOmGzD1",
        "outputId": "3c0f076d-e226-41aa-df0d-be4bae5a6a31"
      },
      "execution_count": 492,
      "outputs": [
        {
          "output_type": "stream",
          "name": "stdout",
          "text": [
            "<class 'pandas.core.frame.DataFrame'>\n",
            "RangeIndex: 10841 entries, 0 to 10840\n",
            "Data columns (total 13 columns):\n",
            " #   Column          Non-Null Count  Dtype  \n",
            "---  ------          --------------  -----  \n",
            " 0   App             10841 non-null  object \n",
            " 1   Category        10841 non-null  object \n",
            " 2   Rating          9367 non-null   float64\n",
            " 3   Reviews         10841 non-null  object \n",
            " 4   Size            10841 non-null  object \n",
            " 5   Installs        10841 non-null  object \n",
            " 6   Type            10840 non-null  object \n",
            " 7   Price           10841 non-null  object \n",
            " 8   Content Rating  10840 non-null  object \n",
            " 9   Genres          10841 non-null  object \n",
            " 10  Last Updated    10841 non-null  object \n",
            " 11  Current Ver     10833 non-null  object \n",
            " 12  Android Ver     10838 non-null  object \n",
            "dtypes: float64(1), object(12)\n",
            "memory usage: 1.1+ MB\n"
          ]
        }
      ]
    },
    {
      "cell_type": "markdown",
      "source": [
        "It can be observed that many rows has alot of missng or null values."
      ],
      "metadata": {
        "id": "8IyQywqbvRgJ"
      }
    },
    {
      "cell_type": "markdown",
      "source": [
        "#### Duplicate Values"
      ],
      "metadata": {
        "id": "35m5QtbWiB9F"
      }
    },
    {
      "cell_type": "code",
      "source": [
        "# Dataset Duplicate Value Count\n",
        "store_df.duplicated().value_counts()"
      ],
      "metadata": {
        "id": "1sLdpKYkmox0",
        "colab": {
          "base_uri": "https://localhost:8080/"
        },
        "outputId": "f4b253a2-1b0f-49c7-ccc7-960424b0418d"
      },
      "execution_count": 493,
      "outputs": [
        {
          "output_type": "execute_result",
          "data": {
            "text/plain": [
              "False    10358\n",
              "True       483\n",
              "dtype: int64"
            ]
          },
          "metadata": {},
          "execution_count": 493
        }
      ]
    },
    {
      "cell_type": "markdown",
      "source": [
        "There are 483 number of rows that are duplicate.So It need to be removed."
      ],
      "metadata": {
        "id": "rkVkZpl1IhGg"
      }
    },
    {
      "cell_type": "code",
      "source": [
        "# number of duplicate value\n",
        "rating_df.duplicated().value_counts()"
      ],
      "metadata": {
        "colab": {
          "base_uri": "https://localhost:8080/"
        },
        "id": "4oC7njOvIxN7",
        "outputId": "bfc75526-860f-4799-9cf0-dff60a7b9cb3"
      },
      "execution_count": 494,
      "outputs": [
        {
          "output_type": "execute_result",
          "data": {
            "text/plain": [
              "True     33616\n",
              "False    30679\n",
              "dtype: int64"
            ]
          },
          "metadata": {},
          "execution_count": 494
        }
      ]
    },
    {
      "cell_type": "markdown",
      "source": [
        "More than half of the rows have duplicate value. It is needed to remove the duplicate values in the dataset as it may cause the bais in the analysis"
      ],
      "metadata": {
        "id": "HpjA4FEpI7Hm"
      }
    },
    {
      "cell_type": "code",
      "source": [
        "# removing the duplicate value from the both dataset\n",
        "rating_df.drop_duplicates(inplace = True)\n",
        "store_df.drop_duplicates(inplace = True)"
      ],
      "metadata": {
        "id": "LcZGz2qyJVNw"
      },
      "execution_count": 495,
      "outputs": []
    },
    {
      "cell_type": "markdown",
      "source": [
        "We have completly removed the duplicates values"
      ],
      "metadata": {
        "id": "BLcb59bevyD4"
      }
    },
    {
      "cell_type": "markdown",
      "source": [
        "#### Missing Values/Null Values"
      ],
      "metadata": {
        "id": "PoPl-ycgm1ru"
      }
    },
    {
      "cell_type": "code",
      "source": [
        "# Missing Values/Null Values Count in the rating dataset\n",
        "print(rating_df.isnull().sum())"
      ],
      "metadata": {
        "id": "GgHWkxvamxVg",
        "colab": {
          "base_uri": "https://localhost:8080/"
        },
        "outputId": "ffcfef16-d8c3-4782-fa8b-41fa4e1bdb9a"
      },
      "execution_count": 496,
      "outputs": [
        {
          "output_type": "stream",
          "name": "stdout",
          "text": [
            "App                         0\n",
            "Translated_Review         987\n",
            "Sentiment                 982\n",
            "Sentiment_Polarity        982\n",
            "Sentiment_Subjectivity    982\n",
            "dtype: int64\n"
          ]
        }
      ]
    },
    {
      "cell_type": "code",
      "source": [
        "# Missing Values/Null Values Count in the rating dataset\n",
        "print(store_df.isnull().sum())"
      ],
      "metadata": {
        "colab": {
          "base_uri": "https://localhost:8080/"
        },
        "id": "eYkRgIE9KB8-",
        "outputId": "c9e25885-0199-4218-c083-9d17f43a6737"
      },
      "execution_count": 497,
      "outputs": [
        {
          "output_type": "stream",
          "name": "stdout",
          "text": [
            "App                  0\n",
            "Category             0\n",
            "Rating            1465\n",
            "Reviews              0\n",
            "Size                 0\n",
            "Installs             0\n",
            "Type                 1\n",
            "Price                0\n",
            "Content Rating       1\n",
            "Genres               0\n",
            "Last Updated         0\n",
            "Current Ver          8\n",
            "Android Ver          3\n",
            "dtype: int64\n"
          ]
        }
      ]
    },
    {
      "cell_type": "code",
      "source": [
        "# Visualizing the missing values\n",
        "plt.figure(figsize=(10,6))\n",
        "sns.heatmap(store_df.isna().transpose(),\n",
        "            cmap=\"YlGnBu\",\n",
        "            cbar_kws={'label': 'Missing Data'})"
      ],
      "metadata": {
        "id": "3q5wnI3om9sJ",
        "colab": {
          "base_uri": "https://localhost:8080/",
          "height": 0
        },
        "outputId": "cb5dbd1d-44f3-40f7-f7b5-022e762f98bd"
      },
      "execution_count": 498,
      "outputs": [
        {
          "output_type": "execute_result",
          "data": {
            "text/plain": [
              "<matplotlib.axes._subplots.AxesSubplot at 0x7fecd6a02400>"
            ]
          },
          "metadata": {},
          "execution_count": 498
        },
        {
          "output_type": "display_data",
          "data": {
            "text/plain": [
              "<Figure size 720x432 with 2 Axes>"
            ],
            "image/png": "[encoded data removed]"
          },
          "metadata": {
            "needs_background": "light"
          }
        }
      ]
    },
    {
      "cell_type": "code",
      "source": [
        "# Visualizing the missing values\n",
        "plt.figure(figsize=(10,6))\n",
        "sns.heatmap(rating_df.isna().transpose(),\n",
        "            cmap=\"YlGnBu\",\n",
        "            cbar_kws={'label': 'Missing Data'})"
      ],
      "metadata": {
        "colab": {
          "base_uri": "https://localhost:8080/",
          "height": 0
        },
        "id": "4eqYT2lmKfrL",
        "outputId": "7427aedf-fad7-4ed0-eef6-d1bff8e239b2"
      },
      "execution_count": 499,
      "outputs": [
        {
          "output_type": "execute_result",
          "data": {
            "text/plain": [
              "<matplotlib.axes._subplots.AxesSubplot at 0x7fecd71b5040>"
            ]
          },
          "metadata": {},
          "execution_count": 499
        },
        {
          "output_type": "display_data",
          "data": {
            "text/plain": [
              "<Figure size 720x432 with 2 Axes>"
            ],
            "image/png": "[encoded data removed]"
          },
          "metadata": {
            "needs_background": "light"
          }
        }
      ]
    },
    {
      "cell_type": "markdown",
      "source": [
        "### What did you know about your dataset?"
      ],
      "metadata": {
        "id": "H0kj-8xxnORC"
      }
    },
    {
      "cell_type": "markdown",
      "source": [
        "We are working with two dataset.\n",
        "\n",
        "  * Play Store \n",
        "  * User Reviews\n",
        "\n",
        "* In play store dataset we have 10841 numbers of rows and 13 number of columns. \n",
        "* We have missing values in Rating, Type, Content Rating and Android ver. \n",
        "* It has 483 number of duplicate values presents in the play store data \n",
        "* Column Reviews,Size,Installs and Price are wrong type as they musht of the numeric type.\n",
        "* Size are represented as the string with the value concatinated M and K as the end character.\n",
        "* Price values have symbol '$' in the end.\n",
        "* Install has the character '+' at the end of the string.\n",
        "\n",
        "In User Reviews, We have 64296 numbers of rows and 5 nunber of the columns. It has 30679 number of null/missing values in all the columns excepts the App.\n",
        "All the duplicates values have been removed\n"
      ],
      "metadata": {
        "id": "gfoNAAC-nUe_"
      }
    },
    {
      "cell_type": "markdown",
      "source": [
        "## ***2. Understanding Your Variables***"
      ],
      "metadata": {
        "id": "nA9Y7ga8ng1Z"
      }
    },
    {
      "cell_type": "markdown",
      "source": [
        "### Variables Description "
      ],
      "metadata": {
        "id": "PBTbrJXOngz2"
      }
    },
    {
      "cell_type": "code",
      "source": [
        "# Dataset Describe\n",
        "rating_df.describe()"
      ],
      "metadata": {
        "colab": {
          "base_uri": "https://localhost:8080/",
          "height": 0
        },
        "id": "mDmSNuo3LA9i",
        "outputId": "f6cde988-a012-42eb-e342-62c355655164"
      },
      "execution_count": 500,
      "outputs": [
        {
          "output_type": "execute_result",
          "data": {
            "text/plain": [
              "       Sentiment_Polarity  Sentiment_Subjectivity\n",
              "count        29697.000000            29697.000000\n",
              "mean             0.188836                0.490848\n",
              "std              0.355672                0.266029\n",
              "min             -1.000000                0.000000\n",
              "25%              0.000000                0.350000\n",
              "50%              0.157143                0.514286\n",
              "75%              0.422500                0.652500\n",
              "max              1.000000                1.000000"
            ],
            "text/html": [
              "\n",
              "  <div id=\"df-3f04b8eb-14be-4aaa-9c0e-c518132be4b6\">\n",
              "    <div class=\"colab-df-container\">\n",
              "      <div>\n",
              "<style scoped>\n",
              "    .dataframe tbody tr th:only-of-type {\n",
              "        vertical-align: middle;\n",
              "    }\n",
              "\n",
              "    .dataframe tbody tr th {\n",
              "        vertical-align: top;\n",
              "    }\n",
              "\n",
              "    .dataframe thead th {\n",
              "        text-align: right;\n",
              "    }\n",
              "</style>\n",
              "<table border=\"1\" class=\"dataframe\">\n",
              "  <thead>\n",
              "    <tr style=\"text-align: right;\">\n",
              "      <th></th>\n",
              "      <th>Sentiment_Polarity</th>\n",
              "      <th>Sentiment_Subjectivity</th>\n",
              "    </tr>\n",
              "  </thead>\n",
              "  <tbody>\n",
              "    <tr>\n",
              "      <th>count</th>\n",
              "      <td>29697.000000</td>\n",
              "      <td>29697.000000</td>\n",
              "    </tr>\n",
              "    <tr>\n",
              "      <th>mean</th>\n",
              "      <td>0.188836</td>\n",
              "      <td>0.490848</td>\n",
              "    </tr>\n",
              "    <tr>\n",
              "      <th>std</th>\n",
              "      <td>0.355672</td>\n",
              "      <td>0.266029</td>\n",
              "    </tr>\n",
              "    <tr>\n",
              "      <th>min</th>\n",
              "      <td>-1.000000</td>\n",
              "      <td>0.000000</td>\n",
              "    </tr>\n",
              "    <tr>\n",
              "      <th>25%</th>\n",
              "      <td>0.000000</td>\n",
              "      <td>0.350000</td>\n",
              "    </tr>\n",
              "    <tr>\n",
              "      <th>50%</th>\n",
              "      <td>0.157143</td>\n",
              "      <td>0.514286</td>\n",
              "    </tr>\n",
              "    <tr>\n",
              "      <th>75%</th>\n",
              "      <td>0.422500</td>\n",
              "      <td>0.652500</td>\n",
              "    </tr>\n",
              "    <tr>\n",
              "      <th>max</th>\n",
              "      <td>1.000000</td>\n",
              "      <td>1.000000</td>\n",
              "    </tr>\n",
              "  </tbody>\n",
              "</table>\n",
              "</div>\n",
              "      <button class=\"colab-df-convert\" onclick=\"convertToInteractive('df-3f04b8eb-14be-4aaa-9c0e-c518132be4b6')\"\n",
              "              title=\"Convert this dataframe to an interactive table.\"\n",
              "              style=\"display:none;\">\n",
              "        \n",
              "  <svg xmlns=\"http://www.w3.org/2000/svg\" height=\"24px\"viewBox=\"0 0 24 24\"\n",
              "       width=\"24px\">\n",
              "    <path d=\"M0 0h24v24H0V0z\" fill=\"none\"/>\n",
              "    <path d=\"M18.56 5.44l.94 2.06.94-2.06 2.06-.94-2.06-.94-.94-2.06-.94 2.06-2.06.94zm-11 1L8.5 8.5l.94-2.06 2.06-.94-2.06-.94L8.5 2.5l-.94 2.06-2.06.94zm10 10l.94 2.06.94-2.06 2.06-.94-2.06-.94-.94-2.06-.94 2.06-2.06.94z\"/><path d=\"M17.41 7.96l-1.37-1.37c-.4-.4-.92-.59-1.43-.59-.52 0-1.04.2-1.43.59L10.3 9.45l-7.72 7.72c-.78.78-.78 2.05 0 2.83L4 21.41c.39.39.9.59 1.41.59.51 0 1.02-.2 1.41-.59l7.78-7.78 2.81-2.81c.8-.78.8-2.07 0-2.86zM5.41 20L4 18.59l7.72-7.72 1.47 1.35L5.41 20z\"/>\n",
              "  </svg>\n",
              "      </button>\n",
              "      \n",
              "  <style>\n",
              "    .colab-df-container {\n",
              "      display:flex;\n",
              "      flex-wrap:wrap;\n",
              "      gap: 12px;\n",
              "    }\n",
              "\n",
              "    .colab-df-convert {\n",
              "      background-color: #E8F0FE;\n",
              "      border: none;\n",
              "      border-radius: 50%;\n",
              "      cursor: pointer;\n",
              "      display: none;\n",
              "      fill: #1967D2;\n",
              "      height: 32px;\n",
              "      padding: 0 0 0 0;\n",
              "      width: 32px;\n",
              "    }\n",
              "\n",
              "    .colab-df-convert:hover {\n",
              "      background-color: #E2EBFA;\n",
              "      box-shadow: 0px 1px 2px rgba(60, 64, 67, 0.3), 0px 1px 3px 1px rgba(60, 64, 67, 0.15);\n",
              "      fill: #174EA6;\n",
              "    }\n",
              "\n",
              "    [theme=dark] .colab-df-convert {\n",
              "      background-color: #3B4455;\n",
              "      fill: #D2E3FC;\n",
              "    }\n",
              "\n",
              "    [theme=dark] .colab-df-convert:hover {\n",
              "      background-color: #434B5C;\n",
              "      box-shadow: 0px 1px 3px 1px rgba(0, 0, 0, 0.15);\n",
              "      filter: drop-shadow(0px 1px 2px rgba(0, 0, 0, 0.3));\n",
              "      fill: #FFFFFF;\n",
              "    }\n",
              "  </style>\n",
              "\n",
              "      <script>\n",
              "        const buttonEl =\n",
              "          document.querySelector('#df-3f04b8eb-14be-4aaa-9c0e-c518132be4b6 button.colab-df-convert');\n",
              "        buttonEl.style.display =\n",
              "          google.colab.kernel.accessAllowed ? 'block' : 'none';\n",
              "\n",
              "        async function convertToInteractive(key) {\n",
              "          const element = document.querySelector('#df-3f04b8eb-14be-4aaa-9c0e-c518132be4b6');\n",
              "          const dataTable =\n",
              "            await google.colab.kernel.invokeFunction('convertToInteractive',\n",
              "                                                     [key], {});\n",
              "          if (!dataTable) return;\n",
              "\n",
              "          const docLinkHtml = 'Like what you see? Visit the ' +\n",
              "            '<a target=\"_blank\" href=https://colab.research.google.com/notebooks/data_table.ipynb>data table notebook</a>'\n",
              "            + ' to learn more about interactive tables.';\n",
              "          element.innerHTML = '';\n",
              "          dataTable['output_type'] = 'display_data';\n",
              "          await google.colab.output.renderOutput(dataTable, element);\n",
              "          const docLink = document.createElement('div');\n",
              "          docLink.innerHTML = docLinkHtml;\n",
              "          element.appendChild(docLink);\n",
              "        }\n",
              "      </script>\n",
              "    </div>\n",
              "  </div>\n",
              "  "
            ]
          },
          "metadata": {},
          "execution_count": 500
        }
      ]
    },
    {
      "cell_type": "code",
      "source": [
        "# Dataset Describe\n",
        "store_df.describe()"
      ],
      "metadata": {
        "id": "DnOaZdaE5Q5t",
        "colab": {
          "base_uri": "https://localhost:8080/",
          "height": 0
        },
        "outputId": "b1375a78-e5ad-4318-d14d-de678930719a"
      },
      "execution_count": 501,
      "outputs": [
        {
          "output_type": "execute_result",
          "data": {
            "text/plain": [
              "            Rating\n",
              "count  8893.000000\n",
              "mean      4.189542\n",
              "std       0.545452\n",
              "min       1.000000\n",
              "25%       4.000000\n",
              "50%       4.300000\n",
              "75%       4.500000\n",
              "max      19.000000"
            ],
            "text/html": [
              "\n",
              "  <div id=\"df-07a11355-b8fb-46c3-ae42-ce5b22ef64e2\">\n",
              "    <div class=\"colab-df-container\">\n",
              "      <div>\n",
              "<style scoped>\n",
              "    .dataframe tbody tr th:only-of-type {\n",
              "        vertical-align: middle;\n",
              "    }\n",
              "\n",
              "    .dataframe tbody tr th {\n",
              "        vertical-align: top;\n",
              "    }\n",
              "\n",
              "    .dataframe thead th {\n",
              "        text-align: right;\n",
              "    }\n",
              "</style>\n",
              "<table border=\"1\" class=\"dataframe\">\n",
              "  <thead>\n",
              "    <tr style=\"text-align: right;\">\n",
              "      <th></th>\n",
              "      <th>Rating</th>\n",
              "    </tr>\n",
              "  </thead>\n",
              "  <tbody>\n",
              "    <tr>\n",
              "      <th>count</th>\n",
              "      <td>8893.000000</td>\n",
              "    </tr>\n",
              "    <tr>\n",
              "      <th>mean</th>\n",
              "      <td>4.189542</td>\n",
              "    </tr>\n",
              "    <tr>\n",
              "      <th>std</th>\n",
              "      <td>0.545452</td>\n",
              "    </tr>\n",
              "    <tr>\n",
              "      <th>min</th>\n",
              "      <td>1.000000</td>\n",
              "    </tr>\n",
              "    <tr>\n",
              "      <th>25%</th>\n",
              "      <td>4.000000</td>\n",
              "    </tr>\n",
              "    <tr>\n",
              "      <th>50%</th>\n",
              "      <td>4.300000</td>\n",
              "    </tr>\n",
              "    <tr>\n",
              "      <th>75%</th>\n",
              "      <td>4.500000</td>\n",
              "    </tr>\n",
              "    <tr>\n",
              "      <th>max</th>\n",
              "      <td>19.000000</td>\n",
              "    </tr>\n",
              "  </tbody>\n",
              "</table>\n",
              "</div>\n",
              "      <button class=\"colab-df-convert\" onclick=\"convertToInteractive('df-07a11355-b8fb-46c3-ae42-ce5b22ef64e2')\"\n",
              "              title=\"Convert this dataframe to an interactive table.\"\n",
              "              style=\"display:none;\">\n",
              "        \n",
              "  <svg xmlns=\"http://www.w3.org/2000/svg\" height=\"24px\"viewBox=\"0 0 24 24\"\n",
              "       width=\"24px\">\n",
              "    <path d=\"M0 0h24v24H0V0z\" fill=\"none\"/>\n",
              "    <path d=\"M18.56 5.44l.94 2.06.94-2.06 2.06-.94-2.06-.94-.94-2.06-.94 2.06-2.06.94zm-11 1L8.5 8.5l.94-2.06 2.06-.94-2.06-.94L8.5 2.5l-.94 2.06-2.06.94zm10 10l.94 2.06.94-2.06 2.06-.94-2.06-.94-.94-2.06-.94 2.06-2.06.94z\"/><path d=\"M17.41 7.96l-1.37-1.37c-.4-.4-.92-.59-1.43-.59-.52 0-1.04.2-1.43.59L10.3 9.45l-7.72 7.72c-.78.78-.78 2.05 0 2.83L4 21.41c.39.39.9.59 1.41.59.51 0 1.02-.2 1.41-.59l7.78-7.78 2.81-2.81c.8-.78.8-2.07 0-2.86zM5.41 20L4 18.59l7.72-7.72 1.47 1.35L5.41 20z\"/>\n",
              "  </svg>\n",
              "      </button>\n",
              "      \n",
              "  <style>\n",
              "    .colab-df-container {\n",
              "      display:flex;\n",
              "      flex-wrap:wrap;\n",
              "      gap: 12px;\n",
              "    }\n",
              "\n",
              "    .colab-df-convert {\n",
              "      background-color: #E8F0FE;\n",
              "      border: none;\n",
              "      border-radius: 50%;\n",
              "      cursor: pointer;\n",
              "      display: none;\n",
              "      fill: #1967D2;\n",
              "      height: 32px;\n",
              "      padding: 0 0 0 0;\n",
              "      width: 32px;\n",
              "    }\n",
              "\n",
              "    .colab-df-convert:hover {\n",
              "      background-color: #E2EBFA;\n",
              "      box-shadow: 0px 1px 2px rgba(60, 64, 67, 0.3), 0px 1px 3px 1px rgba(60, 64, 67, 0.15);\n",
              "      fill: #174EA6;\n",
              "    }\n",
              "\n",
              "    [theme=dark] .colab-df-convert {\n",
              "      background-color: #3B4455;\n",
              "      fill: #D2E3FC;\n",
              "    }\n",
              "\n",
              "    [theme=dark] .colab-df-convert:hover {\n",
              "      background-color: #434B5C;\n",
              "      box-shadow: 0px 1px 3px 1px rgba(0, 0, 0, 0.15);\n",
              "      filter: drop-shadow(0px 1px 2px rgba(0, 0, 0, 0.3));\n",
              "      fill: #FFFFFF;\n",
              "    }\n",
              "  </style>\n",
              "\n",
              "      <script>\n",
              "        const buttonEl =\n",
              "          document.querySelector('#df-07a11355-b8fb-46c3-ae42-ce5b22ef64e2 button.colab-df-convert');\n",
              "        buttonEl.style.display =\n",
              "          google.colab.kernel.accessAllowed ? 'block' : 'none';\n",
              "\n",
              "        async function convertToInteractive(key) {\n",
              "          const element = document.querySelector('#df-07a11355-b8fb-46c3-ae42-ce5b22ef64e2');\n",
              "          const dataTable =\n",
              "            await google.colab.kernel.invokeFunction('convertToInteractive',\n",
              "                                                     [key], {});\n",
              "          if (!dataTable) return;\n",
              "\n",
              "          const docLinkHtml = 'Like what you see? Visit the ' +\n",
              "            '<a target=\"_blank\" href=https://colab.research.google.com/notebooks/data_table.ipynb>data table notebook</a>'\n",
              "            + ' to learn more about interactive tables.';\n",
              "          element.innerHTML = '';\n",
              "          dataTable['output_type'] = 'display_data';\n",
              "          await google.colab.output.renderOutput(dataTable, element);\n",
              "          const docLink = document.createElement('div');\n",
              "          docLink.innerHTML = docLinkHtml;\n",
              "          element.appendChild(docLink);\n",
              "        }\n",
              "      </script>\n",
              "    </div>\n",
              "  </div>\n",
              "  "
            ]
          },
          "metadata": {},
          "execution_count": 501
        }
      ]
    },
    {
      "cell_type": "markdown",
      "source": [
        "## 3. ***Data Wrangling***"
      ],
      "metadata": {
        "id": "dauF4eBmngu3"
      }
    },
    {
      "cell_type": "markdown",
      "source": [
        "### Data Wrangling Code"
      ],
      "metadata": {
        "id": "bKJF3rekwFvQ"
      }
    },
    {
      "cell_type": "markdown",
      "source": [
        "#### Check Unique Values for each variable and removing if found suspious"
      ],
      "metadata": {
        "id": "u3PMJOP6ngxN"
      }
    },
    {
      "cell_type": "code",
      "source": [
        "df= store_df.copy()"
      ],
      "metadata": {
        "id": "Fzaf2Tax6Zhs"
      },
      "execution_count": 502,
      "outputs": []
    },
    {
      "cell_type": "code",
      "source": [
        "df.columns"
      ],
      "metadata": {
        "colab": {
          "base_uri": "https://localhost:8080/"
        },
        "id": "M-Xr2k3FEa-p",
        "outputId": "60e6c190-7ed1-46fd-95fc-e5c5265dd651"
      },
      "execution_count": 503,
      "outputs": [
        {
          "output_type": "execute_result",
          "data": {
            "text/plain": [
              "Index(['App', 'Category', 'Rating', 'Reviews', 'Size', 'Installs', 'Type',\n",
              "       'Price', 'Content Rating', 'Genres', 'Last Updated', 'Current Ver',\n",
              "       'Android Ver'],\n",
              "      dtype='object')"
            ]
          },
          "metadata": {},
          "execution_count": 503
        }
      ]
    },
    {
      "cell_type": "markdown",
      "source": [
        "##### App"
      ],
      "metadata": {
        "id": "RAQt-nVdGYyP"
      }
    },
    {
      "cell_type": "code",
      "source": [
        "# viewing the unique values of App \n",
        "df['App'].unique().tolist()"
      ],
      "metadata": {
        "colab": {
          "base_uri": "https://localhost:8080/"
        },
        "id": "N0FZj32wEc0p",
        "outputId": "1558ba6f-d6d8-4226-c57d-7570059d43b9"
      },
      "execution_count": 504,
      "outputs": [
        {
          "output_type": "execute_result",
          "data": {
            "text/plain": [
              "['Photo Editor & Candy Camera & Grid & ScrapBook',\n",
              " 'Coloring book moana',\n",
              " 'U Launcher Lite – FREE Live Cool Themes, Hide Apps',\n",
              " 'Sketch - Draw & Paint',\n",
              " 'Pixel Draw - Number Art Coloring Book',\n",
              " 'Paper flowers instructions',\n",
              " 'Smoke Effect Photo Maker - Smoke Editor',\n",
              " 'Infinite Painter',\n",
              " 'Garden Coloring Book',\n",
              " 'Kids Paint Free - Drawing Fun',\n",
              " 'Text on Photo - Fonteee',\n",
              " 'Name Art Photo Editor - Focus n Filters',\n",
              " 'Tattoo Name On My Photo Editor',\n",
              " 'Mandala Coloring Book',\n",
              " '3D Color Pixel by Number - Sandbox Art Coloring',\n",
              " 'Learn To Draw Kawaii Characters',\n",
              " 'Photo Designer - Write your name with shapes',\n",
              " '350 Diy Room Decor Ideas',\n",
              " 'FlipaClip - Cartoon animation',\n",
              " 'ibis Paint X',\n",
              " 'Logo Maker - Small Business',\n",
              " \"Boys Photo Editor - Six Pack & Men's Suit\",\n",
              " 'Superheroes Wallpapers | 4K Backgrounds',\n",
              " 'Mcqueen Coloring pages',\n",
              " 'HD Mickey Minnie Wallpapers',\n",
              " 'Harley Quinn wallpapers HD',\n",
              " 'Colorfit - Drawing & Coloring',\n",
              " 'Animated Photo Editor',\n",
              " 'Pencil Sketch Drawing',\n",
              " 'Easy Realistic Drawing Tutorial',\n",
              " 'Pink Silver Bow Keyboard Theme',\n",
              " 'Art Drawing Ideas',\n",
              " 'Anime Manga Coloring Book',\n",
              " 'Easy Origami Ideas',\n",
              " 'I Creative Idea',\n",
              " 'How to draw Ladybug and Cat Noir',\n",
              " 'UNICORN - Color By Number & Pixel Art Coloring',\n",
              " 'Floor Plan Creator',\n",
              " 'PIP Camera - PIP Collage Maker',\n",
              " 'How To Color Disney Princess - Coloring Pages',\n",
              " 'Drawing Clothes Fashion Ideas',\n",
              " 'Sad Poetry Photo Frames 2018',\n",
              " 'Textgram - write on photos',\n",
              " 'Paint Splash!',\n",
              " 'Popsicle Sticks and Similar DIY Craft Ideas',\n",
              " 'Canva: Poster, banner, card maker & graphic design',\n",
              " 'Install images with music to make video without Net - 2018',\n",
              " 'Little Teddy Bear Colouring Book Game',\n",
              " 'How To Draw Food',\n",
              " 'Monster Truck Stunt 3D 2019',\n",
              " 'Real Tractor Farming',\n",
              " 'Ultimate F1 Racing Championship',\n",
              " 'Used Cars and Trucks for Sale',\n",
              " 'American Muscle Car Race',\n",
              " 'Offroad Oil Tanker Driver Transport Truck 2019',\n",
              " 'Tickets SDA 2018 and Exam from the State Traffic Safety Inspectorate with Drom.ru',\n",
              " 'Gas Prices (Germany only)',\n",
              " 'Extreme Rally Championship',\n",
              " 'Restart Navigator',\n",
              " 'REG - Check the regnumber, find information about Swedish vehicles',\n",
              " 'CityBus Lviv',\n",
              " 'CDL Practice Test 2018 Edition',\n",
              " 'ezETC (ETC balance inquiry, meter trial, real-time traffic)',\n",
              " 'Free VIN Report for Used Cars',\n",
              " 'DMV Permit Practice Test 2018 Edition',\n",
              " 'Check Vehicle Tax',\n",
              " 'Used Cars Mexico',\n",
              " 'Ulysse Speedometer',\n",
              " 'REPUVE',\n",
              " 'Used cars for sale - Trovit',\n",
              " 'Fines of the State Traffic Safety Inspectorate are official: inspection, payment of fines',\n",
              " 'SK Enca Direct Malls - Used Cars Search',\n",
              " 'Android Auto - Maps, Media, Messaging & Voice',\n",
              " 'PDD-UA',\n",
              " 'Tickets SDA 2019 + Exam RF',\n",
              " 'Super Cars Wallpapers And Backgrounds',\n",
              " 'Police Lights, Sirens & Follow Me',\n",
              " 'Police Detector (Speed Camera Radar)',\n",
              " 'Best Car Wallpapers',\n",
              " 'Tickets + PDA 2018 Exam',\n",
              " 'Pick Your Part Garage',\n",
              " 'PakWheels: Buy & Sell Cars',\n",
              " 'Supervision service',\n",
              " 'Speed Camera Detector - Traffic & Speed Alert',\n",
              " 'Used car search Goo net whole car Go to net',\n",
              " 'CarMax – Cars for Sale: Search Used Car Inventory',\n",
              " 'BEST CAR SOUNDS',\n",
              " 'RST - Sale of cars on the PCT',\n",
              " 'AutoScout24 Switzerland – Find your new car',\n",
              " 'Zona Azul Digital Fácil SP CET - OFFICIAL São Paulo',\n",
              " 'SMS Park',\n",
              " 'SKencar',\n",
              " 'Fuelio: Gas log & costs',\n",
              " 'auto fines',\n",
              " 'Used car is the first car - used car purchase, used car quotation, dealer information to',\n",
              " 'All of the parking lot - National Park application (parking lot search / parking sharing / discount payment)',\n",
              " 'Inquiry Fines and Debits of Vehicles',\n",
              " 'Gas Station',\n",
              " 'Hush - Beauty for Everyone',\n",
              " 'ipsy: Makeup, Beauty, and Tips',\n",
              " 'Natural recipes for your beauty',\n",
              " 'BestCam Selfie-selfie, beauty camera, photo editor',\n",
              " 'Mirror - Zoom & Exposure -',\n",
              " 'Beauty Selfie Camera',\n",
              " 'Hairstyles step by step',\n",
              " 'Filters for Selfie',\n",
              " 'Tie - Always be happy',\n",
              " 'Ulta Beauty',\n",
              " 'Prom MakeUp Tutorial',\n",
              " 'Selfie Camera',\n",
              " 'Sweet Selfie Beauty Camera',\n",
              " 'Colors of white in Urdu',\n",
              " 'Selfie Camera Photo Editor & Filter & Sticker',\n",
              " 'Wrinkles and rejuvenation',\n",
              " 'Eyes Makeup Beauty Tips',\n",
              " 'Photo Editor 2018',\n",
              " 'Step By Step Eyes Makeup Tutorial',\n",
              " 'Beauty Camera - Selfie Camera',\n",
              " 'Girls Hairstyles',\n",
              " 'Mirror Camera (Mirror + Selfie Camera)',\n",
              " 'Beauty Tips - Beauty Tips in Sinhala',\n",
              " 'Haircut Tutorials/Haircut Videos',\n",
              " 'Sephora: Skin Care, Beauty Makeup & Fragrance Shop',\n",
              " 'Manicure - nail design',\n",
              " 'Sticker Camera - Selfie Filters, Beauty Camera',\n",
              " 'Filters for B Live',\n",
              " 'Skin Care and Natural Beauty',\n",
              " 'Facial Wrinkle Reduction',\n",
              " 'Makeup Videos',\n",
              " 'Secrets of beauty, youth and health',\n",
              " 'Recipes and tips for losing weight',\n",
              " 'Discover Color',\n",
              " 'Eyeliner step by step 2018',\n",
              " 'Dresses Ideas & Fashions +3000',\n",
              " 'Lady adviser (beauty, health)',\n",
              " 'Step By Step Hairstyles For Women',\n",
              " 'Rainbow Camera',\n",
              " 'Methods of teeth whitening',\n",
              " 'Girls hairstyles 2018',\n",
              " 'Wattpad 📖 Free Books',\n",
              " 'E-Book Read - Read Book for free',\n",
              " 'Download free book with green book',\n",
              " 'Wikipedia',\n",
              " 'Amazon Kindle',\n",
              " 'Cool Reader',\n",
              " 'Dictionary - Merriam-Webster',\n",
              " 'NOOK: Read eBooks & Magazines',\n",
              " 'Free Panda Radio Music',\n",
              " 'Book store',\n",
              " 'FBReader: Favorite Book Reader',\n",
              " 'English Grammar Complete Handbook',\n",
              " 'Free Books - Spirit Fanfiction and Stories',\n",
              " 'Google Play Books',\n",
              " 'AlReader -any text book reader',\n",
              " 'Offline English Dictionary',\n",
              " 'Oxford Dictionary of English : Free',\n",
              " 'Offline: English to Tagalog Dictionary',\n",
              " 'Spanish English Translator',\n",
              " 'FamilySearch Tree',\n",
              " 'Cloud of Books',\n",
              " 'Recipes of Prophetic Medicine for free',\n",
              " 'ReadEra – free ebook reader',\n",
              " 'NOOK App for NOOK Devices',\n",
              " 'Anonymous caller detection',\n",
              " 'Ebook Reader',\n",
              " 'Litnet - E-books',\n",
              " 'Read books online',\n",
              " 'English to Urdu Dictionary',\n",
              " 'eBoox: book reader fb2 epub zip',\n",
              " 'English Persian Dictionary',\n",
              " 'Flybook',\n",
              " 'All Maths Formulas',\n",
              " 'Ancestry',\n",
              " 'HTC Help',\n",
              " 'English translation from Bengali',\n",
              " 'Pdf Book Download - Read Pdf Book',\n",
              " 'Free Book Reader',\n",
              " 'eBoox new: Reader for fb2 epub zip books',\n",
              " 'Only 30 days in English, the guideline is guaranteed',\n",
              " 'Moon+ Reader',\n",
              " \"SH-02J Owner's Manual (Android 8.0)\",\n",
              " 'English-Myanmar Dictionary',\n",
              " 'Golden Dictionary (EN-AR)',\n",
              " 'All Language Translator Free',\n",
              " 'Azpen eReader',\n",
              " 'URBANO V 02 instruction manual',\n",
              " 'English Dictionary - Offline',\n",
              " 'Visual Voicemail by MetroPCS',\n",
              " 'Indeed Job Search',\n",
              " 'Uber Driver',\n",
              " 'ADP Mobile Solutions',\n",
              " 'Snag - Jobs Hiring Now',\n",
              " 'Docs To Go™ Free Office Suite',\n",
              " 'Google My Business',\n",
              " 'OfficeSuite : Free Office + PDF Editor',\n",
              " 'USPS MOBILE®',\n",
              " 'Job Search by ZipRecruiter',\n",
              " 'Curriculum vitae App CV Builder Free Resume Maker',\n",
              " 'Google Primer',\n",
              " 'Alba Heaven - Alvarez Job Portal Services',\n",
              " 'SuperLivePro',\n",
              " 'Facebook Pages Manager',\n",
              " 'OfficeSuite Pro + PDF (Trial)',\n",
              " 'My Space - Employment Center',\n",
              " 'Box',\n",
              " 'Polaris Office for LG',\n",
              " 'Call Blocker',\n",
              " 'Jobs in Alabama - Jobs in Alba',\n",
              " 'Square Point of Sale - POS',\n",
              " 'Plugin:AOT v5.0',\n",
              " 'Kariyer.net',\n",
              " 'SEEK Job Search',\n",
              " 'Become a Job - Find a job or advertise',\n",
              " 'ZOOM Cloud Meetings',\n",
              " 'Easy Installer - Apps On SD',\n",
              " 'Facebook Ads Manager',\n",
              " 'IndiaMART: Search Products, Buy, Sell & Trade',\n",
              " 'ViettelPost express delivery',\n",
              " 'MyASUS - Service Center',\n",
              " 'Job Korea - Career Jobs',\n",
              " '104 Looking for a job - looking for a job, looking for a job, looking for a part-time job, health checkup, resume, treatment room',\n",
              " 'Myanmar 2D/3D',\n",
              " 'Quick PDF Scanner + OCR FREE',\n",
              " 'sABN',\n",
              " 'ATI Cargoes and Transportation',\n",
              " 'Secure Folder',\n",
              " 'UPS Mobile',\n",
              " 'Y! Mobile menu',\n",
              " 'SignEasy | Sign and Fill PDF and other Documents',\n",
              " 'Genius Scan - PDF Scanner',\n",
              " 'Tiny Scanner - PDF Scanner App',\n",
              " 'Fast Scanner : Free PDF Scan',\n",
              " 'Mobile Doc Scanner (MDScan) Lite',\n",
              " 'TurboScan: scan documents and receipts in PDF',\n",
              " 'Tiny Scanner Pro: PDF Doc Scan',\n",
              " 'Zenefits',\n",
              " 'Google Ads',\n",
              " 'Slack',\n",
              " 'FreshBooks Classic',\n",
              " 'Insightly CRM',\n",
              " 'QuickBooks Accounting: Invoicing & Expenses',\n",
              " 'HipChat - Chat Built for Teams',\n",
              " 'Xero Accounting Software',\n",
              " 'MailChimp - Email, Marketing Automation',\n",
              " 'Crew - Free Messaging and Scheduling',\n",
              " 'Asana: organize team projects',\n",
              " 'Google Analytics',\n",
              " 'AdWords Express',\n",
              " 'Accounting App - Zoho Books',\n",
              " 'Invoice & Time Tracking - Zoho',\n",
              " 'join.me - Simple Meetings',\n",
              " 'Invoice 2go — Professional Invoices and Estimates',\n",
              " 'Cisco Webex Meetings',\n",
              " 'ScreenMeet. Easy Phone Meeting',\n",
              " 'Cisco Webex Teams',\n",
              " 'Microsoft Remote Desktop',\n",
              " 'Start Meeting',\n",
              " 'ClickMeeting Webinars',\n",
              " 'BlueJeans for Android',\n",
              " 'Skype for Business for Android',\n",
              " 'Verify - Receipts & Expenses',\n",
              " 'LINE WEBTOON - Free Comics',\n",
              " 'Manga Master - Best manga & comic reader',\n",
              " 'GANMA! - All original stories free of charge for all original comics',\n",
              " 'Röhrich Werner Soundboard',\n",
              " 'Unicorn Pokez - Color By Number',\n",
              " 'MangaToon - Comics updated Daily',\n",
              " 'Manga Net – Best Online Manga Reader',\n",
              " 'Manga Rock - Best Manga Reader',\n",
              " 'Manga - read Thai translation',\n",
              " 'The Vietnam Story - Fun Stories',\n",
              " 'Dragon Ball Wallpaper - Ringtones',\n",
              " 'Funny Jokes Photos',\n",
              " 'Truyện Vui Tý Quậy',\n",
              " 'Comic Es - Shojo manga / love comics free of charge ♪ ♪',\n",
              " 'comico Popular Original Cartoon Updated Everyday Comico',\n",
              " 'Daily Manga - Comic & Webtoon',\n",
              " '漫咖 Comics - Manga,Novel and Stories',\n",
              " 'Emmanuella Funny Videos 2018',\n",
              " 'DC Comics',\n",
              " 'Manga Zero - Japanese cartoon and comic reader',\n",
              " 'Marvel Unlimited',\n",
              " 'Tapas – Comics, Novels, and Stories',\n",
              " \"Children's cartoons (Mithu-Mina-Raju)\",\n",
              " \"Narrator's Voice\",\n",
              " '【Ranobbe complete free】 Novelba - Free app that you can read and write novels',\n",
              " 'Faustop Sounds',\n",
              " 'Manga Mania - Best online manga reader',\n",
              " '- Free Comics - Comic Apps',\n",
              " 'Manga AZ - Manga Comic Reader',\n",
              " 'Buff Thun - Daily Free Webtoon / Comics / Web Fiction / Mini Game',\n",
              " \"pixiv comic - everyone's manga app\",\n",
              " 'Funny Jokes and Stories 2018',\n",
              " 'Hojiboy Tojiboyev Life Hacks',\n",
              " 'Perfect Viewer',\n",
              " 'Best Wallpapers Backgrounds(100,000+ 4K HD)',\n",
              " 'think Comics',\n",
              " 'Memes Button',\n",
              " 'Laftel - Watching and Announcing Snooping, Streaming',\n",
              " 'Messenger – Text and Video Chat for Free',\n",
              " 'WhatsApp Messenger',\n",
              " 'Messenger for SMS',\n",
              " 'Google Chrome: Fast & Secure',\n",
              " 'Messenger Lite: Free Calls & Messages',\n",
              " 'Gmail',\n",
              " 'Hangouts',\n",
              " 'Viber Messenger',\n",
              " 'My Tele2',\n",
              " 'Firefox Browser fast & private',\n",
              " 'Yahoo Mail – Stay Organized',\n",
              " 'imo beta free calls and text',\n",
              " 'imo free video calls and chat',\n",
              " 'Contacts',\n",
              " 'Call Free – Free Call',\n",
              " 'Web Browser & Explorer',\n",
              " 'Opera Mini - fast web browser',\n",
              " 'Browser 4G',\n",
              " 'MegaFon Dashboard',\n",
              " 'ZenUI Dialer & Contacts',\n",
              " 'Cricket Visual Voicemail',\n",
              " 'Opera Browser: Fast and Secure',\n",
              " 'TracFone My Account',\n",
              " 'Firefox Focus: The privacy browser',\n",
              " 'Google Voice',\n",
              " 'Chrome Dev',\n",
              " 'Xperia Link™',\n",
              " 'TouchPal Keyboard - Fun Emoji & Android Keyboard',\n",
              " 'Who',\n",
              " 'Skype Lite - Free Video Call & Chat',\n",
              " 'WeChat',\n",
              " 'UC Browser Mini -Tiny Fast Private & Secure',\n",
              " 'WhatsApp Business',\n",
              " 'My magenta',\n",
              " 'Android Messages',\n",
              " 'Telegram',\n",
              " 'Google Duo - High Quality Video Calls',\n",
              " 'Puffin Web Browser',\n",
              " 'Seznam.cz',\n",
              " 'Antillean Gold Telegram (original version)',\n",
              " 'AT&T Visual Voicemail',\n",
              " 'GMX Mail',\n",
              " 'Omlet Chat',\n",
              " 'UC Browser - Fast Download Private & Secure',\n",
              " 'My Vodacom SA',\n",
              " 'Microsoft Edge',\n",
              " 'Hangouts Dialer - Call Phones',\n",
              " 'Talkatone: Free Texts, Calls & Phone Number',\n",
              " 'Calls & Text by Mo+',\n",
              " 'free video calls and chat',\n",
              " 'Skype - free IM & video calls',\n",
              " 'GO SMS Pro - Messenger, Free Themes, Emoji',\n",
              " 'Messaging+ SMS, MMS Free',\n",
              " 'chomp SMS',\n",
              " 'Glide - Video Chat Messenger',\n",
              " 'Text SMS',\n",
              " 'Google Allo',\n",
              " 'Talkray - Free Calls & Texts',\n",
              " 'LINE: Free Calls & Messages',\n",
              " 'GroupMe',\n",
              " 'mysms SMS Text Messaging Sync',\n",
              " 'BBM - Free Calls & Messages',\n",
              " 'KakaoTalk: Free Calls & Text',\n",
              " '2ndLine - Second Phone Number',\n",
              " 'CM Browser - Ad Blocker , Fast Download , Privacy',\n",
              " 'Ninesky Browser',\n",
              " 'Dolphin Browser - Fast, Private & Adblock🐬',\n",
              " 'Ghostery Privacy Browser',\n",
              " 'InBrowser - Incognito Browsing',\n",
              " 'Web Browser for Android',\n",
              " 'DU Browser—Browse fast & fun',\n",
              " 'Lightning Web Browser',\n",
              " 'Web Browser',\n",
              " 'Puffin Browser Pro',\n",
              " 'Contacts+',\n",
              " 'ExDialer - Dialer & Contacts',\n",
              " 'PHONE for Google Voice & GTalk',\n",
              " 'Safest Call Blocker',\n",
              " 'Full Screen Caller ID',\n",
              " 'Hiya - Caller ID & Block',\n",
              " 'Mr. Number-Block calls & spam',\n",
              " 'Should I Answer?',\n",
              " 'RocketDial Dialer & Contacts',\n",
              " 'CallApp: Caller ID, Blocker & Phone Call Recorder',\n",
              " 'Whoscall - Caller ID & Block',\n",
              " 'CIA - Caller ID & Call Blocker',\n",
              " 'Calls Blacklist - Call Blocker',\n",
              " 'Call Control - Call Blocker',\n",
              " 'True Contact - Real Caller ID',\n",
              " 'Video Caller Id',\n",
              " 'Sync.ME – Caller ID & Block',\n",
              " 'Burner - Free Phone Number',\n",
              " 'Truecaller: Caller ID, SMS spam blocking & Dialer',\n",
              " 'Caller ID +',\n",
              " 'K-9 Mail',\n",
              " 'myMail – Email for Hotmail, Gmail and Outlook Mail',\n",
              " 'Email TypeApp - Mail App',\n",
              " 'All Email Providers',\n",
              " 'Newton Mail - Email App for Gmail, Outlook, IMAP',\n",
              " 'GO Notifier',\n",
              " 'Mail.Ru - Email App',\n",
              " 'Mail1Click - Secure Mail',\n",
              " 'Daum Mail - Next Mail',\n",
              " 'mail.com mail',\n",
              " 'SolMail - All-in-One email app',\n",
              " 'Vonage Mobile® Call Video Text',\n",
              " 'JusTalk - Free Video Calls and Fun Video Chat',\n",
              " 'Moco+ - Chat, Meet People',\n",
              " 'Calculator',\n",
              " 'Truth or Dare Pro',\n",
              " 'Private Dating, Hide App- Blue for PrivacyHider',\n",
              " 'Ad Blocker for SayHi',\n",
              " 'AMBW Dating App: Asian Men Black Women Interracial',\n",
              " 'Zoosk Dating App: Meet Singles',\n",
              " 'OkCupid Dating',\n",
              " 'Match™ Dating - Meet Singles',\n",
              " 'Hily: Dating, Chat, Match, Meet & Hook up',\n",
              " 'Hinge: Dating & Relationships',\n",
              " 'Casual Dating & Adult Singles - Joyride',\n",
              " 'BBW Dating & Plus Size Chat',\n",
              " 'Moco - Chat, Meet People',\n",
              " 'CMB Free Dating App',\n",
              " 'Hot or Not - Find someone right now',\n",
              " 'eharmony - Online Dating App',\n",
              " 'Free Dating App & Flirt Chat - Match with Singles',\n",
              " 'Chispa, the Dating App for Latino, Latina Singles',\n",
              " 'Clover Dating App',\n",
              " 'Black People Meet Singles Date',\n",
              " 'Mingle2 - Free Online Dating & Singles Chat Rooms',\n",
              " 'Free Dating App & Flirt Chat - Cheers',\n",
              " 'stranger chat - anonymous chat',\n",
              " 'Blendr - Chat, Flirt & Meet',\n",
              " 'Free Dating Hook Up Messenger',\n",
              " 'Find Real Love — YouLove Premium Dating',\n",
              " 'Once - Quality Matches Every day',\n",
              " 'BLK - Swipe. Match. Chat.',\n",
              " 'Cougar Dating Life : Date Older Women Sugar Mummy',\n",
              " 'Howlr',\n",
              " 'Stranger Chat & Date',\n",
              " 'Free Dating & Flirt Chat - Choice of Love',\n",
              " 'RandoChat - Chat roulette',\n",
              " 'BeWild Free Dating & Chat App',\n",
              " 'FastMeet: Chat, Dating, Love',\n",
              " 'Free Dating App - YoCutie - Flirt, Chat & Meet',\n",
              " 'OurTime Dating for Singles 50+',\n",
              " 'FarmersOnly Dating',\n",
              " 'Dating for 50 plus Mature Singles – FINALLY',\n",
              " 'Sudy – Meet Elite & Rich Single',\n",
              " 'Christian Dating For Free App',\n",
              " 'Just She - Top Lesbian Dating',\n",
              " 'Single Parent Meet #1 Dating',\n",
              " 'EliteSingles – Dating for Single Professionals',\n",
              " 'Millionaire Match: Rich Singles Dating App',\n",
              " 'InterracialCupid - Interracial Dating App',\n",
              " 'Sugar Mommas Dating And Single Search',\n",
              " 'Hide App, Private Dating, Safe Chat - PrivacyHider',\n",
              " 'muzmatch: Muslim & Arab Singles, Marriage & Dating',\n",
              " 'NoBuffDating - Free Dating App',\n",
              " 'Sugar Daddy Dating App',\n",
              " 'Adult Dirty Emojis',\n",
              " 'Free Dating App - Meet Local Singles - Flirt Chat',\n",
              " 'Meet4U - Chat, Love, Singles!',\n",
              " 'SnpCupid Dating',\n",
              " 'Chat Rooms, Avatars, Date - Galaxy',\n",
              " 'Adult Dating - AdultFinder',\n",
              " 'Gay Sugar Daddy Dating & Hookup – Sudy Gay',\n",
              " 'Meet24 - Love, Chat, Singles',\n",
              " 'BBWCupid - BBW Dating App',\n",
              " 'ChatVideo Meet new people',\n",
              " 'TryDate - Free Online Dating App, Chat Meet Adults',\n",
              " 'Black White Interracial Dating - Interracial Match',\n",
              " 'USA Singles Meet, Match and Date Free - Date',\n",
              " 'FlirtChat - ♥Free Dating/Flirting App♥',\n",
              " 'The League',\n",
              " 'Herpes Dating: 1,000K+ Singles',\n",
              " 'Heart mill',\n",
              " '95Live -SG#1 Live Streaming App',\n",
              " 'Mutual - LDS Dating',\n",
              " '2RedBeans',\n",
              " 'SweetRing - Meet, Match, Date',\n",
              " 'BiggerCity: Chat for gay bears, chubs & chasers',\n",
              " 'SilverSingles: The 50+ Dating App',\n",
              " 'Herpes Positive Singles Dating',\n",
              " 'Glam - Premium Dating App',\n",
              " 'iDates - Chats, Flirts, Dating, Love & Relations',\n",
              " 'JustDating',\n",
              " 'Interracial Match Dating App',\n",
              " 'Russian Dating & Chat for Russian speaking RusDate',\n",
              " 'Sky People (SPI): A secure blind date through authentication by Seoul National University',\n",
              " 'Sweet mi - unlimited hunnam hunting blind date',\n",
              " 'Mingle - Online Dating App to Chat & Meet People',\n",
              " 'BBW Dating & Curvy Singles Chat- LargeFriends',\n",
              " 'Hitwe - meet people and chat',\n",
              " 'A hundred',\n",
              " 'JustSayHi- Dating App. Chat & Meet Singles Nearby',\n",
              " 'FERZU - Furries Social Network',\n",
              " 'WannaMeet – Dating & Chat App',\n",
              " 'Luxy Pro- Elite Dating Single',\n",
              " 'Dating Network',\n",
              " 'Chatting - Free chat, random chat, boyfriend, girlfriend',\n",
              " 'iPair-Meet, Chat, Dating',\n",
              " 'Meet, chat & date. Free dating app - Chocolate app',\n",
              " 'Transenger – Ts Dating and Chat for Free',\n",
              " 'O-Star',\n",
              " 'Free Cam Girls - Live Webcam',\n",
              " 'Cardi B Live Stream Video Chat - Prank',\n",
              " 'Live Girls Talk - Free Video Chat',\n",
              " 'Live Talk - Free Text and Video Chat',\n",
              " 'Chat Kids - Chat Room For Kids',\n",
              " 'Girls Live Chat - Free Text & Video Chat',\n",
              " 'Random Video Chat',\n",
              " 'MouseMingle',\n",
              " 'American Girls Mobile Numbers',\n",
              " 'Random Video Chat App With Strangers',\n",
              " 'FREE VIDEO CHAT - LIVE VIDEO AND TEXT CHAT',\n",
              " 'Awake Dating',\n",
              " 'Live Chat - Free Video Chat Rooms',\n",
              " 'Meet With Strangers: Video Chat & Dating',\n",
              " 'FREE LIVE TALK',\n",
              " 'Random Chat App with Strangers',\n",
              " 'Ost. Zombies Cast - New Music and Lyrics',\n",
              " 'Dating White Girls',\n",
              " 'Live Chat - Free Video Talk',\n",
              " 'Geeks Dating',\n",
              " 'Live chat - free video chat',\n",
              " 'House party - live chat',\n",
              " 'Fishing Brain & Boating Maps Marine',\n",
              " 'CAM5678 Video Chat',\n",
              " 'Video chat live advices',\n",
              " 'chat live chat',\n",
              " 'Pet Lovers Dating',\n",
              " 'Friend Find: free chat + flirt dating app',\n",
              " 'Latin Dating',\n",
              " 'Spine- The dating app',\n",
              " 'Online Chat Girls Meet',\n",
              " 'Wifi Mingle',\n",
              " 'Girls Live Talk - Free Text and Video Chat',\n",
              " 'Soy Luna - Top Music And Lyrics',\n",
              " 'When Will You Get Married',\n",
              " 'HOW TO ASK A GIRL OUT',\n",
              " 'Online Girls Chat Group',\n",
              " 'The DJ - Match with People',\n",
              " 'Toronto Dating',\n",
              " 'i miss you quotes and photos',\n",
              " 'JoJo Siwa Top Hits Music',\n",
              " 'UK Girls Mobile Numbers',\n",
              " 'chat saudi arabia',\n",
              " 'Chat Click - Dating Search',\n",
              " 'Iraq love chat',\n",
              " 'Healthy Relationships Guide',\n",
              " 'following',\n",
              " 'Gods by Night',\n",
              " 'PlusOne',\n",
              " 'Love Calendar - Couple Sharing Calendar & CoupleDay',\n",
              " 'Speeding Joyride & Car Meet App',\n",
              " 'LOBSTR - go on a lunch date',\n",
              " 'Titanic App - Feminist Dating Application',\n",
              " 'French Chat Room',\n",
              " 'Soul Mate',\n",
              " 'Diamond Engagement Rings',\n",
              " 'Dating Tips For Men',\n",
              " 'Halalguur',\n",
              " 'Find Lover',\n",
              " '2Date Dating App, Love and matching',\n",
              " 'Teenage Chat & Dating',\n",
              " 'Girls Online Talk - Free Text and Video Chat',\n",
              " 'Online Girls Chat',\n",
              " 'LIVE VIDEO TALK',\n",
              " 'SkyLove – Dating and chat',\n",
              " 'Free Live Talk-Video Call',\n",
              " 'FindLoving',\n",
              " 'Sugar Daddies Dating App',\n",
              " 'Chat Mexico: meet people, flirt and friendship',\n",
              " 'Duolingo: Learn Languages Free',\n",
              " 'TED',\n",
              " 'English Communication - Learn English for Chinese (Learn English for Chinese)',\n",
              " 'Khan Academy',\n",
              " 'Learn English with Wlingua',\n",
              " 'Ai La Trieu Phu - ALTP Free',\n",
              " 'Princess Coloring Book',\n",
              " 'Learn Spanish - Español',\n",
              " 'English Grammar Test',\n",
              " 'Speed Reading',\n",
              " 'English for beginners',\n",
              " 'Flame - درب عقلك يوميا',\n",
              " 'Mermaids',\n",
              " 'Learn Japanese, Korean, Chinese Offline & Free',\n",
              " 'Kids Mode',\n",
              " 'PBS KIDS Video',\n",
              " 'Dinosaurs Coloring Pages',\n",
              " 'Cars Coloring Pages',\n",
              " 'Babbel – Learn Languages',\n",
              " 'Math Tricks',\n",
              " 'Monster Truck Driver & Racing',\n",
              " 'Learn English Words Free',\n",
              " 'Japanese / English one-shop search dictionary - Free Japanese - English - Japanese dictionary application',\n",
              " 'English speaking texts',\n",
              " 'Thai Handwriting',\n",
              " 'THAI DICT 2018',\n",
              " 'Kanji test · Han search Kanji training (free version)',\n",
              " \"Game for KIDS: KIDS match'em\",\n",
              " 'Flippy Campus - Buy & sell on campus at a discount',\n",
              " 'Free intellectual training game application |',\n",
              " 'ABC Preschool Free',\n",
              " 'PINKFONG Baby Shark',\n",
              " 'English words application mikan',\n",
              " 'Learn English for beginners',\n",
              " 'Listen and learn English in seven days',\n",
              " 'Lumosity: #1 Brain Games & Cognitive Training App',\n",
              " 'Learn English from Persian: Persian to English',\n",
              " 'English with Lingualeo',\n",
              " 'Learn languages, grammar & vocabulary with Memrise',\n",
              " 'Quizlet: Learn Languages & Vocab with Flashcards',\n",
              " 'Udemy - Online Courses',\n",
              " 'Coursera: Online courses',\n",
              " 'edX - Online Courses by Harvard, MIT & more',\n",
              " 'Elevate - Brain Training Games',\n",
              " 'NeuroNation - Focus and Brain Training',\n",
              " 'Peak – Brain Games & Training',\n",
              " 'Memorado - Brain Games',\n",
              " 'Lynda - Online Training Videos',\n",
              " 'Brilliant',\n",
              " 'CppDroid - C/C++ IDE',\n",
              " 'Quiz&Learn Python',\n",
              " 'C++ Tutorials',\n",
              " 'C++ Programming',\n",
              " 'C Programming',\n",
              " 'Udacity - Lifelong Learning',\n",
              " 'Learn C++',\n",
              " 'Learn programming',\n",
              " 'Learn JavaScript',\n",
              " 'Learn Java',\n",
              " 'Learn HTML',\n",
              " 'Programming Hub, Learn to code',\n",
              " 'Learn SQL',\n",
              " 'Ready4 SAT (Prep4 SAT)',\n",
              " 'Socratic - Math Answers & Homework Help',\n",
              " 'Ready4 GMAT (Prep4 GMAT)',\n",
              " 'Pocket GMAT Math',\n",
              " 'GMAT Question Bank',\n",
              " 'GRE Tutor',\n",
              " 'GRE Flashcards',\n",
              " 'play2prep: ACT, SAT prep',\n",
              " 'SAT Test',\n",
              " 'GMAT Math Flashcards',\n",
              " 'Pocket SAT Math',\n",
              " 'TOEFL Prep & Practice from Magoosh',\n",
              " 'GRE Prep & Practice by Magoosh',\n",
              " 'GRE® Flashcards by Kaplan',\n",
              " 'SAT Vocabulary',\n",
              " 'Magoosh GMAT Prep & Practice',\n",
              " 'SAT Flashcards: Prep & Vocabulary',\n",
              " 'Rosetta Stone: Learn to Speak & Read New Languages',\n",
              " 'Google Classroom',\n",
              " 'LinkedIn Learning: Online Courses to Learn Skills',\n",
              " 'Learn English with Phrases',\n",
              " 'Free english course',\n",
              " 'Learn 50 languages',\n",
              " 'Babbel – Learn Spanish',\n",
              " 'Mango Languages: Lovable Language Courses',\n",
              " 'Learn English with Aco',\n",
              " 'Learn to Speak English',\n",
              " 'busuu: Learn Languages - Spanish, English & More',\n",
              " 'My Class Schedule: Timetable',\n",
              " 'Study Checker',\n",
              " 'My Study Life - School Planner',\n",
              " 'HomeWork',\n",
              " 'Next Gen Science Standards',\n",
              " 'myHomework Student Planner',\n",
              " \"Teacher's Gradebook - Additio\",\n",
              " 'Common Core',\n",
              " 'Homework Planner',\n",
              " 'TeachersPayTeachers',\n",
              " 'Edmodo',\n",
              " 'Socrative Teacher',\n",
              " 'Training schedule - AllUniver',\n",
              " 'Remind: School Communication',\n",
              " 'ClassDojo',\n",
              " 'Lerni. Learn languages.',\n",
              " 'HelloTalk — Chat, Speak & Learn Foreign Languages',\n",
              " 'Innovative: Learn 34 Languages',\n",
              " 'Chegg Study - Homework Help',\n",
              " 'Canvas Student',\n",
              " 'Timetable',\n",
              " 'EasyBib: Citation Generator',\n",
              " 'SoloLearn: Learn to Code for Free',\n",
              " 'Kids Learn Languages by Mondly',\n",
              " 'Blinkist - Nonfiction Books',\n",
              " 'Sago Mini Hat Maker',\n",
              " 'Fuzzy Numbers: Pre-K Number Foundation',\n",
              " 'Toca Life: City',\n",
              " 'Toca Life: Hospital',\n",
              " 'Netflix',\n",
              " 'Complete Spanish Movies',\n",
              " 'Pluto TV - It’s Free TV',\n",
              " 'Tubi TV - Free Movies & TV',\n",
              " 'YouTube Kids',\n",
              " 'Mobile TV',\n",
              " 'TV+',\n",
              " 'Digital TV',\n",
              " 'Motorola Spotlight Player™',\n",
              " 'Vigo Lite',\n",
              " 'Google Play Games',\n",
              " 'Hotstar',\n",
              " 'Peers.TV: broadcast TV channels First, Match TV, TNT ...',\n",
              " 'The green alien dance',\n",
              " 'Spectrum TV',\n",
              " 'H TV',\n",
              " 'StarTimes - Live International Champions Cup',\n",
              " 'Cinematic Cinematic',\n",
              " 'MEGOGO - Cinema and TV',\n",
              " 'Talking Angela',\n",
              " 'DStv Now',\n",
              " 'ivi - movies and TV shows in HD',\n",
              " 'Radio Javan',\n",
              " 'Viki: Asian TV Dramas & Movies',\n",
              " 'Talking Ginger 2',\n",
              " 'Girly Lock Screen Wallpaper with Quotes',\n",
              " 'No.Draw - Colors by Number 2018',\n",
              " '🔥 Football Wallpapers 4K | Full HD Backgrounds 😍',\n",
              " 'Movies by Flixster, with Rotten Tomatoes',\n",
              " 'Low Poly – Puzzle art game',\n",
              " 'BBC Media Player',\n",
              " 'Amazon Prime Video',\n",
              " 'Adult Glitter Color by Number Book - Sandbox Pages',\n",
              " 'IMDb Movies & TV',\n",
              " 'Twitch: Livestream Multiplayer Games & Esports',\n",
              " 'Ziggo GO',\n",
              " 'YouTube Gaming',\n",
              " 'PlayStation App',\n",
              " 'Talking Ben the Dog',\n",
              " 'Red Bull TV: Live Sports, Music & Entertainment',\n",
              " 'Trailer Addict Movie Trailers',\n",
              " 'Cinemark Theatres',\n",
              " 'Regal Cinemas',\n",
              " 'Fandango Movies - Times + Tickets',\n",
              " 'Marcus Theatres',\n",
              " 'Harkins Theatres',\n",
              " 'AMC Theatres',\n",
              " 'Food Network',\n",
              " 'Cooking Channel',\n",
              " 'Animal Planet GO',\n",
              " 'VRV: Anime, game videos & more',\n",
              " 'DramaFever: Stream Asian Drama Shows & Movies',\n",
              " 'Crunchyroll - Everything Anime',\n",
              " 'Investigation Discovery GO',\n",
              " 'Crackle - Free TV & Movies',\n",
              " 'CBS - Full Episodes & Live TV',\n",
              " 'STARZ',\n",
              " 'Acorn TV: World-class TV from Britain and Beyond',\n",
              " 'HISTORY: Watch TV Show Full Episodes & Specials',\n",
              " 'Nick',\n",
              " 'VH1',\n",
              " 'FOX NOW - On Demand & Live TV',\n",
              " 'A&E - Watch Full Episodes of TV Shows',\n",
              " 'The CW',\n",
              " 'BET NOW - Watch Shows',\n",
              " 'Hulu: Stream TV, Movies & more',\n",
              " 'HBO NOW: Stream TV & Movies',\n",
              " 'Univision NOW - Live TV and On Demand',\n",
              " 'SHOWTIME',\n",
              " 'Lifetime - Watch Full Episodes & Original Movies',\n",
              " 'SeriesGuide – Show & Movie Manager',\n",
              " 'Comedy Central',\n",
              " 'CW Seed',\n",
              " 'The NBC App - Watch Live TV and Full Episodes',\n",
              " 'WWE',\n",
              " 'Universal Kids',\n",
              " 'MTV',\n",
              " 'LEGO® TV',\n",
              " 'HBO GO: Stream with TV Package',\n",
              " 'Showtime Anytime',\n",
              " 'PlayKids - Educational cartoons and games for kids',\n",
              " 'FOX',\n",
              " 'Telemundo Now',\n",
              " 'Vudu Movies & TV',\n",
              " 'Yidio: TV Show & Movie Guide',\n",
              " 'Redbox',\n",
              " 'Tribeca Shortlist - Handpicked Movies',\n",
              " 'Nick Jr. - Shows & Games',\n",
              " 'Sticker Market: Emoji keyboard',\n",
              " 'Kidjo TV Kids Have Fun & Learn',\n",
              " 'Laugh Out Loud by Kevin Hart',\n",
              " 'ColorFul - Adult Coloring Book',\n",
              " 'Hamilton — The Official App',\n",
              " 'My Talking Pet',\n",
              " 'Funny Pics',\n",
              " 'Funny Quotes Free',\n",
              " 'LOL Pics (Funny Pictures)',\n",
              " 'Meme Creator',\n",
              " 'Imgur: Find funny GIFs, memes & watch viral videos',\n",
              " 'Meme Generator',\n",
              " 'SketchBook - draw and paint',\n",
              " 'Colorfy: Coloring Book for Adults - Free',\n",
              " 'All Events in City',\n",
              " 'Ticketmaster Event Tickets',\n",
              " 'Reminder',\n",
              " 'Birdays - Birthday reminder',\n",
              " 'StubHub - Tickets to Sports, Concerts & Events',\n",
              " 'Fever',\n",
              " 'DroidAdmin for Android - Advice',\n",
              " 'SeatGeek – Tickets to Sports, Concerts, Broadway',\n",
              " 'my4D',\n",
              " 'VAN NIAN 2018 - Vietnamese Calendar',\n",
              " 'Vivid Seats – Event Tickets',\n",
              " 'Name days',\n",
              " 'LBB - Find New & Unique Things To Do Around You',\n",
              " 'Happy Birthday Songs Offline',\n",
              " 'Series Valley of the Wolves full of part',\n",
              " 'Mummatikabalkuragi',\n",
              " 'Gametime - Tickets to Sports, Concerts, Theater',\n",
              " 'PTI Flex Maker, Photo Frame Editor & Songs 2018',\n",
              " 'Wipe out',\n",
              " 'Birthdays & Other Events',\n",
              " 'Sarajevo Film Festival - Official',\n",
              " 'Summer Madness',\n",
              " 'Events High - Meet Your City!',\n",
              " 'vide-greniers.org',\n",
              " 'SUMMER SONIC app',\n",
              " 'Quake & Volcanoes: 3D Globe of Volcanic Eruptions',\n",
              " 'Prosperity',\n",
              " \"Picktrainer: India's largest photo contest app\",\n",
              " 'AAS-IN-ASIA 2018',\n",
              " 'Moot Peru 2018',\n",
              " 'FM News',\n",
              " 'Goldstar: Live Event Tickets',\n",
              " 'Emmabodafestivalen',\n",
              " 'KudaGo - things to do in NY',\n",
              " 'Mindvalley U Tallinn 2018',\n",
              " 'Rockmaraton Info',\n",
              " 'Freitas Auctioneer Official',\n",
              " 'mobLee Events',\n",
              " 'Xceed - Clubs, DJs, Festivals & Tickets',\n",
              " 'AMM Events & CPD',\n",
              " 'Arab Halls - For Wedding & Events',\n",
              " 'MeAuDote - An act of love that saves a life',\n",
              " 'TCF National Conference',\n",
              " 'Endurance Lifestyle',\n",
              " 'K PLUS',\n",
              " 'ING Banking',\n",
              " 'Citibanamex Movil',\n",
              " 'The postal bank',\n",
              " 'KTB Netbank',\n",
              " 'Mobile Bancomer',\n",
              " 'Nedbank Money',\n",
              " 'SCB EASY',\n",
              " 'CASHIER',\n",
              " 'Rabo Banking',\n",
              " 'Capitec Remote Banking',\n",
              " 'Itau bank',\n",
              " 'Nubank',\n",
              " 'The Societe Generale App',\n",
              " 'IKO',\n",
              " 'Cash App',\n",
              " 'Standard Bank / Stanbic Bank',\n",
              " 'Bualuang mBanking',\n",
              " 'Intesa Sanpaolo Mobile',\n",
              " 'UBA Mobile Banking',\n",
              " 'BBVA Spain',\n",
              " 'MyMo by GSB',\n",
              " 'VTB-Online',\n",
              " 'Ecobank Mobile Banking',\n",
              " 'Banorte Movil',\n",
              " 'Wells Fargo Mobile',\n",
              " 'Credit Karma',\n",
              " 'BZWBK24 mobile',\n",
              " 'PayPal',\n",
              " 'Capital One® Mobile',\n",
              " 'Zenith Bank Mobile App',\n",
              " 'GCash - Buy Load, Pay Bills, Send Money',\n",
              " 'Post Bank',\n",
              " 'İşCep',\n",
              " \"People's Bank\",\n",
              " 'Google Pay',\n",
              " 'Transfer',\n",
              " 'T-Mobile in',\n",
              " 'TrueMoney Wallet',\n",
              " 'Alfa-Bank (Alfa-Bank)',\n",
              " 'Bank of Brazil',\n",
              " 'WiseBanyan - Invest For Free',\n",
              " 'Robinhood - Investing, No Fees',\n",
              " 'Wells Fargo Daily Change',\n",
              " 'Even - organize your money, get paid early',\n",
              " 'Digit Save Money Automatically',\n",
              " 'Stash: Invest. Learn. Save.',\n",
              " 'Acorns - Invest Spare Change',\n",
              " 'Money Lover: Expense Tracker, Budget Planner',\n",
              " 'Expense IQ Money Manager',\n",
              " 'Money Manager Expense & Budget',\n",
              " 'Prism Pay Bills, Track Money, Personal Finance',\n",
              " 'Monefy - Money Manager',\n",
              " 'Simple - Better Banking',\n",
              " 'Chime - Mobile Banking',\n",
              " 'Bluebird by American Express',\n",
              " 'Walmart MoneyCard',\n",
              " 'Moven - Smart Finances',\n",
              " 'Qapital - Save Small. Live Large',\n",
              " 'Experian - Free Credit Report',\n",
              " 'Branch',\n",
              " 'WalletHub - Free Credit Score, Report & Monitoring',\n",
              " 'CreditWise from Capital One',\n",
              " 'NerdWallet: Personal Finance, Credit Score & Cash',\n",
              " 'my face',\n",
              " 'Credit Sesame',\n",
              " 'Mint: Budget, Bills, Finance',\n",
              " 'Fresh EBT - Food Stamp Balance',\n",
              " 'Hurdlr: Track Mileage, Expenses, and Log Receipts',\n",
              " 'Mobills: Budget Planner',\n",
              " 'Everlance: Free Mileage Log',\n",
              " 'MileIQ - Free Mileage Tracker for Business',\n",
              " 'QuickBooks Self-Employed:Mileage Tracker and Taxes',\n",
              " 'FREE Stock Market Trading Tips',\n",
              " 'MetaTrader 5',\n",
              " 'MetaTrader 4',\n",
              " 'Stock Quote',\n",
              " 'Seeking Alpha',\n",
              " 'Stock Trainer: Virtual Trading (Stock Markets)',\n",
              " 'Stocks: Realtime Quotes Charts',\n",
              " 'Stocks, Forex, Bitcoin, Ethereum: Portfolio & News',\n",
              " 'CNBC: Breaking Business News & Live Market Data',\n",
              " 'US Stock Market',\n",
              " 'Bloomberg Professional',\n",
              " 'E*TRADE Mobile',\n",
              " 'MSN Money- Stock Quotes & News',\n",
              " 'Fox Business',\n",
              " 'NSE Mobile Trading',\n",
              " 'Yahoo Finance',\n",
              " 'JStock - Stock Market, Portfolio & News',\n",
              " 'Webull - Stock Quotes & Free Stock Trading',\n",
              " 'Trading 212 - Forex, Stocks, CFDs',\n",
              " 'Moneycontrol – Stocks, Sensex, Mutual Funds, IPO',\n",
              " 'Current debit card and app made for teens',\n",
              " 'Betterment',\n",
              " 'Citizens Bank Mobile Banking',\n",
              " 'GoBank',\n",
              " 'NetSpend Prepaid',\n",
              " 'BBVA Compass Banking',\n",
              " 'BankMobile Vibe App',\n",
              " 'Netspend Skylight ONE',\n",
              " 'ACE Elite',\n",
              " 'U.S. Bank',\n",
              " 'Huntington Mobile',\n",
              " 'USAA Mobile',\n",
              " 'Associated Credit Union Mobile',\n",
              " 'Bank of America Mobile Banking',\n",
              " 'USE Credit Union Mobile',\n",
              " 'Discover Mobile',\n",
              " 'Amex Mobile',\n",
              " 'Citi Mobile®',\n",
              " 'Navy Federal Credit Union',\n",
              " 'Chase Mobile',\n",
              " 'HDFC Bank MobileBanking',\n",
              " 'Barclays US for Android',\n",
              " \"McDonald's\",\n",
              " 'Easy and Fast Recipes',\n",
              " 'Cookpad - FREE recipe search makes fun cooking · musical making!',\n",
              " 'DELISH KITCHEN - FREE recipe movies make food fun and easy!',\n",
              " 'Sumine side dish - dish recipe side dish',\n",
              " 'Easy Recipes',\n",
              " 'Delicious Recipes',\n",
              " 'Tastely',\n",
              " 'Pastry & Cooking (Without Net)',\n",
              " 'Frigo Magic: Easy recipe idea and anti-waste',\n",
              " \"McDonald's - McDonald's Japan\",\n",
              " 'Debonairs Pizza',\n",
              " 'Popeyes® App',\n",
              " \"Dunkin' Donuts\",\n",
              " 'Pyaterochka',\n",
              " 'Refreshing app Free application that can use deal coupons',\n",
              " 'Simple Recipes',\n",
              " 'Grubhub: Food Delivery',\n",
              " 'Panera Bread',\n",
              " 'Chick-fil-A',\n",
              " 'hellofood - Food Delivery',\n",
              " 'Starbucks',\n",
              " 'Easy and quick desserts',\n",
              " \"Domino's Pizza USA\",\n",
              " 'Chef - Recipes & Cooking',\n",
              " 'Delivery Club-food delivery: pizza, sushi, burger, salad',\n",
              " 'HungerStation',\n",
              " 'Delivery yogi.',\n",
              " 'Delivery trough - delivery trough delivery trough',\n",
              " 'Dr. Oetker recipe ideas',\n",
              " 'SONIC Drive-In',\n",
              " 'SUBWAY®',\n",
              " 'GialloZafferano: Recipes',\n",
              " 'Dairy Queen',\n",
              " '9th stage',\n",
              " 'OpenRice',\n",
              " 'SarashpazPapion (Cooking with Chef Bowls)',\n",
              " 'Little Caesars',\n",
              " 'Recipes Pastries and homemade pies More than 500 recipes for pastries',\n",
              " 'Om Waleed Sweets',\n",
              " 'Eat Fast Prepare \"Without Internet\"',\n",
              " 'Wendy’s – Food and Offers',\n",
              " 'My Recipes Cookbook : RecetteTek',\n",
              " 'Healthy Recipes Free',\n",
              " 'Cookbook Recipes',\n",
              " 'ChefTap Recipes & Grocery List',\n",
              " 'Recipe Keeper',\n",
              " 'My CookBook (Recipe Manager)',\n",
              " ...]"
            ]
          },
          "metadata": {},
          "execution_count": 504
        }
      ]
    },
    {
      "cell_type": "markdown",
      "source": [
        "##### Category"
      ],
      "metadata": {
        "id": "8-97V1ZkIDOj"
      }
    },
    {
      "cell_type": "code",
      "source": [
        "# viewing the unique values of the category\n",
        "\n",
        "df['Category'].unique()"
      ],
      "metadata": {
        "colab": {
          "base_uri": "https://localhost:8080/"
        },
        "id": "7M2dOwOnILe7",
        "outputId": "c8dfceaf-05c8-44c8-b723-fab9f4817f33"
      },
      "execution_count": 505,
      "outputs": [
        {
          "output_type": "execute_result",
          "data": {
            "text/plain": [
              "array(['ART_AND_DESIGN', 'AUTO_AND_VEHICLES', 'BEAUTY',\n",
              "       'BOOKS_AND_REFERENCE', 'BUSINESS', 'COMICS', 'COMMUNICATION',\n",
              "       'DATING', 'EDUCATION', 'ENTERTAINMENT', 'EVENTS', 'FINANCE',\n",
              "       'FOOD_AND_DRINK', 'HEALTH_AND_FITNESS', 'HOUSE_AND_HOME',\n",
              "       'LIBRARIES_AND_DEMO', 'LIFESTYLE', 'GAME', 'FAMILY', 'MEDICAL',\n",
              "       'SOCIAL', 'SHOPPING', 'PHOTOGRAPHY', 'SPORTS', 'TRAVEL_AND_LOCAL',\n",
              "       'TOOLS', 'PERSONALIZATION', 'PRODUCTIVITY', 'PARENTING', 'WEATHER',\n",
              "       'VIDEO_PLAYERS', 'NEWS_AND_MAGAZINES', 'MAPS_AND_NAVIGATION',\n",
              "       '1.9'], dtype=object)"
            ]
          },
          "metadata": {},
          "execution_count": 505
        }
      ]
    },
    {
      "cell_type": "markdown",
      "source": [
        "##### Rating"
      ],
      "metadata": {
        "id": "ecTFFLNZAwK2"
      }
    },
    {
      "cell_type": "code",
      "source": [
        "# checking the rating columns\n",
        "df['Rating'].unique()"
      ],
      "metadata": {
        "colab": {
          "base_uri": "https://localhost:8080/"
        },
        "id": "zK5uJsUV7mpk",
        "outputId": "b58a1695-75cf-4cee-88cc-eacb7d5a594c"
      },
      "execution_count": 506,
      "outputs": [
        {
          "output_type": "execute_result",
          "data": {
            "text/plain": [
              "array([ 4.1,  3.9,  4.7,  4.5,  4.3,  4.4,  3.8,  4.2,  4.6,  3.2,  4. ,\n",
              "        nan,  4.8,  4.9,  3.6,  3.7,  3.3,  3.4,  3.5,  3.1,  5. ,  2.6,\n",
              "        3. ,  1.9,  2.5,  2.8,  2.7,  1. ,  2.9,  2.3,  2.2,  1.7,  2. ,\n",
              "        1.8,  2.4,  1.6,  2.1,  1.4,  1.5,  1.2, 19. ])"
            ]
          },
          "metadata": {},
          "execution_count": 506
        }
      ]
    },
    {
      "cell_type": "markdown",
      "source": [
        "Here we can see nan and 19 cannot be values as its rating values ranges from 1 to 5 only."
      ],
      "metadata": {
        "id": "slPXqtYU-lr4"
      }
    },
    {
      "cell_type": "code",
      "source": [
        "missing_rating = df['Rating'].isnull().sum()/len(df['Rating']) * 100\n",
        "print(f\"Missing percent is in Rating is {missing_rating}%\")\n",
        "#Rating has 1465 missing values which is more than 10% of the total data "
      ],
      "metadata": {
        "colab": {
          "base_uri": "https://localhost:8080/"
        },
        "id": "dWGXjMfc8Op4",
        "outputId": "12130960-b02e-4f40-e283-411e155ca11e"
      },
      "execution_count": 507,
      "outputs": [
        {
          "output_type": "stream",
          "name": "stdout",
          "text": [
            "Missing percent is in Rating is 14.143657076655725%\n"
          ]
        }
      ]
    },
    {
      "cell_type": "markdown",
      "source": [
        "It can be seen that Rating has around 14% of data are null. or It can be said that around 14 % of the user hasnt rated the app. So we will remove them."
      ],
      "metadata": {
        "id": "xf0UaP7d-gEe"
      }
    },
    {
      "cell_type": "code",
      "source": [
        "#user not rated the app \n",
        "not_rated_user = df['Rating'].isnull().sum()\n",
        "print(f\"The total number of the users has not  rated the is {not_rated_user}\")"
      ],
      "metadata": {
        "colab": {
          "base_uri": "https://localhost:8080/"
        },
        "id": "8WuS4EEo-beJ",
        "outputId": "e96c1674-abf6-4d53-9640-393a7f6cc0ca"
      },
      "execution_count": 508,
      "outputs": [
        {
          "output_type": "stream",
          "name": "stdout",
          "text": [
            "The total number of the users has not  rated the is 1465\n"
          ]
        }
      ]
    },
    {
      "cell_type": "code",
      "source": [
        "# Removing the rows which contains the null values in the rows.\n",
        "df.dropna(subset = ['Rating'],inplace = True)"
      ],
      "metadata": {
        "id": "Osp-kVmIAlNr"
      },
      "execution_count": 509,
      "outputs": []
    },
    {
      "cell_type": "code",
      "source": [
        "# Removing the rows which has rating '19' as the outliers\n",
        "df= df[df['Rating'] != 19]"
      ],
      "metadata": {
        "id": "buLTWNuBDtkv"
      },
      "execution_count": 510,
      "outputs": []
    },
    {
      "cell_type": "markdown",
      "source": [
        "##### Review\n"
      ],
      "metadata": {
        "id": "bLSG5cIEG2fa"
      }
    },
    {
      "cell_type": "code",
      "source": [
        "df['Reviews'].unique().tolist()"
      ],
      "metadata": {
        "colab": {
          "base_uri": "https://localhost:8080/"
        },
        "id": "Wj0Dr2kJKKZT",
        "outputId": "a2bfe8ae-182e-4cf3-b037-aedff9c85dab"
      },
      "execution_count": 511,
      "outputs": [
        {
          "output_type": "execute_result",
          "data": {
            "text/plain": [
              "['159',\n",
              " '967',\n",
              " '87510',\n",
              " '215644',\n",
              " '167',\n",
              " '178',\n",
              " '36815',\n",
              " '13791',\n",
              " '121',\n",
              " '13880',\n",
              " '8788',\n",
              " '44829',\n",
              " '4326',\n",
              " '1518',\n",
              " '55',\n",
              " '3632',\n",
              " '27',\n",
              " '194216',\n",
              " '224399',\n",
              " '450',\n",
              " '654',\n",
              " '7699',\n",
              " '118',\n",
              " '192',\n",
              " '20260',\n",
              " '203',\n",
              " '136',\n",
              " '223',\n",
              " '1120',\n",
              " '227',\n",
              " '5035',\n",
              " '1015',\n",
              " '353',\n",
              " '564',\n",
              " '8145',\n",
              " '36639',\n",
              " '158',\n",
              " '591',\n",
              " '117',\n",
              " '176',\n",
              " '295221',\n",
              " '2206',\n",
              " '26',\n",
              " '174531',\n",
              " '1070',\n",
              " '85',\n",
              " '845',\n",
              " '367',\n",
              " '1598',\n",
              " '284',\n",
              " '17057',\n",
              " '129',\n",
              " '542',\n",
              " '10479',\n",
              " '805',\n",
              " '1403',\n",
              " '3971',\n",
              " '534',\n",
              " '7774',\n",
              " '38846',\n",
              " '2431',\n",
              " '6090',\n",
              " '295',\n",
              " '190',\n",
              " '40211',\n",
              " '356',\n",
              " '52530',\n",
              " '116986',\n",
              " '1379',\n",
              " '271920',\n",
              " '736',\n",
              " '7021',\n",
              " '197',\n",
              " '737',\n",
              " '3574',\n",
              " '994',\n",
              " '197136',\n",
              " '142',\n",
              " '15168',\n",
              " '2155',\n",
              " '138',\n",
              " '5414',\n",
              " '21777',\n",
              " '348',\n",
              " '250',\n",
              " '13372',\n",
              " '7880',\n",
              " '3617',\n",
              " '4806',\n",
              " '65786',\n",
              " '31433',\n",
              " '5097',\n",
              " '1754',\n",
              " '2680',\n",
              " '1288',\n",
              " '18900',\n",
              " '49790',\n",
              " '1150',\n",
              " '1739',\n",
              " '32090',\n",
              " '2225',\n",
              " '4369',\n",
              " '8572',\n",
              " '964',\n",
              " '42050',\n",
              " '104',\n",
              " '17934',\n",
              " '601',\n",
              " '36',\n",
              " '187',\n",
              " '30',\n",
              " '134',\n",
              " '74',\n",
              " '113715',\n",
              " '3595',\n",
              " '9315',\n",
              " '75',\n",
              " '38',\n",
              " '26834',\n",
              " '2277',\n",
              " '2280',\n",
              " '184',\n",
              " '9',\n",
              " '364',\n",
              " '18',\n",
              " '473',\n",
              " '66',\n",
              " '3871',\n",
              " '257',\n",
              " '62',\n",
              " '2914724',\n",
              " '1857',\n",
              " '4478',\n",
              " '577550',\n",
              " '814080',\n",
              " '246315',\n",
              " '454060',\n",
              " '155446',\n",
              " '418',\n",
              " '22486',\n",
              " '203130',\n",
              " '1435',\n",
              " '116507',\n",
              " '1433233',\n",
              " '90468',\n",
              " '860',\n",
              " '363934',\n",
              " '87873',\n",
              " '17506',\n",
              " '1862',\n",
              " '2084',\n",
              " '47303',\n",
              " '19080',\n",
              " '85842',\n",
              " '7831',\n",
              " '91615',\n",
              " '4620',\n",
              " '21336',\n",
              " '26875',\n",
              " '1778',\n",
              " '2709',\n",
              " '64513',\n",
              " '8342',\n",
              " '527',\n",
              " '1322',\n",
              " '1680',\n",
              " '2739',\n",
              " '1065',\n",
              " '233757',\n",
              " '51269',\n",
              " '30105',\n",
              " '156',\n",
              " '341157',\n",
              " '16129',\n",
              " '674730',\n",
              " '1254730',\n",
              " '85185',\n",
              " '32584',\n",
              " '217730',\n",
              " '70991',\n",
              " '1002861',\n",
              " '16589',\n",
              " '148945',\n",
              " '4458',\n",
              " '62272',\n",
              " '8941',\n",
              " '46353',\n",
              " '1279184',\n",
              " '88073',\n",
              " '67000',\n",
              " '159872',\n",
              " '30847',\n",
              " '188841',\n",
              " '11622',\n",
              " '95912',\n",
              " '4034',\n",
              " '45964',\n",
              " '14955',\n",
              " '6903',\n",
              " '31614',\n",
              " '23055',\n",
              " '19023',\n",
              " '207372',\n",
              " '1225',\n",
              " '380837',\n",
              " '10600',\n",
              " '74359',\n",
              " '822',\n",
              " '80805',\n",
              " '2287',\n",
              " '4162',\n",
              " '14760',\n",
              " '23243',\n",
              " '8978',\n",
              " '42492',\n",
              " '286897',\n",
              " '103755',\n",
              " '46505',\n",
              " '11442',\n",
              " '10295',\n",
              " '296',\n",
              " '29313',\n",
              " '51507',\n",
              " '1802',\n",
              " '1383',\n",
              " '23175',\n",
              " '5868',\n",
              " '2111',\n",
              " '5448',\n",
              " '4159',\n",
              " '20815',\n",
              " '78662',\n",
              " '7149',\n",
              " '3079',\n",
              " '5800',\n",
              " '6989',\n",
              " '16422',\n",
              " '108741',\n",
              " '624',\n",
              " '1661',\n",
              " '97702',\n",
              " '308',\n",
              " '5211',\n",
              " '1058',\n",
              " '78172',\n",
              " '80804',\n",
              " '1002859',\n",
              " '51510',\n",
              " '413',\n",
              " '1013635',\n",
              " '24005',\n",
              " '57106',\n",
              " '2249',\n",
              " '516',\n",
              " '834',\n",
              " '1010',\n",
              " '238970',\n",
              " '302',\n",
              " '438',\n",
              " '73',\n",
              " '39',\n",
              " '144',\n",
              " '2181',\n",
              " '93965',\n",
              " '1446',\n",
              " '12088',\n",
              " '314',\n",
              " '25671',\n",
              " '15194',\n",
              " '22551',\n",
              " '29839',\n",
              " '279',\n",
              " '564387',\n",
              " '1677',\n",
              " '757',\n",
              " '115',\n",
              " '125',\n",
              " '9952',\n",
              " '18814',\n",
              " '21',\n",
              " '15',\n",
              " '51981',\n",
              " '3596',\n",
              " '1006',\n",
              " '5968',\n",
              " '4895',\n",
              " '56642847',\n",
              " '69119316',\n",
              " '125257',\n",
              " '9642995',\n",
              " '1429035',\n",
              " '4604324',\n",
              " '3419249',\n",
              " '11334799',\n",
              " '158679',\n",
              " '3075028',\n",
              " '4187998',\n",
              " '659395',\n",
              " '4785892',\n",
              " '66602',\n",
              " '30209',\n",
              " '36901',\n",
              " '5149854',\n",
              " '192948',\n",
              " '99559',\n",
              " '437674',\n",
              " '13698',\n",
              " '2473509',\n",
              " '20769',\n",
              " '36880',\n",
              " '171031',\n",
              " '63543',\n",
              " '45487',\n",
              " '615381',\n",
              " '2451083',\n",
              " '33053',\n",
              " '5387333',\n",
              " '3648120',\n",
              " '136662',\n",
              " '42370',\n",
              " '781810',\n",
              " '3128250',\n",
              " '2083237',\n",
              " '541389',\n",
              " '46702',\n",
              " '2939',\n",
              " '13761',\n",
              " '258556',\n",
              " '40751',\n",
              " '17712922',\n",
              " '25021',\n",
              " '27187',\n",
              " '56646578',\n",
              " '4785988',\n",
              " '122498',\n",
              " '11334973',\n",
              " '3419433',\n",
              " '132014',\n",
              " '83239',\n",
              " '594728',\n",
              " '5387446',\n",
              " '10484169',\n",
              " '3128509',\n",
              " '2451093',\n",
              " '2876500',\n",
              " '28238',\n",
              " '335646',\n",
              " '350154',\n",
              " '349384',\n",
              " '346982',\n",
              " '244863',\n",
              " '10790289',\n",
              " '330761',\n",
              " '37320',\n",
              " '12842860',\n",
              " '2546527',\n",
              " '36893',\n",
              " '15880',\n",
              " '346980',\n",
              " '9643041',\n",
              " '3075118',\n",
              " '2264916',\n",
              " '2473693',\n",
              " '42925',\n",
              " '5150471',\n",
              " '2511130',\n",
              " '3648480',\n",
              " '17714850',\n",
              " '13100',\n",
              " '27156',\n",
              " '55098',\n",
              " '1133501',\n",
              " '12578',\n",
              " '10965',\n",
              " '18247',\n",
              " '190613',\n",
              " '125232',\n",
              " '72065',\n",
              " '27540',\n",
              " '104990',\n",
              " '177703',\n",
              " '17529',\n",
              " '177263',\n",
              " '237468',\n",
              " '32254',\n",
              " '483565',\n",
              " '552441',\n",
              " '60308',\n",
              " '457283',\n",
              " '93825',\n",
              " '32283',\n",
              " '15287',\n",
              " '205739',\n",
              " '14873',\n",
              " '7820209',\n",
              " '9498',\n",
              " '4604483',\n",
              " '4188142',\n",
              " '88427',\n",
              " '305218',\n",
              " '183374',\n",
              " '20901',\n",
              " '122595',\n",
              " '124346',\n",
              " '837842',\n",
              " '255',\n",
              " '41420',\n",
              " '44706',\n",
              " '23707',\n",
              " '3419513',\n",
              " '11335255',\n",
              " '29208',\n",
              " '191032',\n",
              " '1545',\n",
              " '57',\n",
              " '2',\n",
              " '516801',\n",
              " '285726',\n",
              " '76646',\n",
              " '2556',\n",
              " '7779',\n",
              " '61637',\n",
              " '12632',\n",
              " '313724',\n",
              " '48845',\n",
              " '305708',\n",
              " '31320',\n",
              " '172460',\n",
              " '4195',\n",
              " '11633',\n",
              " '10212',\n",
              " '37053',\n",
              " '667',\n",
              " '13202',\n",
              " '28671',\n",
              " '1157',\n",
              " '212626',\n",
              " '222888',\n",
              " '2067',\n",
              " '1643',\n",
              " '105',\n",
              " '3414',\n",
              " '42194',\n",
              " '11806',\n",
              " '1999',\n",
              " '22544',\n",
              " '97684',\n",
              " '2519',\n",
              " '1146',\n",
              " '13046',\n",
              " '17268',\n",
              " '8722',\n",
              " '953',\n",
              " '2593',\n",
              " '5377',\n",
              " '852',\n",
              " '212',\n",
              " '1972',\n",
              " '35206',\n",
              " '5164',\n",
              " '1939',\n",
              " '277',\n",
              " '80',\n",
              " '825',\n",
              " '40035',\n",
              " '1093',\n",
              " '135418',\n",
              " '1601',\n",
              " '2212',\n",
              " '57081',\n",
              " '241',\n",
              " '63986',\n",
              " '7888',\n",
              " '535',\n",
              " '5084',\n",
              " '2430',\n",
              " '837',\n",
              " '738',\n",
              " '4631',\n",
              " '4953',\n",
              " '1439',\n",
              " '1645',\n",
              " '13204',\n",
              " '853',\n",
              " '337',\n",
              " '13049',\n",
              " '51698',\n",
              " '923',\n",
              " '1546',\n",
              " '149',\n",
              " '198',\n",
              " '135420',\n",
              " '22545',\n",
              " '8723',\n",
              " '23170',\n",
              " '13890',\n",
              " '57083',\n",
              " '537',\n",
              " '13440',\n",
              " '143',\n",
              " '1059',\n",
              " '894',\n",
              " '6191',\n",
              " '15081',\n",
              " '218',\n",
              " '35205',\n",
              " '243950',\n",
              " '236',\n",
              " '5152',\n",
              " '1576',\n",
              " '6701',\n",
              " '40039',\n",
              " '742',\n",
              " '2506',\n",
              " '182986',\n",
              " '8661',\n",
              " '8',\n",
              " '59',\n",
              " '35',\n",
              " '28',\n",
              " '185',\n",
              " '6',\n",
              " '110',\n",
              " '3',\n",
              " '5',\n",
              " '84',\n",
              " '20',\n",
              " '776',\n",
              " '14',\n",
              " '1',\n",
              " '11',\n",
              " '101',\n",
              " '120',\n",
              " '24',\n",
              " '4954',\n",
              " '954',\n",
              " '2560',\n",
              " '42197',\n",
              " '5168',\n",
              " '12633',\n",
              " '41605',\n",
              " '2433',\n",
              " '791',\n",
              " '5323',\n",
              " '478',\n",
              " '69',\n",
              " '53',\n",
              " '97699',\n",
              " '6289924',\n",
              " '181893',\n",
              " '2544',\n",
              " '85375',\n",
              " '314299',\n",
              " '9770',\n",
              " '32346',\n",
              " '4075',\n",
              " '10611',\n",
              " '9321',\n",
              " '56065',\n",
              " '14286',\n",
              " '133136',\n",
              " '2469',\n",
              " '36212',\n",
              " '390',\n",
              " '1090',\n",
              " '266948',\n",
              " '342918',\n",
              " '748',\n",
              " '172640',\n",
              " '61',\n",
              " '1619',\n",
              " '3168',\n",
              " '29855',\n",
              " '6736',\n",
              " '7005',\n",
              " '889',\n",
              " '5741',\n",
              " '27572',\n",
              " '10852',\n",
              " '9888',\n",
              " '1929',\n",
              " '1516',\n",
              " '215301',\n",
              " '423',\n",
              " '254519',\n",
              " '1107903',\n",
              " '211856',\n",
              " '99020',\n",
              " '90481',\n",
              " '32381',\n",
              " '248912',\n",
              " '248555',\n",
              " '272145',\n",
              " '56897',\n",
              " '8599',\n",
              " '41185',\n",
              " '29980',\n",
              " '304',\n",
              " '358',\n",
              " '11904',\n",
              " '22251',\n",
              " '22384',\n",
              " '73404',\n",
              " '12733',\n",
              " '25183',\n",
              " '52743',\n",
              " '61749',\n",
              " '55704',\n",
              " '19277',\n",
              " '13612',\n",
              " '37862',\n",
              " '18372',\n",
              " '656',\n",
              " '240',\n",
              " '275',\n",
              " '3692',\n",
              " '2363',\n",
              " '1769',\n",
              " '430',\n",
              " '756',\n",
              " '3963',\n",
              " '316',\n",
              " '642',\n",
              " '6290507',\n",
              " '32380',\n",
              " '172505',\n",
              " '69493',\n",
              " '1107884',\n",
              " '7973',\n",
              " '266935',\n",
              " '5695',\n",
              " '142632',\n",
              " '55256',\n",
              " '172508',\n",
              " '54798',\n",
              " '4815',\n",
              " '75112',\n",
              " '33646',\n",
              " '314300',\n",
              " '206527',\n",
              " '9348',\n",
              " '3816',\n",
              " '47847',\n",
              " '16195',\n",
              " '206',\n",
              " '28392',\n",
              " '3241',\n",
              " '835',\n",
              " '2525',\n",
              " '828',\n",
              " '200058',\n",
              " '1239',\n",
              " '702',\n",
              " '108613',\n",
              " '69498',\n",
              " '148550',\n",
              " '3847',\n",
              " '84309',\n",
              " '1107948',\n",
              " '14206',\n",
              " '206532',\n",
              " '14700',\n",
              " '42828',\n",
              " '40209',\n",
              " '1405',\n",
              " '148549',\n",
              " '84311',\n",
              " '256079',\n",
              " '2078',\n",
              " '16103',\n",
              " '31085',\n",
              " '3528',\n",
              " '5456208',\n",
              " '11656',\n",
              " '28948',\n",
              " '296771',\n",
              " '470089',\n",
              " '10939',\n",
              " '98509',\n",
              " '5241',\n",
              " '22508',\n",
              " '10291',\n",
              " '7165362',\n",
              " '4885646',\n",
              " '141980',\n",
              " '6979',\n",
              " '46618',\n",
              " '103078',\n",
              " '17682',\n",
              " '37000',\n",
              " '175528',\n",
              " '1828284',\n",
              " '34923',\n",
              " '684116',\n",
              " '46916',\n",
              " '407698',\n",
              " '702975',\n",
              " '32458',\n",
              " '235496',\n",
              " '11661',\n",
              " '653008',\n",
              " '23063',\n",
              " '87384',\n",
              " '411683',\n",
              " '8918',\n",
              " '501498',\n",
              " '2133296',\n",
              " '29690',\n",
              " '130549',\n",
              " '613059',\n",
              " '1633682',\n",
              " '2646',\n",
              " '21867',\n",
              " '32732',\n",
              " '243747',\n",
              " '2639',\n",
              " '1511',\n",
              " '44550',\n",
              " '501497',\n",
              " '7813',\n",
              " '1033',\n",
              " '2442',\n",
              " '15254',\n",
              " '155234',\n",
              " '310066',\n",
              " '12216',\n",
              " '388089',\n",
              " '92058',\n",
              " '88185',\n",
              " '493',\n",
              " '33387',\n",
              " '123279',\n",
              " '27424',\n",
              " '60841',\n",
              " '29706',\n",
              " '288150',\n",
              " '14807',\n",
              " '319692',\n",
              " '61201',\n",
              " '22998',\n",
              " '12398',\n",
              " '35928',\n",
              " '64448',\n",
              " '22378',\n",
              " '5456599',\n",
              " '296829',\n",
              " '310095',\n",
              " '319691',\n",
              " '16372',\n",
              " '58028',\n",
              " '736864',\n",
              " '1968',\n",
              " '35279',\n",
              " '35931',\n",
              " '17247',\n",
              " '87723',\n",
              " '18523',\n",
              " '182103',\n",
              " '197774',\n",
              " '8674',\n",
              " '5456708',\n",
              " '58082',\n",
              " '407719',\n",
              " '115033',\n",
              " '22997',\n",
              " '801',\n",
              " '8968',\n",
              " '303',\n",
              " '732',\n",
              " '1856',\n",
              " '50725',\n",
              " '1575',\n",
              " '6238',\n",
              " '9941',\n",
              " '23666',\n",
              " '67554',\n",
              " '38769',\n",
              " '160164',\n",
              " '3771',\n",
              " '256664',\n",
              " '787177',\n",
              " '3782',\n",
              " '40113',\n",
              " '7074',\n",
              " '2153',\n",
              " '26089',\n",
              " '20611',\n",
              " '811',\n",
              " '15558',\n",
              " '573',\n",
              " '8232',\n",
              " '3089',\n",
              " '3874',\n",
              " '464',\n",
              " '731',\n",
              " '8800',\n",
              " '99',\n",
              " '456',\n",
              " '3200',\n",
              " '5839',\n",
              " '4',\n",
              " '663',\n",
              " '16',\n",
              " '1953',\n",
              " '12',\n",
              " '4298',\n",
              " '100',\n",
              " '399',\n",
              " '7',\n",
              " '124424',\n",
              " '39041',\n",
              " '52306',\n",
              " '36718',\n",
              " '42644',\n",
              " '278082',\n",
              " '6076',\n",
              " '112656',\n",
              " '335738',\n",
              " '31906',\n",
              " '20672',\n",
              " '957973',\n",
              " '130582',\n",
              " '31218',\n",
              " '167168',\n",
              " '34428',\n",
              " '15247',\n",
              " '48445',\n",
              " '35518',\n",
              " '12185',\n",
              " '36746',\n",
              " '21996',\n",
              " '138371',\n",
              " '12073',\n",
              " '111632',\n",
              " '250706',\n",
              " '706301',\n",
              " '64959',\n",
              " '659741',\n",
              " '510392',\n",
              " '7215',\n",
              " '25508',\n",
              " '60449',\n",
              " '381788',\n",
              " '10697',\n",
              " '347838',\n",
              " '31804',\n",
              " '3856',\n",
              " '199684',\n",
              " '44545',\n",
              " '1336246',\n",
              " '57493',\n",
              " '283',\n",
              " '12304',\n",
              " '8188',\n",
              " '11919',\n",
              " '45957',\n",
              " '126431',\n",
              " '21570',\n",
              " '134564',\n",
              " '16961',\n",
              " '111254',\n",
              " '7731',\n",
              " '5928',\n",
              " '15703',\n",
              " '6148',\n",
              " '861',\n",
              " '8662',\n",
              " '23130',\n",
              " '69973',\n",
              " '1311',\n",
              " '26587',\n",
              " '2417',\n",
              " '706302',\n",
              " '1054',\n",
              " '25166',\n",
              " '129304',\n",
              " '19870',\n",
              " '161440',\n",
              " '7514',\n",
              " '46106',\n",
              " '15141',\n",
              " '714',\n",
              " '42410',\n",
              " '260547',\n",
              " '4344',\n",
              " '22808',\n",
              " '42809',\n",
              " '16808',\n",
              " '157505',\n",
              " '24647',\n",
              " '1922',\n",
              " '3334',\n",
              " '10658',\n",
              " '78361',\n",
              " '2594',\n",
              " '13868',\n",
              " '135952',\n",
              " '11066',\n",
              " '45962',\n",
              " '34861',\n",
              " '37580',\n",
              " '281485',\n",
              " '685',\n",
              " '126447',\n",
              " '3780',\n",
              " '15192',\n",
              " '5950',\n",
              " '15993',\n",
              " '5905',\n",
              " '659760',\n",
              " '14627',\n",
              " '1098',\n",
              " '2898',\n",
              " '70782',\n",
              " '11264',\n",
              " '100997',\n",
              " '347874',\n",
              " '3290',\n",
              " '341090',\n",
              " '87951',\n",
              " '250719',\n",
              " '510401',\n",
              " '24729',\n",
              " '78306',\n",
              " '43313',\n",
              " '1374549',\n",
              " '208463',\n",
              " '6998',\n",
              " '145323',\n",
              " '64784',\n",
              " '32997',\n",
              " '2707',\n",
              " '129737',\n",
              " '611136',\n",
              " '6118',\n",
              " '2473',\n",
              " '109784',\n",
              " '3320',\n",
              " '68103',\n",
              " '8412',\n",
              " '10741',\n",
              " '3803',\n",
              " '155944',\n",
              " '10159',\n",
              " '28008',\n",
              " '43614',\n",
              " '455377',\n",
              " '1398',\n",
              " '1032935',\n",
              " '32405',\n",
              " '151080',\n",
              " '22513',\n",
              " '90042',\n",
              " '58316',\n",
              " '8509',\n",
              " '19314',\n",
              " '21314',\n",
              " '30224',\n",
              " '454',\n",
              " '14952',\n",
              " '1250',\n",
              " '1726',\n",
              " '14065',\n",
              " '556',\n",
              " '4925',\n",
              " '6507',\n",
              " '11707',\n",
              " '1077',\n",
              " '46539',\n",
              " '9066',\n",
              " '1962',\n",
              " '22071',\n",
              " '196',\n",
              " '278',\n",
              " '61881',\n",
              " '2129',\n",
              " '1268',\n",
              " '91359',\n",
              " '22015',\n",
              " '131569',\n",
              " '31986',\n",
              " '22875',\n",
              " '17071',\n",
              " '90242',\n",
              " '483960',\n",
              " '511228',\n",
              " '1920',\n",
              " '40116',\n",
              " '51517',\n",
              " '7690',\n",
              " '321134',\n",
              " '3755',\n",
              " '104504',\n",
              " '28009',\n",
              " '333208',\n",
              " '35218',\n",
              " '116403',\n",
              " '37517',\n",
              " '292969',\n",
              " '511420',\n",
              " ...]"
            ]
          },
          "metadata": {},
          "execution_count": 511
        }
      ]
    },
    {
      "cell_type": "code",
      "source": [
        "#Review's data type is string but it needed to be in the float. \n",
        "# converting the review column as the float type\n",
        "df['Reviews']  = df['Reviews'].apply(int)"
      ],
      "metadata": {
        "id": "6lt9NZ7SG52M"
      },
      "execution_count": 575,
      "outputs": []
    },
    {
      "cell_type": "markdown",
      "source": [
        "##### Size"
      ],
      "metadata": {
        "id": "ZJjbxm_lKr5K"
      }
    },
    {
      "cell_type": "code",
      "source": [
        "df['Size'].unique().tolist()"
      ],
      "metadata": {
        "id": "X4j-I4omKvBh"
      },
      "execution_count": null,
      "outputs": []
    },
    {
      "cell_type": "code",
      "source": [
        "df['Size'].sample(20)"
      ],
      "metadata": {
        "colab": {
          "base_uri": "https://localhost:8080/"
        },
        "id": "tFnYn1YwNIrT",
        "outputId": "6ebd121e-ea91-4791-f825-e1505074fa55"
      },
      "execution_count": 514,
      "outputs": [
        {
          "output_type": "execute_result",
          "data": {
            "text/plain": [
              "6224                    18M\n",
              "10578                   31M\n",
              "4780                    17M\n",
              "5876                   3.7M\n",
              "6587                   2.6M\n",
              "9768                   5.8M\n",
              "4312                   4.5M\n",
              "1806                    48M\n",
              "5964     Varies with device\n",
              "8739                   785k\n",
              "3429                   9.7M\n",
              "10682                   36M\n",
              "166                     23M\n",
              "5083                   3.7M\n",
              "385      Varies with device\n",
              "1211                    39M\n",
              "1937                    31M\n",
              "4171                    14M\n",
              "6413                    23M\n",
              "5045                   3.0M\n",
              "Name: Size, dtype: object"
            ]
          },
          "metadata": {},
          "execution_count": 514
        }
      ]
    },
    {
      "cell_type": "markdown",
      "source": [
        "Size values has lots of problems\n",
        "* its data type is string\n",
        "* It contains the value \"Varies with device\"\n",
        "* Its value contain M for Million & K for thousand at the end of the \n",
        "* These values need to be transformed into the right format in the columns."
      ],
      "metadata": {
        "id": "3d_5waT2K_rh"
      }
    },
    {
      "cell_type": "code",
      "source": [
        "# Replacing the \"Varies with device to nan\"\n",
        "df['Size'] = df['Size'].apply(lambda x: str(x).replace(\"Varies with device\",'nan') if 'Varies with device' in str(x) else x)\n",
        "# Removing the M\n",
        "df['Size'] = df['Size'].apply(lambda x: str(x).replace('M','') if 'M' in str(x) else x)\n",
        "# Removing the k and converting the values into float\n",
        "df['Size'] =  df['Size'].apply(lambda x: float(str(x).replace('k', \"\"))/1000 if 'k' in str(x) else x)\n",
        "# changing the Size columns all values to the float\n",
        "df['Size']=  df['Size'].apply(float)"
      ],
      "metadata": {
        "id": "3RtHGKcFKuvV"
      },
      "execution_count": 515,
      "outputs": []
    },
    {
      "cell_type": "code",
      "source": [
        "# Checking again if transformation took place or not\n",
        "df['Size'].unique().tolist()"
      ],
      "metadata": {
        "colab": {
          "base_uri": "https://localhost:8080/"
        },
        "id": "tPGOGG4OM8So",
        "outputId": "810e3557-61ff-4948-e88e-606679f3e696"
      },
      "execution_count": 516,
      "outputs": [
        {
          "output_type": "execute_result",
          "data": {
            "text/plain": [
              "[19.0,\n",
              " 14.0,\n",
              " 8.7,\n",
              " 25.0,\n",
              " 2.8,\n",
              " 5.6,\n",
              " 29.0,\n",
              " 33.0,\n",
              " 3.1,\n",
              " 28.0,\n",
              " 12.0,\n",
              " 20.0,\n",
              " 21.0,\n",
              " 37.0,\n",
              " 2.7,\n",
              " 5.5,\n",
              " 17.0,\n",
              " 39.0,\n",
              " 31.0,\n",
              " 4.2,\n",
              " 23.0,\n",
              " 6.0,\n",
              " 6.1,\n",
              " 4.6,\n",
              " 9.2,\n",
              " 5.2,\n",
              " 11.0,\n",
              " 24.0,\n",
              " nan,\n",
              " 9.4,\n",
              " 15.0,\n",
              " 10.0,\n",
              " 1.2,\n",
              " 26.0,\n",
              " 8.0,\n",
              " 7.9,\n",
              " 56.0,\n",
              " 57.0,\n",
              " 35.0,\n",
              " 54.0,\n",
              " 0.201,\n",
              " 3.6,\n",
              " 5.7,\n",
              " 8.6,\n",
              " 2.4,\n",
              " 27.0,\n",
              " 2.5,\n",
              " 7.0,\n",
              " 16.0,\n",
              " 3.4,\n",
              " 8.9,\n",
              " 3.9,\n",
              " 2.9,\n",
              " 38.0,\n",
              " 32.0,\n",
              " 5.4,\n",
              " 18.0,\n",
              " 1.1,\n",
              " 2.2,\n",
              " 4.5,\n",
              " 9.8,\n",
              " 52.0,\n",
              " 9.0,\n",
              " 6.7,\n",
              " 30.0,\n",
              " 2.6,\n",
              " 7.1,\n",
              " 22.0,\n",
              " 6.4,\n",
              " 3.2,\n",
              " 8.2,\n",
              " 4.9,\n",
              " 9.5,\n",
              " 5.0,\n",
              " 5.9,\n",
              " 13.0,\n",
              " 73.0,\n",
              " 6.8,\n",
              " 3.5,\n",
              " 4.0,\n",
              " 2.3,\n",
              " 2.1,\n",
              " 42.0,\n",
              " 9.1,\n",
              " 55.0,\n",
              " 0.023,\n",
              " 7.3,\n",
              " 6.5,\n",
              " 1.5,\n",
              " 7.5,\n",
              " 51.0,\n",
              " 41.0,\n",
              " 48.0,\n",
              " 8.5,\n",
              " 46.0,\n",
              " 8.3,\n",
              " 4.3,\n",
              " 4.7,\n",
              " 3.3,\n",
              " 40.0,\n",
              " 7.8,\n",
              " 8.8,\n",
              " 6.6,\n",
              " 5.1,\n",
              " 61.0,\n",
              " 66.0,\n",
              " 0.079,\n",
              " 8.4,\n",
              " 3.7,\n",
              " 0.118,\n",
              " 44.0,\n",
              " 0.695,\n",
              " 1.6,\n",
              " 6.2,\n",
              " 53.0,\n",
              " 1.4,\n",
              " 3.0,\n",
              " 7.2,\n",
              " 5.8,\n",
              " 3.8,\n",
              " 9.6,\n",
              " 45.0,\n",
              " 63.0,\n",
              " 49.0,\n",
              " 77.0,\n",
              " 4.4,\n",
              " 70.0,\n",
              " 9.3,\n",
              " 8.1,\n",
              " 36.0,\n",
              " 6.9,\n",
              " 7.4,\n",
              " 84.0,\n",
              " 97.0,\n",
              " 2.0,\n",
              " 1.9,\n",
              " 1.8,\n",
              " 5.3,\n",
              " 47.0,\n",
              " 0.556,\n",
              " 0.526,\n",
              " 76.0,\n",
              " 7.6,\n",
              " 59.0,\n",
              " 9.7,\n",
              " 78.0,\n",
              " 72.0,\n",
              " 43.0,\n",
              " 7.7,\n",
              " 6.3,\n",
              " 0.334,\n",
              " 93.0,\n",
              " 65.0,\n",
              " 79.0,\n",
              " 100.0,\n",
              " 58.0,\n",
              " 50.0,\n",
              " 68.0,\n",
              " 64.0,\n",
              " 34.0,\n",
              " 67.0,\n",
              " 60.0,\n",
              " 94.0,\n",
              " 9.9,\n",
              " 0.232,\n",
              " 99.0,\n",
              " 0.624,\n",
              " 95.0,\n",
              " 0.0085,\n",
              " 0.041,\n",
              " 0.292,\n",
              " 0.011,\n",
              " 80.0,\n",
              " 1.7,\n",
              " 74.0,\n",
              " 62.0,\n",
              " 69.0,\n",
              " 75.0,\n",
              " 98.0,\n",
              " 85.0,\n",
              " 82.0,\n",
              " 96.0,\n",
              " 87.0,\n",
              " 71.0,\n",
              " 86.0,\n",
              " 91.0,\n",
              " 81.0,\n",
              " 92.0,\n",
              " 83.0,\n",
              " 88.0,\n",
              " 0.704,\n",
              " 0.862,\n",
              " 0.899,\n",
              " 0.378,\n",
              " 4.8,\n",
              " 0.266,\n",
              " 0.375,\n",
              " 1.3,\n",
              " 0.975,\n",
              " 0.98,\n",
              " 4.1,\n",
              " 89.0,\n",
              " 0.696,\n",
              " 0.544,\n",
              " 0.525,\n",
              " 0.92,\n",
              " 0.779,\n",
              " 0.853,\n",
              " 0.72,\n",
              " 0.713,\n",
              " 0.772,\n",
              " 0.318,\n",
              " 0.058,\n",
              " 0.241,\n",
              " 0.196,\n",
              " 0.857,\n",
              " 0.051,\n",
              " 0.953,\n",
              " 0.865,\n",
              " 0.251,\n",
              " 0.93,\n",
              " 0.54,\n",
              " 0.313,\n",
              " 0.746,\n",
              " 0.203,\n",
              " 0.026,\n",
              " 0.314,\n",
              " 0.239,\n",
              " 0.371,\n",
              " 0.22,\n",
              " 0.73,\n",
              " 0.756,\n",
              " 0.091,\n",
              " 0.293,\n",
              " 0.017,\n",
              " 0.074,\n",
              " 0.014,\n",
              " 0.317,\n",
              " 0.078,\n",
              " 0.924,\n",
              " 0.818,\n",
              " 0.081,\n",
              " 0.939,\n",
              " 0.169,\n",
              " 0.045,\n",
              " 0.965,\n",
              " 90.0,\n",
              " 0.545,\n",
              " 0.061,\n",
              " 0.283,\n",
              " 0.655,\n",
              " 0.714,\n",
              " 0.093,\n",
              " 0.872,\n",
              " 0.121,\n",
              " 0.322,\n",
              " 0.976,\n",
              " 0.206,\n",
              " 0.954,\n",
              " 0.444,\n",
              " 0.717,\n",
              " 0.21,\n",
              " 0.609,\n",
              " 0.308,\n",
              " 0.306,\n",
              " 0.175,\n",
              " 0.35,\n",
              " 0.383,\n",
              " 0.454,\n",
              " 1.0,\n",
              " 0.07,\n",
              " 0.812,\n",
              " 0.442,\n",
              " 0.842,\n",
              " 0.417,\n",
              " 0.412,\n",
              " 0.459,\n",
              " 0.478,\n",
              " 0.335,\n",
              " 0.782,\n",
              " 0.721,\n",
              " 0.43,\n",
              " 0.429,\n",
              " 0.192,\n",
              " 0.46,\n",
              " 0.728,\n",
              " 0.496,\n",
              " 0.816,\n",
              " 0.414,\n",
              " 0.506,\n",
              " 0.887,\n",
              " 0.613,\n",
              " 0.778,\n",
              " 0.683,\n",
              " 0.592,\n",
              " 0.186,\n",
              " 0.84,\n",
              " 0.647,\n",
              " 0.373,\n",
              " 0.437,\n",
              " 0.598,\n",
              " 0.716,\n",
              " 0.585,\n",
              " 0.982,\n",
              " 0.219,\n",
              " 0.055,\n",
              " 0.323,\n",
              " 0.691,\n",
              " 0.511,\n",
              " 0.951,\n",
              " 0.963,\n",
              " 0.025,\n",
              " 0.554,\n",
              " 0.351,\n",
              " 0.027,\n",
              " 0.082,\n",
              " 0.208,\n",
              " 0.551,\n",
              " 0.029,\n",
              " 0.103,\n",
              " 0.116,\n",
              " 0.153,\n",
              " 0.209,\n",
              " 0.499,\n",
              " 0.173,\n",
              " 0.597,\n",
              " 0.809,\n",
              " 0.122,\n",
              " 0.411,\n",
              " 0.4,\n",
              " 0.801,\n",
              " 0.787,\n",
              " 0.05,\n",
              " 0.643,\n",
              " 0.986,\n",
              " 0.516,\n",
              " 0.837,\n",
              " 0.78,\n",
              " 0.02,\n",
              " 0.498,\n",
              " 0.6,\n",
              " 0.656,\n",
              " 0.221,\n",
              " 0.228,\n",
              " 0.176,\n",
              " 0.034,\n",
              " 0.259,\n",
              " 0.164,\n",
              " 0.458,\n",
              " 0.629,\n",
              " 0.028,\n",
              " 0.288,\n",
              " 0.775,\n",
              " 0.785,\n",
              " 0.636,\n",
              " 0.916,\n",
              " 0.994,\n",
              " 0.309,\n",
              " 0.485,\n",
              " 0.914,\n",
              " 0.903,\n",
              " 0.608,\n",
              " 0.5,\n",
              " 0.054,\n",
              " 0.562,\n",
              " 0.847,\n",
              " 0.948,\n",
              " 0.811,\n",
              " 0.27,\n",
              " 0.048,\n",
              " 0.523,\n",
              " 0.784,\n",
              " 0.28,\n",
              " 0.024,\n",
              " 0.892,\n",
              " 0.154,\n",
              " 0.018,\n",
              " 0.033,\n",
              " 0.86,\n",
              " 0.364,\n",
              " 0.387,\n",
              " 0.626,\n",
              " 0.161,\n",
              " 0.879,\n",
              " 0.039,\n",
              " 0.17,\n",
              " 0.141,\n",
              " 0.16,\n",
              " 0.144,\n",
              " 0.143,\n",
              " 0.19,\n",
              " 0.376,\n",
              " 0.193,\n",
              " 0.473,\n",
              " 0.246,\n",
              " 0.073,\n",
              " 0.253,\n",
              " 0.957,\n",
              " 0.42,\n",
              " 0.072,\n",
              " 0.404,\n",
              " 0.47,\n",
              " 0.226,\n",
              " 0.24,\n",
              " 0.089,\n",
              " 0.234,\n",
              " 0.257,\n",
              " 0.861,\n",
              " 0.467,\n",
              " 0.676,\n",
              " 0.552,\n",
              " 0.582,\n",
              " 0.619]"
            ]
          },
          "metadata": {},
          "execution_count": 516
        }
      ]
    },
    {
      "cell_type": "code",
      "source": [
        "#describing the Size\n",
        "df['Size'].describe()\n"
      ],
      "metadata": {
        "colab": {
          "base_uri": "https://localhost:8080/"
        },
        "id": "5yKtIHJxXMcn",
        "outputId": "5f473b23-097a-462e-87a5-7b062d4b9e08"
      },
      "execution_count": 517,
      "outputs": [
        {
          "output_type": "execute_result",
          "data": {
            "text/plain": [
              "count    7424.000000\n",
              "mean       22.747621\n",
              "std        23.434790\n",
              "min         0.008500\n",
              "25%         5.100000\n",
              "50%        14.000000\n",
              "75%        33.000000\n",
              "max       100.000000\n",
              "Name: Size, dtype: float64"
            ]
          },
          "metadata": {},
          "execution_count": 517
        }
      ]
    },
    {
      "cell_type": "code",
      "source": [
        "# Checking null values\n",
        "df['Size'].isnull().sum()"
      ],
      "metadata": {
        "colab": {
          "base_uri": "https://localhost:8080/"
        },
        "id": "h6UbVqvxXED4",
        "outputId": "d43ee1da-96ab-40d0-f4a8-af98e345ad07"
      },
      "execution_count": 518,
      "outputs": [
        {
          "output_type": "execute_result",
          "data": {
            "text/plain": [
              "1468"
            ]
          },
          "metadata": {},
          "execution_count": 518
        }
      ]
    },
    {
      "cell_type": "code",
      "source": [
        "# removing the null values from the column 'Size'\n",
        "df.fillna(df['Size'].mean(),inplace= True)"
      ],
      "metadata": {
        "id": "rwqdWJ2TYmvA"
      },
      "execution_count": 519,
      "outputs": []
    },
    {
      "cell_type": "markdown",
      "source": [
        "##### Installs"
      ],
      "metadata": {
        "id": "Pmh_mYgkKhG3"
      }
    },
    {
      "cell_type": "code",
      "source": [
        "list(df['Installs'].unique())"
      ],
      "metadata": {
        "colab": {
          "base_uri": "https://localhost:8080/"
        },
        "id": "FSHewifhJ7QJ",
        "outputId": "6b3717ff-48d2-42f3-94ee-9cfd082bdafe"
      },
      "execution_count": 520,
      "outputs": [
        {
          "output_type": "execute_result",
          "data": {
            "text/plain": [
              "['10,000+',\n",
              " '500,000+',\n",
              " '5,000,000+',\n",
              " '50,000,000+',\n",
              " '100,000+',\n",
              " '50,000+',\n",
              " '1,000,000+',\n",
              " '10,000,000+',\n",
              " '5,000+',\n",
              " '100,000,000+',\n",
              " '1,000,000,000+',\n",
              " '1,000+',\n",
              " '500,000,000+',\n",
              " '100+',\n",
              " '500+',\n",
              " '10+',\n",
              " '5+',\n",
              " '50+',\n",
              " '1+']"
            ]
          },
          "metadata": {},
          "execution_count": 520
        }
      ]
    },
    {
      "cell_type": "markdown",
      "source": [
        "It contains \"+\" & \",\" and string as type so it \"+\" & \",\" needed to remove and should converted to int"
      ],
      "metadata": {
        "id": "CtQSNaWrVr5I"
      }
    },
    {
      "cell_type": "code",
      "source": [
        "df['Installs'] = df['Installs'].apply(lambda x : x.replace('+','') if '+' in x else x)\n",
        "df['Installs'] = df['Installs'].apply(lambda x : x.replace(',' ,'') if ',' in x else x)\n",
        "df['Installs'] = df['Installs'].apply(int)"
      ],
      "metadata": {
        "id": "jl5I2T1vUcxK"
      },
      "execution_count": 521,
      "outputs": []
    },
    {
      "cell_type": "code",
      "source": [
        "df['Installs'].unique().tolist()\n",
        "\n"
      ],
      "metadata": {
        "colab": {
          "base_uri": "https://localhost:8080/"
        },
        "id": "FKNjsaRZUwTT",
        "outputId": "87a2a850-2c22-4425-b412-d578c224140c"
      },
      "execution_count": 522,
      "outputs": [
        {
          "output_type": "execute_result",
          "data": {
            "text/plain": [
              "[10000,\n",
              " 500000,\n",
              " 5000000,\n",
              " 50000000,\n",
              " 100000,\n",
              " 50000,\n",
              " 1000000,\n",
              " 10000000,\n",
              " 5000,\n",
              " 100000000,\n",
              " 1000000000,\n",
              " 1000,\n",
              " 500000000,\n",
              " 100,\n",
              " 500,\n",
              " 10,\n",
              " 5,\n",
              " 50,\n",
              " 1]"
            ]
          },
          "metadata": {},
          "execution_count": 522
        }
      ]
    },
    {
      "cell_type": "code",
      "source": [
        "df.columns"
      ],
      "metadata": {
        "colab": {
          "base_uri": "https://localhost:8080/"
        },
        "id": "Z6_aOCQjWzMC",
        "outputId": "175f34fc-df0d-4299-f9dc-b917c2e48fef"
      },
      "execution_count": 523,
      "outputs": [
        {
          "output_type": "execute_result",
          "data": {
            "text/plain": [
              "Index(['App', 'Category', 'Rating', 'Reviews', 'Size', 'Installs', 'Type',\n",
              "       'Price', 'Content Rating', 'Genres', 'Last Updated', 'Current Ver',\n",
              "       'Android Ver'],\n",
              "      dtype='object')"
            ]
          },
          "metadata": {},
          "execution_count": 523
        }
      ]
    },
    {
      "cell_type": "code",
      "source": [
        "# Checking whether it has NA/Null values\n",
        "df['Installs'].isnull().sum()"
      ],
      "metadata": {
        "colab": {
          "base_uri": "https://localhost:8080/"
        },
        "id": "N0Uwy2RfZvKv",
        "outputId": "9da70c28-29a1-4e00-8db0-1acd763ec370"
      },
      "execution_count": 524,
      "outputs": [
        {
          "output_type": "execute_result",
          "data": {
            "text/plain": [
              "0"
            ]
          },
          "metadata": {},
          "execution_count": 524
        }
      ]
    },
    {
      "cell_type": "markdown",
      "source": [
        "##### Type"
      ],
      "metadata": {
        "id": "j4-RJ0DJWxGY"
      }
    },
    {
      "cell_type": "code",
      "source": [
        "# Checking the unique values of Type\n",
        "df['Type'].unique().tolist()"
      ],
      "metadata": {
        "colab": {
          "base_uri": "https://localhost:8080/"
        },
        "id": "mZ3mUSYRW8pk",
        "outputId": "180fc17b-5acb-443a-85d1-3f149b7a69bc"
      },
      "execution_count": 525,
      "outputs": [
        {
          "output_type": "execute_result",
          "data": {
            "text/plain": [
              "['Free', 'Paid']"
            ]
          },
          "metadata": {},
          "execution_count": 525
        }
      ]
    },
    {
      "cell_type": "markdown",
      "source": [
        "##### Price"
      ],
      "metadata": {
        "id": "XpUhhCxVaaf_"
      }
    },
    {
      "cell_type": "code",
      "source": [
        "df['Price'].unique()"
      ],
      "metadata": {
        "colab": {
          "base_uri": "https://localhost:8080/"
        },
        "id": "iFMH76KEahK4",
        "outputId": "eb363ddb-feb5-4094-fb3e-dc393a567337"
      },
      "execution_count": 527,
      "outputs": [
        {
          "output_type": "execute_result",
          "data": {
            "text/plain": [
              "array(['0', '$4.99', '$3.99', '$6.99', '$7.99', '$5.99', '$2.99', '$3.49',\n",
              "       '$1.99', '$9.99', '$7.49', '$0.99', '$9.00', '$5.49', '$10.00',\n",
              "       '$24.99', '$11.99', '$79.99', '$16.99', '$14.99', '$29.99',\n",
              "       '$12.99', '$2.49', '$10.99', '$1.50', '$19.99', '$15.99', '$33.99',\n",
              "       '$39.99', '$3.95', '$4.49', '$1.70', '$8.99', '$1.49', '$3.88',\n",
              "       '$399.99', '$17.99', '$400.00', '$3.02', '$1.76', '$4.84', '$4.77',\n",
              "       '$1.61', '$2.50', '$1.59', '$6.49', '$1.29', '$299.99', '$379.99',\n",
              "       '$37.99', '$18.99', '$389.99', '$8.49', '$1.75', '$14.00', '$2.00',\n",
              "       '$3.08', '$2.59', '$19.40', '$3.90', '$4.59', '$15.46', '$3.04',\n",
              "       '$13.99', '$4.29', '$3.28', '$4.60', '$1.00', '$2.95', '$2.90',\n",
              "       '$1.97', '$2.56', '$1.20'], dtype=object)"
            ]
          },
          "metadata": {},
          "execution_count": 527
        }
      ]
    },
    {
      "cell_type": "markdown",
      "source": [
        "Price \n",
        "* It can be see from the array that it contains \"$\". So it need to be removed\n",
        "* It is string type, needed to be converted to float"
      ],
      "metadata": {
        "id": "4b3pqJRMapEL"
      }
    },
    {
      "cell_type": "code",
      "source": [
        "# Removing \"$\" \n",
        "df['Price'] = df['Price'].apply( lambda x: x.replace(\"$\",\"\" ) if \"$\" in x else x )\n",
        "# Converting Price values float\n",
        "df['Price'] = df['Price'].apply(float)"
      ],
      "metadata": {
        "id": "qWEjRatybDN3"
      },
      "execution_count": 528,
      "outputs": []
    },
    {
      "cell_type": "code",
      "source": [
        "df.columns"
      ],
      "metadata": {
        "colab": {
          "base_uri": "https://localhost:8080/"
        },
        "id": "_rHW8wF8d5LP",
        "outputId": "596aa8b5-64a3-4244-f5b6-1641b7415966"
      },
      "execution_count": 529,
      "outputs": [
        {
          "output_type": "execute_result",
          "data": {
            "text/plain": [
              "Index(['App', 'Category', 'Rating', 'Reviews', 'Size', 'Installs', 'Type',\n",
              "       'Price', 'Content Rating', 'Genres', 'Last Updated', 'Current Ver',\n",
              "       'Android Ver'],\n",
              "      dtype='object')"
            ]
          },
          "metadata": {},
          "execution_count": 529
        }
      ]
    },
    {
      "cell_type": "markdown",
      "source": [
        "##### Content Rating"
      ],
      "metadata": {
        "id": "tEPAG9kPd4Dh"
      }
    },
    {
      "cell_type": "code",
      "source": [
        "# unique values of Content Rating\n",
        "df['Content Rating'].unique()"
      ],
      "metadata": {
        "colab": {
          "base_uri": "https://localhost:8080/"
        },
        "id": "LLjglLxDeAB4",
        "outputId": "4ab43165-713e-40a0-b19e-f7e2b098c86e"
      },
      "execution_count": 530,
      "outputs": [
        {
          "output_type": "execute_result",
          "data": {
            "text/plain": [
              "array(['Everyone', 'Teen', 'Everyone 10+', 'Mature 17+',\n",
              "       'Adults only 18+', 'Unrated'], dtype=object)"
            ]
          },
          "metadata": {},
          "execution_count": 530
        }
      ]
    },
    {
      "cell_type": "markdown",
      "source": [
        "##### Genres"
      ],
      "metadata": {
        "id": "6apA62eBeGHP"
      }
    },
    {
      "cell_type": "code",
      "source": [
        "# Uniques values of Genres\n",
        "df['Genres'].unique()"
      ],
      "metadata": {
        "colab": {
          "base_uri": "https://localhost:8080/"
        },
        "id": "TA7Xb7ttrwog",
        "outputId": "9d1c3978-d86e-487c-e5f0-f881876902e9"
      },
      "execution_count": 531,
      "outputs": [
        {
          "output_type": "execute_result",
          "data": {
            "text/plain": [
              "array(['Art & Design', 'Art & Design;Pretend Play',\n",
              "       'Art & Design;Creativity', 'Auto & Vehicles', 'Beauty',\n",
              "       'Books & Reference', 'Business', 'Comics', 'Comics;Creativity',\n",
              "       'Communication', 'Dating', 'Education;Education', 'Education',\n",
              "       'Education;Creativity', 'Education;Music & Video',\n",
              "       'Education;Action & Adventure', 'Education;Pretend Play',\n",
              "       'Education;Brain Games', 'Entertainment',\n",
              "       'Entertainment;Music & Video', 'Entertainment;Brain Games',\n",
              "       'Entertainment;Creativity', 'Events', 'Finance', 'Food & Drink',\n",
              "       'Health & Fitness', 'House & Home', 'Libraries & Demo',\n",
              "       'Lifestyle', 'Lifestyle;Pretend Play',\n",
              "       'Adventure;Action & Adventure', 'Arcade', 'Casual', 'Card',\n",
              "       'Casual;Pretend Play', 'Action', 'Strategy', 'Puzzle', 'Sports',\n",
              "       'Music', 'Word', 'Racing', 'Casual;Creativity',\n",
              "       'Casual;Action & Adventure', 'Simulation', 'Adventure', 'Board',\n",
              "       'Trivia', 'Role Playing', 'Simulation;Education',\n",
              "       'Action;Action & Adventure', 'Casual;Brain Games',\n",
              "       'Simulation;Action & Adventure', 'Educational;Creativity',\n",
              "       'Puzzle;Brain Games', 'Educational;Education', 'Card;Brain Games',\n",
              "       'Educational;Brain Games', 'Educational;Pretend Play',\n",
              "       'Entertainment;Education', 'Casual;Education',\n",
              "       'Music;Music & Video', 'Racing;Action & Adventure',\n",
              "       'Arcade;Pretend Play', 'Role Playing;Action & Adventure',\n",
              "       'Simulation;Pretend Play', 'Puzzle;Creativity',\n",
              "       'Sports;Action & Adventure', 'Educational;Action & Adventure',\n",
              "       'Arcade;Action & Adventure', 'Entertainment;Action & Adventure',\n",
              "       'Puzzle;Action & Adventure', 'Strategy;Action & Adventure',\n",
              "       'Music & Audio;Music & Video', 'Health & Fitness;Education',\n",
              "       'Adventure;Education', 'Board;Brain Games',\n",
              "       'Board;Action & Adventure', 'Board;Pretend Play',\n",
              "       'Casual;Music & Video', 'Role Playing;Pretend Play',\n",
              "       'Entertainment;Pretend Play', 'Video Players & Editors;Creativity',\n",
              "       'Card;Action & Adventure', 'Medical', 'Social', 'Shopping',\n",
              "       'Photography', 'Travel & Local',\n",
              "       'Travel & Local;Action & Adventure', 'Tools', 'Tools;Education',\n",
              "       'Personalization', 'Productivity', 'Parenting',\n",
              "       'Parenting;Music & Video', 'Parenting;Brain Games',\n",
              "       'Parenting;Education', 'Weather', 'Video Players & Editors',\n",
              "       'Video Players & Editors;Music & Video', 'News & Magazines',\n",
              "       'Maps & Navigation', 'Health & Fitness;Action & Adventure',\n",
              "       'Educational', 'Casino', 'Adventure;Brain Games',\n",
              "       'Lifestyle;Education', 'Books & Reference;Education',\n",
              "       'Puzzle;Education', 'Role Playing;Brain Games',\n",
              "       'Strategy;Education', 'Racing;Pretend Play',\n",
              "       'Communication;Creativity', 'Strategy;Creativity'], dtype=object)"
            ]
          },
          "metadata": {},
          "execution_count": 531
        }
      ]
    },
    {
      "cell_type": "markdown",
      "source": [
        "If we look closer at the values then it is composed of **Genres and sub_genres** separated by **;**. So we will be making the two new columns whose first part will be Genres and other part will be sub_genres\n",
        "* Genres\n",
        "* Sub_genres"
      ],
      "metadata": {
        "id": "E7h6j0gdsrip"
      }
    },
    {
      "cell_type": "code",
      "source": [
        "# Triming the Second part sepated by \";\"\n",
        "df['Sub_genres'] =  df['Genres'].apply(lambda x : x.split(\";\",1)[1] if ';' in x else x)\n",
        "# Triming the First part sepated by \";\"\n",
        "df['Genres_board'] = df['Genres'].apply(lambda x : x.split(\";\", 1)[0] if ';' in x else x)"
      ],
      "metadata": {
        "id": "Ajb3Z3x-tdts"
      },
      "execution_count": 532,
      "outputs": []
    },
    {
      "cell_type": "code",
      "source": [
        "df['Sub_genres'].unique()"
      ],
      "metadata": {
        "colab": {
          "base_uri": "https://localhost:8080/"
        },
        "id": "epgPEhtDxLez",
        "outputId": "342dfe74-d9b0-4261-ad05-608732a18eff"
      },
      "execution_count": 533,
      "outputs": [
        {
          "output_type": "execute_result",
          "data": {
            "text/plain": [
              "array(['Art & Design', 'Pretend Play', 'Creativity', 'Auto & Vehicles',\n",
              "       'Beauty', 'Books & Reference', 'Business', 'Comics',\n",
              "       'Communication', 'Dating', 'Education', 'Music & Video',\n",
              "       'Action & Adventure', 'Brain Games', 'Entertainment', 'Events',\n",
              "       'Finance', 'Food & Drink', 'Health & Fitness', 'House & Home',\n",
              "       'Libraries & Demo', 'Lifestyle', 'Arcade', 'Casual', 'Card',\n",
              "       'Action', 'Strategy', 'Puzzle', 'Sports', 'Music', 'Word',\n",
              "       'Racing', 'Simulation', 'Adventure', 'Board', 'Trivia',\n",
              "       'Role Playing', 'Medical', 'Social', 'Shopping', 'Photography',\n",
              "       'Travel & Local', 'Tools', 'Personalization', 'Productivity',\n",
              "       'Parenting', 'Weather', 'Video Players & Editors',\n",
              "       'News & Magazines', 'Maps & Navigation', 'Educational', 'Casino'],\n",
              "      dtype=object)"
            ]
          },
          "metadata": {},
          "execution_count": 533
        }
      ]
    },
    {
      "cell_type": "code",
      "source": [
        "# Checking if its updated or not in Genres\n",
        "df['Genres_board'].unique()"
      ],
      "metadata": {
        "colab": {
          "base_uri": "https://localhost:8080/"
        },
        "id": "G7NE39bnt2Bp",
        "outputId": "b3f7eb9f-b2b1-45bb-81d7-171461e87ab8"
      },
      "execution_count": 534,
      "outputs": [
        {
          "output_type": "execute_result",
          "data": {
            "text/plain": [
              "array(['Art & Design', 'Auto & Vehicles', 'Beauty', 'Books & Reference',\n",
              "       'Business', 'Comics', 'Communication', 'Dating', 'Education',\n",
              "       'Entertainment', 'Events', 'Finance', 'Food & Drink',\n",
              "       'Health & Fitness', 'House & Home', 'Libraries & Demo',\n",
              "       'Lifestyle', 'Adventure', 'Arcade', 'Casual', 'Card', 'Action',\n",
              "       'Strategy', 'Puzzle', 'Sports', 'Music', 'Word', 'Racing',\n",
              "       'Simulation', 'Board', 'Trivia', 'Role Playing', 'Educational',\n",
              "       'Music & Audio', 'Video Players & Editors', 'Medical', 'Social',\n",
              "       'Shopping', 'Photography', 'Travel & Local', 'Tools',\n",
              "       'Personalization', 'Productivity', 'Parenting', 'Weather',\n",
              "       'News & Magazines', 'Maps & Navigation', 'Casino'], dtype=object)"
            ]
          },
          "metadata": {},
          "execution_count": 534
        }
      ]
    },
    {
      "cell_type": "code",
      "source": [
        "# Checking the random values \n",
        "df[['Genres_board','Genres','Sub_genres']].sample(40)"
      ],
      "metadata": {
        "colab": {
          "base_uri": "https://localhost:8080/",
          "height": 1000
        },
        "id": "WsAD2h5SrFCs",
        "outputId": "f414411b-f1dd-491b-c81d-a51d6c5a08ff"
      },
      "execution_count": 535,
      "outputs": [
        {
          "output_type": "execute_result",
          "data": {
            "text/plain": [
              "            Genres_board                     Genres          Sub_genres\n",
              "4766     Personalization            Personalization     Personalization\n",
              "7011              Casual          Casual;Creativity          Creativity\n",
              "1249        Food & Drink               Food & Drink        Food & Drink\n",
              "8982               Tools                      Tools               Tools\n",
              "5026           Education                  Education           Education\n",
              "7979            Business                   Business            Business\n",
              "5092               Tools                      Tools               Tools\n",
              "5095          Simulation                 Simulation          Simulation\n",
              "8274      Travel & Local             Travel & Local      Travel & Local\n",
              "1860        Role Playing               Role Playing        Role Playing\n",
              "6125            Business                   Business            Business\n",
              "4892    Health & Fitness           Health & Fitness    Health & Fitness\n",
              "447        Communication              Communication       Communication\n",
              "4522        Food & Drink               Food & Drink        Food & Drink\n",
              "9135       Communication              Communication       Communication\n",
              "10306      Entertainment              Entertainment       Entertainment\n",
              "4036              Casual  Casual;Action & Adventure  Action & Adventure\n",
              "8004       Communication              Communication       Communication\n",
              "4639   Maps & Navigation          Maps & Navigation   Maps & Navigation\n",
              "5519               Tools                      Tools               Tools\n",
              "7931              Casual                     Casual              Casual\n",
              "8899     Personalization            Personalization     Personalization\n",
              "5586    Health & Fitness           Health & Fitness    Health & Fitness\n",
              "4649               Tools                      Tools               Tools\n",
              "1637           Lifestyle                  Lifestyle           Lifestyle\n",
              "2756            Shopping                   Shopping            Shopping\n",
              "9307             Finance                    Finance             Finance\n",
              "1312    Health & Fitness           Health & Fitness    Health & Fitness\n",
              "2728            Shopping                   Shopping            Shopping\n",
              "9890         Educational                Educational         Educational\n",
              "2144         Educational      Educational;Education           Education\n",
              "6410   Maps & Navigation          Maps & Navigation   Maps & Navigation\n",
              "9633           Education                  Education           Education\n",
              "362        Communication              Communication       Communication\n",
              "5267              Casual        Casual;Pretend Play        Pretend Play\n",
              "7912             Finance                    Finance             Finance\n",
              "2342             Medical                    Medical             Medical\n",
              "7648               Board                      Board               Board\n",
              "9363       Entertainment              Entertainment       Entertainment\n",
              "6447     Personalization            Personalization     Personalization"
            ],
            "text/html": [
              "\n",
              "  <div id=\"df-44e05610-d68f-4ced-bf42-a3e84f4e7df4\">\n",
              "    <div class=\"colab-df-container\">\n",
              "      <div>\n",
              "<style scoped>\n",
              "    .dataframe tbody tr th:only-of-type {\n",
              "        vertical-align: middle;\n",
              "    }\n",
              "\n",
              "    .dataframe tbody tr th {\n",
              "        vertical-align: top;\n",
              "    }\n",
              "\n",
              "    .dataframe thead th {\n",
              "        text-align: right;\n",
              "    }\n",
              "</style>\n",
              "<table border=\"1\" class=\"dataframe\">\n",
              "  <thead>\n",
              "    <tr style=\"text-align: right;\">\n",
              "      <th></th>\n",
              "      <th>Genres_board</th>\n",
              "      <th>Genres</th>\n",
              "      <th>Sub_genres</th>\n",
              "    </tr>\n",
              "  </thead>\n",
              "  <tbody>\n",
              "    <tr>\n",
              "      <th>4766</th>\n",
              "      <td>Personalization</td>\n",
              "      <td>Personalization</td>\n",
              "      <td>Personalization</td>\n",
              "    </tr>\n",
              "    <tr>\n",
              "      <th>7011</th>\n",
              "      <td>Casual</td>\n",
              "      <td>Casual;Creativity</td>\n",
              "      <td>Creativity</td>\n",
              "    </tr>\n",
              "    <tr>\n",
              "      <th>1249</th>\n",
              "      <td>Food &amp; Drink</td>\n",
              "      <td>Food &amp; Drink</td>\n",
              "      <td>Food &amp; Drink</td>\n",
              "    </tr>\n",
              "    <tr>\n",
              "      <th>8982</th>\n",
              "      <td>Tools</td>\n",
              "      <td>Tools</td>\n",
              "      <td>Tools</td>\n",
              "    </tr>\n",
              "    <tr>\n",
              "      <th>5026</th>\n",
              "      <td>Education</td>\n",
              "      <td>Education</td>\n",
              "      <td>Education</td>\n",
              "    </tr>\n",
              "    <tr>\n",
              "      <th>7979</th>\n",
              "      <td>Business</td>\n",
              "      <td>Business</td>\n",
              "      <td>Business</td>\n",
              "    </tr>\n",
              "    <tr>\n",
              "      <th>5092</th>\n",
              "      <td>Tools</td>\n",
              "      <td>Tools</td>\n",
              "      <td>Tools</td>\n",
              "    </tr>\n",
              "    <tr>\n",
              "      <th>5095</th>\n",
              "      <td>Simulation</td>\n",
              "      <td>Simulation</td>\n",
              "      <td>Simulation</td>\n",
              "    </tr>\n",
              "    <tr>\n",
              "      <th>8274</th>\n",
              "      <td>Travel &amp; Local</td>\n",
              "      <td>Travel &amp; Local</td>\n",
              "      <td>Travel &amp; Local</td>\n",
              "    </tr>\n",
              "    <tr>\n",
              "      <th>1860</th>\n",
              "      <td>Role Playing</td>\n",
              "      <td>Role Playing</td>\n",
              "      <td>Role Playing</td>\n",
              "    </tr>\n",
              "    <tr>\n",
              "      <th>6125</th>\n",
              "      <td>Business</td>\n",
              "      <td>Business</td>\n",
              "      <td>Business</td>\n",
              "    </tr>\n",
              "    <tr>\n",
              "      <th>4892</th>\n",
              "      <td>Health &amp; Fitness</td>\n",
              "      <td>Health &amp; Fitness</td>\n",
              "      <td>Health &amp; Fitness</td>\n",
              "    </tr>\n",
              "    <tr>\n",
              "      <th>447</th>\n",
              "      <td>Communication</td>\n",
              "      <td>Communication</td>\n",
              "      <td>Communication</td>\n",
              "    </tr>\n",
              "    <tr>\n",
              "      <th>4522</th>\n",
              "      <td>Food &amp; Drink</td>\n",
              "      <td>Food &amp; Drink</td>\n",
              "      <td>Food &amp; Drink</td>\n",
              "    </tr>\n",
              "    <tr>\n",
              "      <th>9135</th>\n",
              "      <td>Communication</td>\n",
              "      <td>Communication</td>\n",
              "      <td>Communication</td>\n",
              "    </tr>\n",
              "    <tr>\n",
              "      <th>10306</th>\n",
              "      <td>Entertainment</td>\n",
              "      <td>Entertainment</td>\n",
              "      <td>Entertainment</td>\n",
              "    </tr>\n",
              "    <tr>\n",
              "      <th>4036</th>\n",
              "      <td>Casual</td>\n",
              "      <td>Casual;Action &amp; Adventure</td>\n",
              "      <td>Action &amp; Adventure</td>\n",
              "    </tr>\n",
              "    <tr>\n",
              "      <th>8004</th>\n",
              "      <td>Communication</td>\n",
              "      <td>Communication</td>\n",
              "      <td>Communication</td>\n",
              "    </tr>\n",
              "    <tr>\n",
              "      <th>4639</th>\n",
              "      <td>Maps &amp; Navigation</td>\n",
              "      <td>Maps &amp; Navigation</td>\n",
              "      <td>Maps &amp; Navigation</td>\n",
              "    </tr>\n",
              "    <tr>\n",
              "      <th>5519</th>\n",
              "      <td>Tools</td>\n",
              "      <td>Tools</td>\n",
              "      <td>Tools</td>\n",
              "    </tr>\n",
              "    <tr>\n",
              "      <th>7931</th>\n",
              "      <td>Casual</td>\n",
              "      <td>Casual</td>\n",
              "      <td>Casual</td>\n",
              "    </tr>\n",
              "    <tr>\n",
              "      <th>8899</th>\n",
              "      <td>Personalization</td>\n",
              "      <td>Personalization</td>\n",
              "      <td>Personalization</td>\n",
              "    </tr>\n",
              "    <tr>\n",
              "      <th>5586</th>\n",
              "      <td>Health &amp; Fitness</td>\n",
              "      <td>Health &amp; Fitness</td>\n",
              "      <td>Health &amp; Fitness</td>\n",
              "    </tr>\n",
              "    <tr>\n",
              "      <th>4649</th>\n",
              "      <td>Tools</td>\n",
              "      <td>Tools</td>\n",
              "      <td>Tools</td>\n",
              "    </tr>\n",
              "    <tr>\n",
              "      <th>1637</th>\n",
              "      <td>Lifestyle</td>\n",
              "      <td>Lifestyle</td>\n",
              "      <td>Lifestyle</td>\n",
              "    </tr>\n",
              "    <tr>\n",
              "      <th>2756</th>\n",
              "      <td>Shopping</td>\n",
              "      <td>Shopping</td>\n",
              "      <td>Shopping</td>\n",
              "    </tr>\n",
              "    <tr>\n",
              "      <th>9307</th>\n",
              "      <td>Finance</td>\n",
              "      <td>Finance</td>\n",
              "      <td>Finance</td>\n",
              "    </tr>\n",
              "    <tr>\n",
              "      <th>1312</th>\n",
              "      <td>Health &amp; Fitness</td>\n",
              "      <td>Health &amp; Fitness</td>\n",
              "      <td>Health &amp; Fitness</td>\n",
              "    </tr>\n",
              "    <tr>\n",
              "      <th>2728</th>\n",
              "      <td>Shopping</td>\n",
              "      <td>Shopping</td>\n",
              "      <td>Shopping</td>\n",
              "    </tr>\n",
              "    <tr>\n",
              "      <th>9890</th>\n",
              "      <td>Educational</td>\n",
              "      <td>Educational</td>\n",
              "      <td>Educational</td>\n",
              "    </tr>\n",
              "    <tr>\n",
              "      <th>2144</th>\n",
              "      <td>Educational</td>\n",
              "      <td>Educational;Education</td>\n",
              "      <td>Education</td>\n",
              "    </tr>\n",
              "    <tr>\n",
              "      <th>6410</th>\n",
              "      <td>Maps &amp; Navigation</td>\n",
              "      <td>Maps &amp; Navigation</td>\n",
              "      <td>Maps &amp; Navigation</td>\n",
              "    </tr>\n",
              "    <tr>\n",
              "      <th>9633</th>\n",
              "      <td>Education</td>\n",
              "      <td>Education</td>\n",
              "      <td>Education</td>\n",
              "    </tr>\n",
              "    <tr>\n",
              "      <th>362</th>\n",
              "      <td>Communication</td>\n",
              "      <td>Communication</td>\n",
              "      <td>Communication</td>\n",
              "    </tr>\n",
              "    <tr>\n",
              "      <th>5267</th>\n",
              "      <td>Casual</td>\n",
              "      <td>Casual;Pretend Play</td>\n",
              "      <td>Pretend Play</td>\n",
              "    </tr>\n",
              "    <tr>\n",
              "      <th>7912</th>\n",
              "      <td>Finance</td>\n",
              "      <td>Finance</td>\n",
              "      <td>Finance</td>\n",
              "    </tr>\n",
              "    <tr>\n",
              "      <th>2342</th>\n",
              "      <td>Medical</td>\n",
              "      <td>Medical</td>\n",
              "      <td>Medical</td>\n",
              "    </tr>\n",
              "    <tr>\n",
              "      <th>7648</th>\n",
              "      <td>Board</td>\n",
              "      <td>Board</td>\n",
              "      <td>Board</td>\n",
              "    </tr>\n",
              "    <tr>\n",
              "      <th>9363</th>\n",
              "      <td>Entertainment</td>\n",
              "      <td>Entertainment</td>\n",
              "      <td>Entertainment</td>\n",
              "    </tr>\n",
              "    <tr>\n",
              "      <th>6447</th>\n",
              "      <td>Personalization</td>\n",
              "      <td>Personalization</td>\n",
              "      <td>Personalization</td>\n",
              "    </tr>\n",
              "  </tbody>\n",
              "</table>\n",
              "</div>\n",
              "      <button class=\"colab-df-convert\" onclick=\"convertToInteractive('df-44e05610-d68f-4ced-bf42-a3e84f4e7df4')\"\n",
              "              title=\"Convert this dataframe to an interactive table.\"\n",
              "              style=\"display:none;\">\n",
              "        \n",
              "  <svg xmlns=\"http://www.w3.org/2000/svg\" height=\"24px\"viewBox=\"0 0 24 24\"\n",
              "       width=\"24px\">\n",
              "    <path d=\"M0 0h24v24H0V0z\" fill=\"none\"/>\n",
              "    <path d=\"M18.56 5.44l.94 2.06.94-2.06 2.06-.94-2.06-.94-.94-2.06-.94 2.06-2.06.94zm-11 1L8.5 8.5l.94-2.06 2.06-.94-2.06-.94L8.5 2.5l-.94 2.06-2.06.94zm10 10l.94 2.06.94-2.06 2.06-.94-2.06-.94-.94-2.06-.94 2.06-2.06.94z\"/><path d=\"M17.41 7.96l-1.37-1.37c-.4-.4-.92-.59-1.43-.59-.52 0-1.04.2-1.43.59L10.3 9.45l-7.72 7.72c-.78.78-.78 2.05 0 2.83L4 21.41c.39.39.9.59 1.41.59.51 0 1.02-.2 1.41-.59l7.78-7.78 2.81-2.81c.8-.78.8-2.07 0-2.86zM5.41 20L4 18.59l7.72-7.72 1.47 1.35L5.41 20z\"/>\n",
              "  </svg>\n",
              "      </button>\n",
              "      \n",
              "  <style>\n",
              "    .colab-df-container {\n",
              "      display:flex;\n",
              "      flex-wrap:wrap;\n",
              "      gap: 12px;\n",
              "    }\n",
              "\n",
              "    .colab-df-convert {\n",
              "      background-color: #E8F0FE;\n",
              "      border: none;\n",
              "      border-radius: 50%;\n",
              "      cursor: pointer;\n",
              "      display: none;\n",
              "      fill: #1967D2;\n",
              "      height: 32px;\n",
              "      padding: 0 0 0 0;\n",
              "      width: 32px;\n",
              "    }\n",
              "\n",
              "    .colab-df-convert:hover {\n",
              "      background-color: #E2EBFA;\n",
              "      box-shadow: 0px 1px 2px rgba(60, 64, 67, 0.3), 0px 1px 3px 1px rgba(60, 64, 67, 0.15);\n",
              "      fill: #174EA6;\n",
              "    }\n",
              "\n",
              "    [theme=dark] .colab-df-convert {\n",
              "      background-color: #3B4455;\n",
              "      fill: #D2E3FC;\n",
              "    }\n",
              "\n",
              "    [theme=dark] .colab-df-convert:hover {\n",
              "      background-color: #434B5C;\n",
              "      box-shadow: 0px 1px 3px 1px rgba(0, 0, 0, 0.15);\n",
              "      filter: drop-shadow(0px 1px 2px rgba(0, 0, 0, 0.3));\n",
              "      fill: #FFFFFF;\n",
              "    }\n",
              "  </style>\n",
              "\n",
              "      <script>\n",
              "        const buttonEl =\n",
              "          document.querySelector('#df-44e05610-d68f-4ced-bf42-a3e84f4e7df4 button.colab-df-convert');\n",
              "        buttonEl.style.display =\n",
              "          google.colab.kernel.accessAllowed ? 'block' : 'none';\n",
              "\n",
              "        async function convertToInteractive(key) {\n",
              "          const element = document.querySelector('#df-44e05610-d68f-4ced-bf42-a3e84f4e7df4');\n",
              "          const dataTable =\n",
              "            await google.colab.kernel.invokeFunction('convertToInteractive',\n",
              "                                                     [key], {});\n",
              "          if (!dataTable) return;\n",
              "\n",
              "          const docLinkHtml = 'Like what you see? Visit the ' +\n",
              "            '<a target=\"_blank\" href=https://colab.research.google.com/notebooks/data_table.ipynb>data table notebook</a>'\n",
              "            + ' to learn more about interactive tables.';\n",
              "          element.innerHTML = '';\n",
              "          dataTable['output_type'] = 'display_data';\n",
              "          await google.colab.output.renderOutput(dataTable, element);\n",
              "          const docLink = document.createElement('div');\n",
              "          docLink.innerHTML = docLinkHtml;\n",
              "          element.appendChild(docLink);\n",
              "        }\n",
              "      </script>\n",
              "    </div>\n",
              "  </div>\n",
              "  "
            ]
          },
          "metadata": {},
          "execution_count": 535
        }
      ]
    },
    {
      "cell_type": "markdown",
      "source": [
        "##### Last Updated"
      ],
      "metadata": {
        "id": "PgtYyyRVzb5f"
      }
    },
    {
      "cell_type": "code",
      "source": [
        "df['Last Updated'].unique()"
      ],
      "metadata": {
        "id": "dex1mKyfzByg",
        "outputId": "f76cadbc-a0fb-455c-d9fd-977c6a0458b9",
        "colab": {
          "base_uri": "https://localhost:8080/"
        }
      },
      "execution_count": 536,
      "outputs": [
        {
          "output_type": "execute_result",
          "data": {
            "text/plain": [
              "array(['January 7, 2018', 'January 15, 2018', 'August 1, 2018', ...,\n",
              "       'January 20, 2014', 'February 16, 2014', 'March 23, 2014'],\n",
              "      dtype=object)"
            ]
          },
          "metadata": {},
          "execution_count": 536
        }
      ]
    },
    {
      "cell_type": "markdown",
      "source": [
        "##### Android Ver, Current Ver"
      ],
      "metadata": {
        "id": "yEgOcpJfzgAt"
      }
    },
    {
      "cell_type": "code",
      "source": [
        "df['Android Ver'].unique()"
      ],
      "metadata": {
        "id": "Ks2_44_VzPhK",
        "outputId": "a30fd6dc-ec47-4808-e879-aa83d044ed6c",
        "colab": {
          "base_uri": "https://localhost:8080/"
        }
      },
      "execution_count": 555,
      "outputs": [
        {
          "output_type": "execute_result",
          "data": {
            "text/plain": [
              "array(['4.0.3 and up', '4.2 and up', '4.4 and up', '2.3 and up',\n",
              "       '3.0 and up', '4.1 and up', '4.0 and up', '2.3.3 and up',\n",
              "       'Varies with device', '2.2 and up', '5.0 and up', '6.0 and up',\n",
              "       '1.6 and up', '1.5 and up', '2.1 and up', '7.0 and up',\n",
              "       '4.3 and up', '4.0.3 - 7.1.1', '2.0 and up', '3.2 and up',\n",
              "       '4.4W and up', '5.1 and up', '7.1 and up', '7.0 - 7.1.1',\n",
              "       '8.0 and up', '5.0 - 8.0', '3.1 and up', '2.0.1 and up',\n",
              "       '4.1 - 7.1.1', 22.74762116109914, '5.0 - 6.0', '1.0 and up'],\n",
              "      dtype=object)"
            ]
          },
          "metadata": {},
          "execution_count": 555
        }
      ]
    },
    {
      "cell_type": "code",
      "source": [
        "df['Current Ver'].unique()"
      ],
      "metadata": {
        "id": "P8zbCIznzGgE",
        "outputId": "2683dcdc-261b-4012-85b5-b676993a09aa",
        "colab": {
          "base_uri": "https://localhost:8080/"
        }
      },
      "execution_count": 538,
      "outputs": [
        {
          "output_type": "execute_result",
          "data": {
            "text/plain": [
              "array(['1.0.0', '2.0.0', '1.2.4', ..., '1.5.447', '1.0.612928', '0.3.4'],\n",
              "      dtype=object)"
            ]
          },
          "metadata": {},
          "execution_count": 538
        }
      ]
    },
    {
      "cell_type": "code",
      "source": [
        "df.columns"
      ],
      "metadata": {
        "id": "ZJp4loOgy8RU",
        "outputId": "17248bdb-7bf6-4795-8a35-e78c7e4eef86",
        "colab": {
          "base_uri": "https://localhost:8080/"
        }
      },
      "execution_count": 539,
      "outputs": [
        {
          "output_type": "execute_result",
          "data": {
            "text/plain": [
              "Index(['App', 'Category', 'Rating', 'Reviews', 'Size', 'Installs', 'Type',\n",
              "       'Price', 'Content Rating', 'Genres', 'Last Updated', 'Current Ver',\n",
              "       'Android Ver', 'Sub_genres', 'Genres_board'],\n",
              "      dtype='object')"
            ]
          },
          "metadata": {},
          "execution_count": 539
        }
      ]
    },
    {
      "cell_type": "markdown",
      "source": [
        "W"
      ],
      "metadata": {
        "id": "PdZqt_MCB9yp"
      }
    },
    {
      "cell_type": "code",
      "source": [
        "new.head()"
      ],
      "metadata": {
        "colab": {
          "base_uri": "https://localhost:8080/",
          "height": 617
        },
        "id": "UIeqfXd2DhGS",
        "outputId": "92b709bf-3a94-4c1b-9d33-019621521909"
      },
      "execution_count": 565,
      "outputs": [
        {
          "output_type": "execute_result",
          "data": {
            "text/plain": [
              "                                                 App        Category  Rating  \\\n",
              "0     Photo Editor & Candy Camera & Grid & ScrapBook  ART_AND_DESIGN     4.1   \n",
              "1                                Coloring book moana  ART_AND_DESIGN     3.9   \n",
              "2  U Launcher Lite – FREE Live Cool Themes, Hide ...  ART_AND_DESIGN     4.7   \n",
              "3                              Sketch - Draw & Paint  ART_AND_DESIGN     4.5   \n",
              "4              Pixel Draw - Number Art Coloring Book  ART_AND_DESIGN     4.3   \n",
              "\n",
              "    Reviews  Size  Installs  Type  Price Content Rating  \\\n",
              "0     159.0  19.0     10000  Free    0.0       Everyone   \n",
              "1     967.0  14.0    500000  Free    0.0       Everyone   \n",
              "2   87510.0   8.7   5000000  Free    0.0       Everyone   \n",
              "3  215644.0  25.0  50000000  Free    0.0           Teen   \n",
              "4     967.0   2.8    100000  Free    0.0       Everyone   \n",
              "\n",
              "                      Genres      Last Updated         Current Ver  \\\n",
              "0               Art & Design   January 7, 2018               1.0.0   \n",
              "1  Art & Design;Pretend Play  January 15, 2018               2.0.0   \n",
              "2               Art & Design    August 1, 2018               1.2.4   \n",
              "3               Art & Design      June 8, 2018  Varies with device   \n",
              "4    Art & Design;Creativity     June 20, 2018                 1.1   \n",
              "\n",
              "    Android Ver    Sub_genres  Genres_board  \n",
              "0  4.0.3 and up  Art & Design  Art & Design  \n",
              "1  4.0.3 and up  Pretend Play  Art & Design  \n",
              "2  4.0.3 and up  Art & Design  Art & Design  \n",
              "3    4.2 and up  Art & Design  Art & Design  \n",
              "4    4.4 and up    Creativity  Art & Design  "
            ],
            "text/html": [
              "\n",
              "  <div id=\"df-f4682109-4491-4702-8c42-bdad1108fe5b\">\n",
              "    <div class=\"colab-df-container\">\n",
              "      <div>\n",
              "<style scoped>\n",
              "    .dataframe tbody tr th:only-of-type {\n",
              "        vertical-align: middle;\n",
              "    }\n",
              "\n",
              "    .dataframe tbody tr th {\n",
              "        vertical-align: top;\n",
              "    }\n",
              "\n",
              "    .dataframe thead th {\n",
              "        text-align: right;\n",
              "    }\n",
              "</style>\n",
              "<table border=\"1\" class=\"dataframe\">\n",
              "  <thead>\n",
              "    <tr style=\"text-align: right;\">\n",
              "      <th></th>\n",
              "      <th>App</th>\n",
              "      <th>Category</th>\n",
              "      <th>Rating</th>\n",
              "      <th>Reviews</th>\n",
              "      <th>Size</th>\n",
              "      <th>Installs</th>\n",
              "      <th>Type</th>\n",
              "      <th>Price</th>\n",
              "      <th>Content Rating</th>\n",
              "      <th>Genres</th>\n",
              "      <th>Last Updated</th>\n",
              "      <th>Current Ver</th>\n",
              "      <th>Android Ver</th>\n",
              "      <th>Sub_genres</th>\n",
              "      <th>Genres_board</th>\n",
              "    </tr>\n",
              "  </thead>\n",
              "  <tbody>\n",
              "    <tr>\n",
              "      <th>0</th>\n",
              "      <td>Photo Editor &amp; Candy Camera &amp; Grid &amp; ScrapBook</td>\n",
              "      <td>ART_AND_DESIGN</td>\n",
              "      <td>4.1</td>\n",
              "      <td>159.0</td>\n",
              "      <td>19.0</td>\n",
              "      <td>10000</td>\n",
              "      <td>Free</td>\n",
              "      <td>0.0</td>\n",
              "      <td>Everyone</td>\n",
              "      <td>Art &amp; Design</td>\n",
              "      <td>January 7, 2018</td>\n",
              "      <td>1.0.0</td>\n",
              "      <td>4.0.3 and up</td>\n",
              "      <td>Art &amp; Design</td>\n",
              "      <td>Art &amp; Design</td>\n",
              "    </tr>\n",
              "    <tr>\n",
              "      <th>1</th>\n",
              "      <td>Coloring book moana</td>\n",
              "      <td>ART_AND_DESIGN</td>\n",
              "      <td>3.9</td>\n",
              "      <td>967.0</td>\n",
              "      <td>14.0</td>\n",
              "      <td>500000</td>\n",
              "      <td>Free</td>\n",
              "      <td>0.0</td>\n",
              "      <td>Everyone</td>\n",
              "      <td>Art &amp; Design;Pretend Play</td>\n",
              "      <td>January 15, 2018</td>\n",
              "      <td>2.0.0</td>\n",
              "      <td>4.0.3 and up</td>\n",
              "      <td>Pretend Play</td>\n",
              "      <td>Art &amp; Design</td>\n",
              "    </tr>\n",
              "    <tr>\n",
              "      <th>2</th>\n",
              "      <td>U Launcher Lite – FREE Live Cool Themes, Hide ...</td>\n",
              "      <td>ART_AND_DESIGN</td>\n",
              "      <td>4.7</td>\n",
              "      <td>87510.0</td>\n",
              "      <td>8.7</td>\n",
              "      <td>5000000</td>\n",
              "      <td>Free</td>\n",
              "      <td>0.0</td>\n",
              "      <td>Everyone</td>\n",
              "      <td>Art &amp; Design</td>\n",
              "      <td>August 1, 2018</td>\n",
              "      <td>1.2.4</td>\n",
              "      <td>4.0.3 and up</td>\n",
              "      <td>Art &amp; Design</td>\n",
              "      <td>Art &amp; Design</td>\n",
              "    </tr>\n",
              "    <tr>\n",
              "      <th>3</th>\n",
              "      <td>Sketch - Draw &amp; Paint</td>\n",
              "      <td>ART_AND_DESIGN</td>\n",
              "      <td>4.5</td>\n",
              "      <td>215644.0</td>\n",
              "      <td>25.0</td>\n",
              "      <td>50000000</td>\n",
              "      <td>Free</td>\n",
              "      <td>0.0</td>\n",
              "      <td>Teen</td>\n",
              "      <td>Art &amp; Design</td>\n",
              "      <td>June 8, 2018</td>\n",
              "      <td>Varies with device</td>\n",
              "      <td>4.2 and up</td>\n",
              "      <td>Art &amp; Design</td>\n",
              "      <td>Art &amp; Design</td>\n",
              "    </tr>\n",
              "    <tr>\n",
              "      <th>4</th>\n",
              "      <td>Pixel Draw - Number Art Coloring Book</td>\n",
              "      <td>ART_AND_DESIGN</td>\n",
              "      <td>4.3</td>\n",
              "      <td>967.0</td>\n",
              "      <td>2.8</td>\n",
              "      <td>100000</td>\n",
              "      <td>Free</td>\n",
              "      <td>0.0</td>\n",
              "      <td>Everyone</td>\n",
              "      <td>Art &amp; Design;Creativity</td>\n",
              "      <td>June 20, 2018</td>\n",
              "      <td>1.1</td>\n",
              "      <td>4.4 and up</td>\n",
              "      <td>Creativity</td>\n",
              "      <td>Art &amp; Design</td>\n",
              "    </tr>\n",
              "  </tbody>\n",
              "</table>\n",
              "</div>\n",
              "      <button class=\"colab-df-convert\" onclick=\"convertToInteractive('df-f4682109-4491-4702-8c42-bdad1108fe5b')\"\n",
              "              title=\"Convert this dataframe to an interactive table.\"\n",
              "              style=\"display:none;\">\n",
              "        \n",
              "  <svg xmlns=\"http://www.w3.org/2000/svg\" height=\"24px\"viewBox=\"0 0 24 24\"\n",
              "       width=\"24px\">\n",
              "    <path d=\"M0 0h24v24H0V0z\" fill=\"none\"/>\n",
              "    <path d=\"M18.56 5.44l.94 2.06.94-2.06 2.06-.94-2.06-.94-.94-2.06-.94 2.06-2.06.94zm-11 1L8.5 8.5l.94-2.06 2.06-.94-2.06-.94L8.5 2.5l-.94 2.06-2.06.94zm10 10l.94 2.06.94-2.06 2.06-.94-2.06-.94-.94-2.06-.94 2.06-2.06.94z\"/><path d=\"M17.41 7.96l-1.37-1.37c-.4-.4-.92-.59-1.43-.59-.52 0-1.04.2-1.43.59L10.3 9.45l-7.72 7.72c-.78.78-.78 2.05 0 2.83L4 21.41c.39.39.9.59 1.41.59.51 0 1.02-.2 1.41-.59l7.78-7.78 2.81-2.81c.8-.78.8-2.07 0-2.86zM5.41 20L4 18.59l7.72-7.72 1.47 1.35L5.41 20z\"/>\n",
              "  </svg>\n",
              "      </button>\n",
              "      \n",
              "  <style>\n",
              "    .colab-df-container {\n",
              "      display:flex;\n",
              "      flex-wrap:wrap;\n",
              "      gap: 12px;\n",
              "    }\n",
              "\n",
              "    .colab-df-convert {\n",
              "      background-color: #E8F0FE;\n",
              "      border: none;\n",
              "      border-radius: 50%;\n",
              "      cursor: pointer;\n",
              "      display: none;\n",
              "      fill: #1967D2;\n",
              "      height: 32px;\n",
              "      padding: 0 0 0 0;\n",
              "      width: 32px;\n",
              "    }\n",
              "\n",
              "    .colab-df-convert:hover {\n",
              "      background-color: #E2EBFA;\n",
              "      box-shadow: 0px 1px 2px rgba(60, 64, 67, 0.3), 0px 1px 3px 1px rgba(60, 64, 67, 0.15);\n",
              "      fill: #174EA6;\n",
              "    }\n",
              "\n",
              "    [theme=dark] .colab-df-convert {\n",
              "      background-color: #3B4455;\n",
              "      fill: #D2E3FC;\n",
              "    }\n",
              "\n",
              "    [theme=dark] .colab-df-convert:hover {\n",
              "      background-color: #434B5C;\n",
              "      box-shadow: 0px 1px 3px 1px rgba(0, 0, 0, 0.15);\n",
              "      filter: drop-shadow(0px 1px 2px rgba(0, 0, 0, 0.3));\n",
              "      fill: #FFFFFF;\n",
              "    }\n",
              "  </style>\n",
              "\n",
              "      <script>\n",
              "        const buttonEl =\n",
              "          document.querySelector('#df-f4682109-4491-4702-8c42-bdad1108fe5b button.colab-df-convert');\n",
              "        buttonEl.style.display =\n",
              "          google.colab.kernel.accessAllowed ? 'block' : 'none';\n",
              "\n",
              "        async function convertToInteractive(key) {\n",
              "          const element = document.querySelector('#df-f4682109-4491-4702-8c42-bdad1108fe5b');\n",
              "          const dataTable =\n",
              "            await google.colab.kernel.invokeFunction('convertToInteractive',\n",
              "                                                     [key], {});\n",
              "          if (!dataTable) return;\n",
              "\n",
              "          const docLinkHtml = 'Like what you see? Visit the ' +\n",
              "            '<a target=\"_blank\" href=https://colab.research.google.com/notebooks/data_table.ipynb>data table notebook</a>'\n",
              "            + ' to learn more about interactive tables.';\n",
              "          element.innerHTML = '';\n",
              "          dataTable['output_type'] = 'display_data';\n",
              "          await google.colab.output.renderOutput(dataTable, element);\n",
              "          const docLink = document.createElement('div');\n",
              "          docLink.innerHTML = docLinkHtml;\n",
              "          element.appendChild(docLink);\n",
              "        }\n",
              "      </script>\n",
              "    </div>\n",
              "  </div>\n",
              "  "
            ]
          },
          "metadata": {},
          "execution_count": 565
        }
      ]
    },
    {
      "cell_type": "markdown",
      "source": [
        "##### Checking Category, Genres and Broad Genres"
      ],
      "metadata": {
        "id": "AWyQ9_0XFNFb"
      }
    },
    {
      "cell_type": "code",
      "source": [
        "df[['Category','Genres','Genres_board']].sample(10)"
      ],
      "metadata": {
        "colab": {
          "base_uri": "https://localhost:8080/",
          "height": 363
        },
        "id": "86as0QJqFLpe",
        "outputId": "0a51c0bc-42d1-4e07-c5c9-e9d9c0e8a441"
      },
      "execution_count": 568,
      "outputs": [
        {
          "output_type": "execute_result",
          "data": {
            "text/plain": [
              "           Category                   Genres             Genres_board\n",
              "2700       SHOPPING                 Shopping                 Shopping\n",
              "3312          TOOLS                    Tools                    Tools\n",
              "7542          TOOLS                    Tools                    Tools\n",
              "4519       BUSINESS                 Business                 Business\n",
              "5566         FAMILY            Entertainment            Entertainment\n",
              "4287        FINANCE                  Finance                  Finance\n",
              "8181         FAMILY            Entertainment            Entertainment\n",
              "3337          TOOLS                    Tools                    Tools\n",
              "5791  VIDEO_PLAYERS  Video Players & Editors  Video Players & Editors\n",
              "1941           GAME                   Action                   Action"
            ],
            "text/html": [
              "\n",
              "  <div id=\"df-f30fe22d-3b2c-46e6-935f-369ad270dc9e\">\n",
              "    <div class=\"colab-df-container\">\n",
              "      <div>\n",
              "<style scoped>\n",
              "    .dataframe tbody tr th:only-of-type {\n",
              "        vertical-align: middle;\n",
              "    }\n",
              "\n",
              "    .dataframe tbody tr th {\n",
              "        vertical-align: top;\n",
              "    }\n",
              "\n",
              "    .dataframe thead th {\n",
              "        text-align: right;\n",
              "    }\n",
              "</style>\n",
              "<table border=\"1\" class=\"dataframe\">\n",
              "  <thead>\n",
              "    <tr style=\"text-align: right;\">\n",
              "      <th></th>\n",
              "      <th>Category</th>\n",
              "      <th>Genres</th>\n",
              "      <th>Genres_board</th>\n",
              "    </tr>\n",
              "  </thead>\n",
              "  <tbody>\n",
              "    <tr>\n",
              "      <th>2700</th>\n",
              "      <td>SHOPPING</td>\n",
              "      <td>Shopping</td>\n",
              "      <td>Shopping</td>\n",
              "    </tr>\n",
              "    <tr>\n",
              "      <th>3312</th>\n",
              "      <td>TOOLS</td>\n",
              "      <td>Tools</td>\n",
              "      <td>Tools</td>\n",
              "    </tr>\n",
              "    <tr>\n",
              "      <th>7542</th>\n",
              "      <td>TOOLS</td>\n",
              "      <td>Tools</td>\n",
              "      <td>Tools</td>\n",
              "    </tr>\n",
              "    <tr>\n",
              "      <th>4519</th>\n",
              "      <td>BUSINESS</td>\n",
              "      <td>Business</td>\n",
              "      <td>Business</td>\n",
              "    </tr>\n",
              "    <tr>\n",
              "      <th>5566</th>\n",
              "      <td>FAMILY</td>\n",
              "      <td>Entertainment</td>\n",
              "      <td>Entertainment</td>\n",
              "    </tr>\n",
              "    <tr>\n",
              "      <th>4287</th>\n",
              "      <td>FINANCE</td>\n",
              "      <td>Finance</td>\n",
              "      <td>Finance</td>\n",
              "    </tr>\n",
              "    <tr>\n",
              "      <th>8181</th>\n",
              "      <td>FAMILY</td>\n",
              "      <td>Entertainment</td>\n",
              "      <td>Entertainment</td>\n",
              "    </tr>\n",
              "    <tr>\n",
              "      <th>3337</th>\n",
              "      <td>TOOLS</td>\n",
              "      <td>Tools</td>\n",
              "      <td>Tools</td>\n",
              "    </tr>\n",
              "    <tr>\n",
              "      <th>5791</th>\n",
              "      <td>VIDEO_PLAYERS</td>\n",
              "      <td>Video Players &amp; Editors</td>\n",
              "      <td>Video Players &amp; Editors</td>\n",
              "    </tr>\n",
              "    <tr>\n",
              "      <th>1941</th>\n",
              "      <td>GAME</td>\n",
              "      <td>Action</td>\n",
              "      <td>Action</td>\n",
              "    </tr>\n",
              "  </tbody>\n",
              "</table>\n",
              "</div>\n",
              "      <button class=\"colab-df-convert\" onclick=\"convertToInteractive('df-f30fe22d-3b2c-46e6-935f-369ad270dc9e')\"\n",
              "              title=\"Convert this dataframe to an interactive table.\"\n",
              "              style=\"display:none;\">\n",
              "        \n",
              "  <svg xmlns=\"http://www.w3.org/2000/svg\" height=\"24px\"viewBox=\"0 0 24 24\"\n",
              "       width=\"24px\">\n",
              "    <path d=\"M0 0h24v24H0V0z\" fill=\"none\"/>\n",
              "    <path d=\"M18.56 5.44l.94 2.06.94-2.06 2.06-.94-2.06-.94-.94-2.06-.94 2.06-2.06.94zm-11 1L8.5 8.5l.94-2.06 2.06-.94-2.06-.94L8.5 2.5l-.94 2.06-2.06.94zm10 10l.94 2.06.94-2.06 2.06-.94-2.06-.94-.94-2.06-.94 2.06-2.06.94z\"/><path d=\"M17.41 7.96l-1.37-1.37c-.4-.4-.92-.59-1.43-.59-.52 0-1.04.2-1.43.59L10.3 9.45l-7.72 7.72c-.78.78-.78 2.05 0 2.83L4 21.41c.39.39.9.59 1.41.59.51 0 1.02-.2 1.41-.59l7.78-7.78 2.81-2.81c.8-.78.8-2.07 0-2.86zM5.41 20L4 18.59l7.72-7.72 1.47 1.35L5.41 20z\"/>\n",
              "  </svg>\n",
              "      </button>\n",
              "      \n",
              "  <style>\n",
              "    .colab-df-container {\n",
              "      display:flex;\n",
              "      flex-wrap:wrap;\n",
              "      gap: 12px;\n",
              "    }\n",
              "\n",
              "    .colab-df-convert {\n",
              "      background-color: #E8F0FE;\n",
              "      border: none;\n",
              "      border-radius: 50%;\n",
              "      cursor: pointer;\n",
              "      display: none;\n",
              "      fill: #1967D2;\n",
              "      height: 32px;\n",
              "      padding: 0 0 0 0;\n",
              "      width: 32px;\n",
              "    }\n",
              "\n",
              "    .colab-df-convert:hover {\n",
              "      background-color: #E2EBFA;\n",
              "      box-shadow: 0px 1px 2px rgba(60, 64, 67, 0.3), 0px 1px 3px 1px rgba(60, 64, 67, 0.15);\n",
              "      fill: #174EA6;\n",
              "    }\n",
              "\n",
              "    [theme=dark] .colab-df-convert {\n",
              "      background-color: #3B4455;\n",
              "      fill: #D2E3FC;\n",
              "    }\n",
              "\n",
              "    [theme=dark] .colab-df-convert:hover {\n",
              "      background-color: #434B5C;\n",
              "      box-shadow: 0px 1px 3px 1px rgba(0, 0, 0, 0.15);\n",
              "      filter: drop-shadow(0px 1px 2px rgba(0, 0, 0, 0.3));\n",
              "      fill: #FFFFFF;\n",
              "    }\n",
              "  </style>\n",
              "\n",
              "      <script>\n",
              "        const buttonEl =\n",
              "          document.querySelector('#df-f30fe22d-3b2c-46e6-935f-369ad270dc9e button.colab-df-convert');\n",
              "        buttonEl.style.display =\n",
              "          google.colab.kernel.accessAllowed ? 'block' : 'none';\n",
              "\n",
              "        async function convertToInteractive(key) {\n",
              "          const element = document.querySelector('#df-f30fe22d-3b2c-46e6-935f-369ad270dc9e');\n",
              "          const dataTable =\n",
              "            await google.colab.kernel.invokeFunction('convertToInteractive',\n",
              "                                                     [key], {});\n",
              "          if (!dataTable) return;\n",
              "\n",
              "          const docLinkHtml = 'Like what you see? Visit the ' +\n",
              "            '<a target=\"_blank\" href=https://colab.research.google.com/notebooks/data_table.ipynb>data table notebook</a>'\n",
              "            + ' to learn more about interactive tables.';\n",
              "          element.innerHTML = '';\n",
              "          dataTable['output_type'] = 'display_data';\n",
              "          await google.colab.output.renderOutput(dataTable, element);\n",
              "          const docLink = document.createElement('div');\n",
              "          docLink.innerHTML = docLinkHtml;\n",
              "          element.appendChild(docLink);\n",
              "        }\n",
              "      </script>\n",
              "    </div>\n",
              "  </div>\n",
              "  "
            ]
          },
          "metadata": {},
          "execution_count": 568
        }
      ]
    },
    {
      "cell_type": "markdown",
      "source": [
        "They are looking like the same but lets again check their unique values"
      ],
      "metadata": {
        "id": "NzFDaKUuFp7o"
      }
    },
    {
      "cell_type": "code",
      "source": [
        "print(df['Category'].unique().tolist())\n",
        "print(df['Genres_board'].unique().tolist())\n",
        "print(df['Genres'].unique().tolist())\n"
      ],
      "metadata": {
        "colab": {
          "base_uri": "https://localhost:8080/"
        },
        "id": "xifruPSUFKwz",
        "outputId": "c524f5be-192b-4bd0-de2f-d94d6d877823"
      },
      "execution_count": 569,
      "outputs": [
        {
          "output_type": "stream",
          "name": "stdout",
          "text": [
            "['ART_AND_DESIGN', 'AUTO_AND_VEHICLES', 'BEAUTY', 'BOOKS_AND_REFERENCE', 'BUSINESS', 'COMICS', 'COMMUNICATION', 'DATING', 'EDUCATION', 'ENTERTAINMENT', 'EVENTS', 'FINANCE', 'FOOD_AND_DRINK', 'HEALTH_AND_FITNESS', 'HOUSE_AND_HOME', 'LIBRARIES_AND_DEMO', 'LIFESTYLE', 'GAME', 'FAMILY', 'MEDICAL', 'SOCIAL', 'SHOPPING', 'PHOTOGRAPHY', 'SPORTS', 'TRAVEL_AND_LOCAL', 'TOOLS', 'PERSONALIZATION', 'PRODUCTIVITY', 'PARENTING', 'WEATHER', 'VIDEO_PLAYERS', 'NEWS_AND_MAGAZINES', 'MAPS_AND_NAVIGATION']\n",
            "['Art & Design', 'Auto & Vehicles', 'Beauty', 'Books & Reference', 'Business', 'Comics', 'Communication', 'Dating', 'Education', 'Entertainment', 'Events', 'Finance', 'Food & Drink', 'Health & Fitness', 'House & Home', 'Libraries & Demo', 'Lifestyle', 'Adventure', 'Arcade', 'Casual', 'Card', 'Action', 'Strategy', 'Puzzle', 'Sports', 'Music', 'Word', 'Racing', 'Simulation', 'Board', 'Trivia', 'Role Playing', 'Educational', 'Music & Audio', 'Video Players & Editors', 'Medical', 'Social', 'Shopping', 'Photography', 'Travel & Local', 'Tools', 'Personalization', 'Productivity', 'Parenting', 'Weather', 'News & Magazines', 'Maps & Navigation', 'Casino']\n",
            "['Art & Design', 'Art & Design;Pretend Play', 'Art & Design;Creativity', 'Auto & Vehicles', 'Beauty', 'Books & Reference', 'Business', 'Comics', 'Comics;Creativity', 'Communication', 'Dating', 'Education;Education', 'Education', 'Education;Creativity', 'Education;Music & Video', 'Education;Action & Adventure', 'Education;Pretend Play', 'Education;Brain Games', 'Entertainment', 'Entertainment;Music & Video', 'Entertainment;Brain Games', 'Entertainment;Creativity', 'Events', 'Finance', 'Food & Drink', 'Health & Fitness', 'House & Home', 'Libraries & Demo', 'Lifestyle', 'Lifestyle;Pretend Play', 'Adventure;Action & Adventure', 'Arcade', 'Casual', 'Card', 'Casual;Pretend Play', 'Action', 'Strategy', 'Puzzle', 'Sports', 'Music', 'Word', 'Racing', 'Casual;Creativity', 'Casual;Action & Adventure', 'Simulation', 'Adventure', 'Board', 'Trivia', 'Role Playing', 'Simulation;Education', 'Action;Action & Adventure', 'Casual;Brain Games', 'Simulation;Action & Adventure', 'Educational;Creativity', 'Puzzle;Brain Games', 'Educational;Education', 'Card;Brain Games', 'Educational;Brain Games', 'Educational;Pretend Play', 'Entertainment;Education', 'Casual;Education', 'Music;Music & Video', 'Racing;Action & Adventure', 'Arcade;Pretend Play', 'Role Playing;Action & Adventure', 'Simulation;Pretend Play', 'Puzzle;Creativity', 'Sports;Action & Adventure', 'Educational;Action & Adventure', 'Arcade;Action & Adventure', 'Entertainment;Action & Adventure', 'Puzzle;Action & Adventure', 'Strategy;Action & Adventure', 'Music & Audio;Music & Video', 'Health & Fitness;Education', 'Adventure;Education', 'Board;Brain Games', 'Board;Action & Adventure', 'Board;Pretend Play', 'Casual;Music & Video', 'Role Playing;Pretend Play', 'Entertainment;Pretend Play', 'Video Players & Editors;Creativity', 'Card;Action & Adventure', 'Medical', 'Social', 'Shopping', 'Photography', 'Travel & Local', 'Travel & Local;Action & Adventure', 'Tools', 'Tools;Education', 'Personalization', 'Productivity', 'Parenting', 'Parenting;Music & Video', 'Parenting;Brain Games', 'Parenting;Education', 'Weather', 'Video Players & Editors', 'Video Players & Editors;Music & Video', 'News & Magazines', 'Maps & Navigation', 'Health & Fitness;Action & Adventure', 'Educational', 'Casino', 'Adventure;Brain Games', 'Lifestyle;Education', 'Books & Reference;Education', 'Puzzle;Education', 'Role Playing;Brain Games', 'Strategy;Education', 'Racing;Pretend Play', 'Communication;Creativity', 'Strategy;Creativity']\n"
          ]
        }
      ]
    },
    {
      "cell_type": "markdown",
      "source": [
        "Category is slightly different than the Genres_board but Genres is too much different than the Generes_board and Generes board is sub set of the Genres so we are removing Generes"
      ],
      "metadata": {
        "id": "Ms0VRYMoGwTw"
      }
    },
    {
      "cell_type": "code",
      "source": [
        "#deleting the Genres columns\n",
        "df.drop(\"Genres\",inplace = True,axis = 1)"
      ],
      "metadata": {
        "id": "3vidy74GGlgq"
      },
      "execution_count": 573,
      "outputs": []
    },
    {
      "cell_type": "markdown",
      "source": [
        "### What all manipulations have you done and insights you found?"
      ],
      "metadata": {
        "id": "MSa1f5Uengrz"
      }
    },
    {
      "cell_type": "markdown",
      "source": [
        "Manupulation done in the data is given by :\n",
        "* Review:\n",
        "  * we converted type to proper type i.e int\n",
        "* Rating:\n",
        "  * we deleted the 14.14 % of data as it contains the NULL/NA values\n",
        "  * We have removed the outliers i.e 19 as rating can only range from 1-5\n",
        "  * we converted type to proper type i.e float \n",
        "* Size:\n",
        "  * we converted type to proper type i.e float \n",
        "  * It contains the values with M - Million and K - thousand. So we removed these and converted K to the Million.\n",
        "  * It contained \"Varies with device\" that is replaced with NAN\n",
        "  * Null values are imputed with mean\n",
        "* Installs\n",
        "  * It contains character like \"+\", \"&\" and \",\" in the Installs field So they are removed.\n",
        "  * Its field is converted to the int\n",
        "* Price\n",
        "  * It contains character \"$\" in the every fields of the Price so it need to be removed from every field.\n",
        "  * It is string type so it needed to converted to float.\n",
        "* Genres:\n",
        "  * It basically contains the two part i.e Genres and its sub Genres. so it needed to create two columns with two parts. i.e Genres_board and Sub_genres. After creating new columns, it does not have any work as it also resemble too much with category so we removed the genres."
      ],
      "metadata": {
        "id": "LbyXE7I1olp8"
      }
    },
    {
      "cell_type": "markdown",
      "source": [
        "## ***4. Data Vizualization, Storytelling & Experimenting with charts : Understand the relationships between variables***"
      ],
      "metadata": {
        "id": "GF8Ens_Soomf"
      }
    },
    {
      "cell_type": "markdown",
      "source": [
        "#### Chart - 1 Word cloud of App"
      ],
      "metadata": {
        "id": "0wOQAZs5pc--"
      }
    },
    {
      "cell_type": "code",
      "source": [
        "# Chart - 1 visualization code\n",
        "text2 = \" \".join(title for title in df.App)\n",
        " \n",
        "# Creating word_cloud with text as argument in .generate() method\n",
        "\n",
        "word_cloud2 = WordCloud(collocations = False, background_color = 'white').generate(text2)\n",
        "\n",
        "# Display the generated Word Cloud\n",
        "\n",
        "plt.imshow(word_cloud2, interpolation='bilinear')\n",
        "\n",
        "plt.axis(\"off\")\n",
        "\n",
        "plt.show()"
      ],
      "metadata": {
        "colab": {
          "base_uri": "https://localhost:8080/",
          "height": 198
        },
        "id": "lop5hxXJQWMv",
        "outputId": "e69638b0-50b5-4ccc-ba99-2b1500030280"
      },
      "execution_count": 585,
      "outputs": [
        {
          "output_type": "display_data",
          "data": {
            "text/plain": [
              "<Figure size 432x288 with 1 Axes>"
            ],
            "image/png": "[encoded data removed]"
          },
          "metadata": {
            "needs_background": "light"
          }
        }
      ]
    },
    {
      "cell_type": "markdown",
      "source": [
        "##### 1. Why did you pick the specific chart?"
      ],
      "metadata": {
        "id": "K5QZ13OEpz2H"
      }
    },
    {
      "cell_type": "markdown",
      "source": [
        "Tag Clouds is a visualization technique for texts that are natively used for visualizing the tags or keywords from data source.These keywords are single words that depict the context of the whole documents.These words are clustered together to form a word cloud\n",
        "Word Clouds came out to be a game-changer visualization technique for understanding and determining patterns and evolving trends. \n",
        "Each word has variable font size and color tone.Thus this representation helps to determine words of prominence.  bigger font size of a word portrays its prominence more relative to other words in the cluster. Mostly Frequency of words define the shape and size of the word."
      ],
      "metadata": {
        "id": "XESiWehPqBRc"
      }
    },
    {
      "cell_type": "markdown",
      "source": [
        "##### 2. What is/are the insight(s) found from the chart?"
      ],
      "metadata": {
        "id": "lQ7QKXXCp7Bj"
      }
    },
    {
      "cell_type": "markdown",
      "source": [
        "Insights are: \n",
        "* Mostly Free app are used and is in the trends nowadays\n",
        "* The most used app types are Game, mobile, Photo,live,camera etc"
      ],
      "metadata": {
        "id": "C_j1G7yiqdRP"
      }
    },
    {
      "cell_type": "markdown",
      "source": [
        "##### 3. Will the gained insights help creating a positive business impact? \n",
        "Are there any insights that lead to negative growth? Justify with specific reason."
      ],
      "metadata": {
        "id": "448CDAPjqfQr"
      }
    },
    {
      "cell_type": "markdown",
      "source": [
        "* It can be seen that mostly free app are used. It can lead the business to downgrade if everbody want to use the freee app then it will be impossible for  any organization to earn profit.\n",
        "* Mostly used app are associated with gamming, mobile, photo, live, camera, chat and so on. This kind of app shows that social networking kind of app will be mostly used in present and future."
      ],
      "metadata": {
        "id": "3cspy4FjqxJW"
      }
    },
    {
      "cell_type": "markdown",
      "source": [
        "#### Chart - 2"
      ],
      "metadata": {
        "id": "KSlN3yHqYklG"
      }
    },
    {
      "cell_type": "code",
      "source": [
        "# Chart - 2 visualization code"
      ],
      "metadata": {
        "id": "R4YgtaqtYklH"
      },
      "execution_count": 541,
      "outputs": []
    },
    {
      "cell_type": "markdown",
      "source": [
        "##### 1. Why did you pick the specific chart?"
      ],
      "metadata": {
        "id": "t6dVpIINYklI"
      }
    },
    {
      "cell_type": "markdown",
      "source": [
        "Answer Here."
      ],
      "metadata": {
        "id": "5aaW0BYyYklI"
      }
    },
    {
      "cell_type": "markdown",
      "source": [
        "##### 2. What is/are the insight(s) found from the chart?"
      ],
      "metadata": {
        "id": "ijmpgYnKYklI"
      }
    },
    {
      "cell_type": "markdown",
      "source": [
        "Answer Here"
      ],
      "metadata": {
        "id": "PSx9atu2YklI"
      }
    },
    {
      "cell_type": "markdown",
      "source": [
        "##### 3. Will the gained insights help creating a positive business impact? \n",
        "Are there any insights that lead to negative growth? Justify with specific reason."
      ],
      "metadata": {
        "id": "-JiQyfWJYklI"
      }
    },
    {
      "cell_type": "markdown",
      "source": [
        "Answer Here"
      ],
      "metadata": {
        "id": "BcBbebzrYklV"
      }
    },
    {
      "cell_type": "markdown",
      "source": [
        "#### Chart - 3"
      ],
      "metadata": {
        "id": "EM7whBJCYoAo"
      }
    },
    {
      "cell_type": "code",
      "source": [
        "# Chart - 3 visualization code"
      ],
      "metadata": {
        "id": "t6GMdE67YoAp"
      },
      "execution_count": 542,
      "outputs": []
    },
    {
      "cell_type": "markdown",
      "source": [
        "##### 1. Why did you pick the specific chart?"
      ],
      "metadata": {
        "id": "fge-S5ZAYoAp"
      }
    },
    {
      "cell_type": "markdown",
      "source": [
        "Answer Here."
      ],
      "metadata": {
        "id": "5dBItgRVYoAp"
      }
    },
    {
      "cell_type": "markdown",
      "source": [
        "##### 2. What is/are the insight(s) found from the chart?"
      ],
      "metadata": {
        "id": "85gYPyotYoAp"
      }
    },
    {
      "cell_type": "markdown",
      "source": [
        "Answer Here"
      ],
      "metadata": {
        "id": "4jstXR6OYoAp"
      }
    },
    {
      "cell_type": "markdown",
      "source": [
        "##### 3. Will the gained insights help creating a positive business impact? \n",
        "Are there any insights that lead to negative growth? Justify with specific reason."
      ],
      "metadata": {
        "id": "RoGjAbkUYoAp"
      }
    },
    {
      "cell_type": "markdown",
      "source": [
        "Answer Here"
      ],
      "metadata": {
        "id": "zfJ8IqMcYoAp"
      }
    },
    {
      "cell_type": "markdown",
      "source": [
        "#### Chart - 4"
      ],
      "metadata": {
        "id": "4Of9eVA-YrdM"
      }
    },
    {
      "cell_type": "code",
      "source": [
        "# Chart - 4 visualization code"
      ],
      "metadata": {
        "id": "irlUoxc8YrdO"
      },
      "execution_count": 543,
      "outputs": []
    },
    {
      "cell_type": "markdown",
      "source": [
        "##### 1. Why did you pick the specific chart?"
      ],
      "metadata": {
        "id": "iky9q4vBYrdO"
      }
    },
    {
      "cell_type": "markdown",
      "source": [
        "Answer Here."
      ],
      "metadata": {
        "id": "aJRCwT6DYrdO"
      }
    },
    {
      "cell_type": "markdown",
      "source": [
        "##### 2. What is/are the insight(s) found from the chart?"
      ],
      "metadata": {
        "id": "F6T5p64dYrdO"
      }
    },
    {
      "cell_type": "markdown",
      "source": [
        "Answer Here"
      ],
      "metadata": {
        "id": "Xx8WAJvtYrdO"
      }
    },
    {
      "cell_type": "markdown",
      "source": [
        "##### 3. Will the gained insights help creating a positive business impact? \n",
        "Are there any insights that lead to negative growth? Justify with specific reason."
      ],
      "metadata": {
        "id": "y-Ehk30pYrdP"
      }
    },
    {
      "cell_type": "markdown",
      "source": [
        "Answer Here"
      ],
      "metadata": {
        "id": "jLNxxz7MYrdP"
      }
    },
    {
      "cell_type": "markdown",
      "source": [
        "#### Chart - 5"
      ],
      "metadata": {
        "id": "bamQiAODYuh1"
      }
    },
    {
      "cell_type": "code",
      "source": [
        "# Chart - 5 visualization code"
      ],
      "metadata": {
        "id": "TIJwrbroYuh3"
      },
      "execution_count": 544,
      "outputs": []
    },
    {
      "cell_type": "markdown",
      "source": [
        "##### 1. Why did you pick the specific chart?"
      ],
      "metadata": {
        "id": "QHF8YVU7Yuh3"
      }
    },
    {
      "cell_type": "markdown",
      "source": [
        "Answer Here."
      ],
      "metadata": {
        "id": "dcxuIMRPYuh3"
      }
    },
    {
      "cell_type": "markdown",
      "source": [
        "##### 2. What is/are the insight(s) found from the chart?"
      ],
      "metadata": {
        "id": "GwzvFGzlYuh3"
      }
    },
    {
      "cell_type": "markdown",
      "source": [
        "Answer Here"
      ],
      "metadata": {
        "id": "uyqkiB8YYuh3"
      }
    },
    {
      "cell_type": "markdown",
      "source": [
        "##### 3. Will the gained insights help creating a positive business impact? \n",
        "Are there any insights that lead to negative growth? Justify with specific reason."
      ],
      "metadata": {
        "id": "qYpmQ266Yuh3"
      }
    },
    {
      "cell_type": "markdown",
      "source": [
        "Answer Here"
      ],
      "metadata": {
        "id": "_WtzZ_hCYuh4"
      }
    },
    {
      "cell_type": "markdown",
      "source": [
        "#### Chart - 6"
      ],
      "metadata": {
        "id": "OH-pJp9IphqM"
      }
    },
    {
      "cell_type": "code",
      "source": [
        "# Chart - 6 visualization code"
      ],
      "metadata": {
        "id": "kuRf4wtuphqN"
      },
      "execution_count": 545,
      "outputs": []
    },
    {
      "cell_type": "markdown",
      "source": [
        "##### 1. Why did you pick the specific chart?"
      ],
      "metadata": {
        "id": "bbFf2-_FphqN"
      }
    },
    {
      "cell_type": "markdown",
      "source": [
        "Answer Here."
      ],
      "metadata": {
        "id": "loh7H2nzphqN"
      }
    },
    {
      "cell_type": "markdown",
      "source": [
        "##### 2. What is/are the insight(s) found from the chart?"
      ],
      "metadata": {
        "id": "_ouA3fa0phqN"
      }
    },
    {
      "cell_type": "markdown",
      "source": [
        "Answer Here"
      ],
      "metadata": {
        "id": "VECbqPI7phqN"
      }
    },
    {
      "cell_type": "markdown",
      "source": [
        "##### 3. Will the gained insights help creating a positive business impact? \n",
        "Are there any insights that lead to negative growth? Justify with specific reason."
      ],
      "metadata": {
        "id": "Seke61FWphqN"
      }
    },
    {
      "cell_type": "markdown",
      "source": [
        "Answer Here"
      ],
      "metadata": {
        "id": "DW4_bGpfphqN"
      }
    },
    {
      "cell_type": "markdown",
      "source": [
        "#### Chart - 7"
      ],
      "metadata": {
        "id": "PIIx-8_IphqN"
      }
    },
    {
      "cell_type": "code",
      "source": [
        "# Chart - 7 visualization code"
      ],
      "metadata": {
        "id": "lqAIGUfyphqO"
      },
      "execution_count": 546,
      "outputs": []
    },
    {
      "cell_type": "markdown",
      "source": [
        "##### 1. Why did you pick the specific chart?"
      ],
      "metadata": {
        "id": "t27r6nlMphqO"
      }
    },
    {
      "cell_type": "markdown",
      "source": [
        "Answer Here."
      ],
      "metadata": {
        "id": "iv6ro40sphqO"
      }
    },
    {
      "cell_type": "markdown",
      "source": [
        "##### 2. What is/are the insight(s) found from the chart?"
      ],
      "metadata": {
        "id": "r2jJGEOYphqO"
      }
    },
    {
      "cell_type": "markdown",
      "source": [
        "Answer Here"
      ],
      "metadata": {
        "id": "Po6ZPi4hphqO"
      }
    },
    {
      "cell_type": "markdown",
      "source": [
        "##### 3. Will the gained insights help creating a positive business impact? \n",
        "Are there any insights that lead to negative growth? Justify with specific reason."
      ],
      "metadata": {
        "id": "b0JNsNcRphqO"
      }
    },
    {
      "cell_type": "markdown",
      "source": [
        "Answer Here"
      ],
      "metadata": {
        "id": "xvSq8iUTphqO"
      }
    },
    {
      "cell_type": "markdown",
      "source": [
        "#### Chart - 8"
      ],
      "metadata": {
        "id": "BZR9WyysphqO"
      }
    },
    {
      "cell_type": "code",
      "source": [
        "# Chart - 8 visualization code"
      ],
      "metadata": {
        "id": "TdPTWpAVphqO"
      },
      "execution_count": 547,
      "outputs": []
    },
    {
      "cell_type": "markdown",
      "source": [
        "##### 1. Why did you pick the specific chart?"
      ],
      "metadata": {
        "id": "jj7wYXLtphqO"
      }
    },
    {
      "cell_type": "markdown",
      "source": [
        "Answer Here."
      ],
      "metadata": {
        "id": "Ob8u6rCTphqO"
      }
    },
    {
      "cell_type": "markdown",
      "source": [
        "##### 2. What is/are the insight(s) found from the chart?"
      ],
      "metadata": {
        "id": "eZrbJ2SmphqO"
      }
    },
    {
      "cell_type": "markdown",
      "source": [
        "Answer Here"
      ],
      "metadata": {
        "id": "mZtgC_hjphqO"
      }
    },
    {
      "cell_type": "markdown",
      "source": [
        "##### 3. Will the gained insights help creating a positive business impact? \n",
        "Are there any insights that lead to negative growth? Justify with specific reason."
      ],
      "metadata": {
        "id": "rFu4xreNphqO"
      }
    },
    {
      "cell_type": "markdown",
      "source": [
        "Answer Here"
      ],
      "metadata": {
        "id": "ey_0qi68phqO"
      }
    },
    {
      "cell_type": "markdown",
      "source": [
        "#### Chart - 9"
      ],
      "metadata": {
        "id": "YJ55k-q6phqO"
      }
    },
    {
      "cell_type": "code",
      "source": [
        "# Chart - 9 visualization code"
      ],
      "metadata": {
        "id": "B2aS4O1ophqO"
      },
      "execution_count": 548,
      "outputs": []
    },
    {
      "cell_type": "markdown",
      "source": [
        "##### 1. Why did you pick the specific chart?"
      ],
      "metadata": {
        "id": "gCFgpxoyphqP"
      }
    },
    {
      "cell_type": "markdown",
      "source": [
        "Answer Here."
      ],
      "metadata": {
        "id": "TVxDimi2phqP"
      }
    },
    {
      "cell_type": "markdown",
      "source": [
        "##### 2. What is/are the insight(s) found from the chart?"
      ],
      "metadata": {
        "id": "OVtJsKN_phqQ"
      }
    },
    {
      "cell_type": "markdown",
      "source": [
        "Answer Here"
      ],
      "metadata": {
        "id": "ngGi97qjphqQ"
      }
    },
    {
      "cell_type": "markdown",
      "source": [
        "##### 3. Will the gained insights help creating a positive business impact? \n",
        "Are there any insights that lead to negative growth? Justify with specific reason."
      ],
      "metadata": {
        "id": "lssrdh5qphqQ"
      }
    },
    {
      "cell_type": "markdown",
      "source": [
        "Answer Here"
      ],
      "metadata": {
        "id": "tBpY5ekJphqQ"
      }
    },
    {
      "cell_type": "markdown",
      "source": [
        "#### Chart - 10"
      ],
      "metadata": {
        "id": "U2RJ9gkRphqQ"
      }
    },
    {
      "cell_type": "code",
      "source": [
        "# Chart - 10 visualization code"
      ],
      "metadata": {
        "id": "GM7a4YP4phqQ"
      },
      "execution_count": 549,
      "outputs": []
    },
    {
      "cell_type": "markdown",
      "source": [
        "##### 1. Why did you pick the specific chart?"
      ],
      "metadata": {
        "id": "1M8mcRywphqQ"
      }
    },
    {
      "cell_type": "markdown",
      "source": [
        "Answer Here."
      ],
      "metadata": {
        "id": "8agQvks0phqQ"
      }
    },
    {
      "cell_type": "markdown",
      "source": [
        "##### 2. What is/are the insight(s) found from the chart?"
      ],
      "metadata": {
        "id": "tgIPom80phqQ"
      }
    },
    {
      "cell_type": "markdown",
      "source": [
        "Answer Here"
      ],
      "metadata": {
        "id": "Qp13pnNzphqQ"
      }
    },
    {
      "cell_type": "markdown",
      "source": [
        "##### 3. Will the gained insights help creating a positive business impact? \n",
        "Are there any insights that lead to negative growth? Justify with specific reason."
      ],
      "metadata": {
        "id": "JMzcOPDDphqR"
      }
    },
    {
      "cell_type": "markdown",
      "source": [
        "Answer Here"
      ],
      "metadata": {
        "id": "R4Ka1PC2phqR"
      }
    },
    {
      "cell_type": "markdown",
      "source": [
        "#### Chart - 11"
      ],
      "metadata": {
        "id": "x-EpHcCOp1ci"
      }
    },
    {
      "cell_type": "code",
      "source": [
        "# Chart - 11 visualization code"
      ],
      "metadata": {
        "id": "mAQTIvtqp1cj"
      },
      "execution_count": 550,
      "outputs": []
    },
    {
      "cell_type": "markdown",
      "source": [
        "##### 1. Why did you pick the specific chart?"
      ],
      "metadata": {
        "id": "X_VqEhTip1ck"
      }
    },
    {
      "cell_type": "markdown",
      "source": [
        "Answer Here."
      ],
      "metadata": {
        "id": "-vsMzt_np1ck"
      }
    },
    {
      "cell_type": "markdown",
      "source": [
        "##### 2. What is/are the insight(s) found from the chart?"
      ],
      "metadata": {
        "id": "8zGJKyg5p1ck"
      }
    },
    {
      "cell_type": "markdown",
      "source": [
        "Answer Here"
      ],
      "metadata": {
        "id": "ZYdMsrqVp1ck"
      }
    },
    {
      "cell_type": "markdown",
      "source": [
        "##### 3. Will the gained insights help creating a positive business impact? \n",
        "Are there any insights that lead to negative growth? Justify with specific reason."
      ],
      "metadata": {
        "id": "PVzmfK_Ep1ck"
      }
    },
    {
      "cell_type": "markdown",
      "source": [
        "Answer Here"
      ],
      "metadata": {
        "id": "druuKYZpp1ck"
      }
    },
    {
      "cell_type": "markdown",
      "source": [
        "#### Chart - 12"
      ],
      "metadata": {
        "id": "n3dbpmDWp1ck"
      }
    },
    {
      "cell_type": "code",
      "source": [
        "# Chart - 12 visualization code"
      ],
      "metadata": {
        "id": "bwevp1tKp1ck"
      },
      "execution_count": 551,
      "outputs": []
    },
    {
      "cell_type": "markdown",
      "source": [
        "##### 1. Why did you pick the specific chart?"
      ],
      "metadata": {
        "id": "ylSl6qgtp1ck"
      }
    },
    {
      "cell_type": "markdown",
      "source": [
        "Answer Here."
      ],
      "metadata": {
        "id": "m2xqNkiQp1ck"
      }
    },
    {
      "cell_type": "markdown",
      "source": [
        "##### 2. What is/are the insight(s) found from the chart?"
      ],
      "metadata": {
        "id": "ZWILFDl5p1ck"
      }
    },
    {
      "cell_type": "markdown",
      "source": [
        "Answer Here"
      ],
      "metadata": {
        "id": "x-lUsV2mp1ck"
      }
    },
    {
      "cell_type": "markdown",
      "source": [
        "##### 3. Will the gained insights help creating a positive business impact? \n",
        "Are there any insights that lead to negative growth? Justify with specific reason."
      ],
      "metadata": {
        "id": "M7G43BXep1ck"
      }
    },
    {
      "cell_type": "markdown",
      "source": [
        "Answer Here"
      ],
      "metadata": {
        "id": "5wwDJXsLp1cl"
      }
    },
    {
      "cell_type": "markdown",
      "source": [
        "#### Chart - 13"
      ],
      "metadata": {
        "id": "Ag9LCva-p1cl"
      }
    },
    {
      "cell_type": "code",
      "source": [
        "# Chart - 13 visualization code"
      ],
      "metadata": {
        "id": "EUfxeq9-p1cl"
      },
      "execution_count": 552,
      "outputs": []
    },
    {
      "cell_type": "markdown",
      "source": [
        "##### 1. Why did you pick the specific chart?"
      ],
      "metadata": {
        "id": "E6MkPsBcp1cl"
      }
    },
    {
      "cell_type": "markdown",
      "source": [
        "Answer Here."
      ],
      "metadata": {
        "id": "V22bRsFWp1cl"
      }
    },
    {
      "cell_type": "markdown",
      "source": [
        "##### 2. What is/are the insight(s) found from the chart?"
      ],
      "metadata": {
        "id": "2cELzS2fp1cl"
      }
    },
    {
      "cell_type": "markdown",
      "source": [
        "Answer Here"
      ],
      "metadata": {
        "id": "ozQPc2_Ip1cl"
      }
    },
    {
      "cell_type": "markdown",
      "source": [
        "##### 3. Will the gained insights help creating a positive business impact? \n",
        "Are there any insights that lead to negative growth? Justify with specific reason."
      ],
      "metadata": {
        "id": "3MPXvC8up1cl"
      }
    },
    {
      "cell_type": "markdown",
      "source": [
        "Answer Here"
      ],
      "metadata": {
        "id": "GL8l1tdLp1cl"
      }
    },
    {
      "cell_type": "markdown",
      "source": [
        "#### Chart - 14 - Correlation Heatmap"
      ],
      "metadata": {
        "id": "NC_X3p0fY2L0"
      }
    },
    {
      "cell_type": "code",
      "source": [
        "# Correlation Heatmap visualization code"
      ],
      "metadata": {
        "id": "xyC9zolEZNRQ"
      },
      "execution_count": 553,
      "outputs": []
    },
    {
      "cell_type": "markdown",
      "source": [
        "##### 1. Why did you pick the specific chart?"
      ],
      "metadata": {
        "id": "UV0SzAkaZNRQ"
      }
    },
    {
      "cell_type": "markdown",
      "source": [
        "Answer Here."
      ],
      "metadata": {
        "id": "DVPuT8LYZNRQ"
      }
    },
    {
      "cell_type": "markdown",
      "source": [
        "##### 2. What is/are the insight(s) found from the chart?"
      ],
      "metadata": {
        "id": "YPEH6qLeZNRQ"
      }
    },
    {
      "cell_type": "markdown",
      "source": [
        "Answer Here"
      ],
      "metadata": {
        "id": "bfSqtnDqZNRR"
      }
    },
    {
      "cell_type": "markdown",
      "source": [
        "#### Chart - 15 - Pair Plot "
      ],
      "metadata": {
        "id": "q29F0dvdveiT"
      }
    },
    {
      "cell_type": "code",
      "source": [
        "# Pair Plot visualization code"
      ],
      "metadata": {
        "id": "o58-TEIhveiU"
      },
      "execution_count": 554,
      "outputs": []
    },
    {
      "cell_type": "markdown",
      "source": [
        "##### 1. Why did you pick the specific chart?"
      ],
      "metadata": {
        "id": "EXh0U9oCveiU"
      }
    },
    {
      "cell_type": "markdown",
      "source": [
        "Answer Here."
      ],
      "metadata": {
        "id": "eMmPjTByveiU"
      }
    },
    {
      "cell_type": "markdown",
      "source": [
        "##### 2. What is/are the insight(s) found from the chart?"
      ],
      "metadata": {
        "id": "22aHeOlLveiV"
      }
    },
    {
      "cell_type": "markdown",
      "source": [
        "Answer Here"
      ],
      "metadata": {
        "id": "uPQ8RGwHveiV"
      }
    },
    {
      "cell_type": "markdown",
      "source": [
        "## **5. Solution to Business Objective**"
      ],
      "metadata": {
        "id": "JcMwzZxoAimU"
      }
    },
    {
      "cell_type": "markdown",
      "source": [
        "#### What do you suggest the client to achieve Business Objective ? \n",
        "Explain Briefly."
      ],
      "metadata": {
        "id": "8G2x9gOozGDZ"
      }
    },
    {
      "cell_type": "markdown",
      "source": [
        "Answer Here."
      ],
      "metadata": {
        "id": "pASKb0qOza21"
      }
    },
    {
      "cell_type": "markdown",
      "source": [
        "# **Conclusion**"
      ],
      "metadata": {
        "id": "gCX9965dhzqZ"
      }
    },
    {
      "cell_type": "markdown",
      "source": [
        "Write the conclusion here."
      ],
      "metadata": {
        "id": "Fjb1IsQkh3yE"
      }
    },
    {
      "cell_type": "markdown",
      "source": [
        "### ***Hurrah! You have successfully completed your EDA Capstone Project !!!***"
      ],
      "metadata": {
        "id": "gIfDvo9L0UH2"
      }
    }
  ]
}